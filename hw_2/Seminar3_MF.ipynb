{
 "cells": [
  {
   "cell_type": "markdown",
   "id": "6a163dba-2862-431f-96d6-96c8d067cfdc",
   "metadata": {},
   "source": [
    "# Семинар 3 \"Матричное разложение\""
   ]
  },
  {
   "cell_type": "markdown",
   "id": "049a6eca-3d22-4448-8ca7-903f0d46acc2",
   "metadata": {},
   "source": [
    "**План:**\n",
    "    \n",
    "    - ALS from scratch\n",
    "    \n",
    "    - MF w/o features\n",
    "    \n",
    "    - MF with features\n",
    "    \n",
    "    - Hot, warm and cold scenarios\n",
    "    \n",
    "    - Factors"
   ]
  },
  {
   "cell_type": "markdown",
   "id": "c3b151e0-89aa-4a1e-93d3-32795ad34022",
   "metadata": {},
   "source": [
    "# ALS from scratch"
   ]
  },
  {
   "cell_type": "code",
   "execution_count": 1,
   "id": "515116bf-1e1a-4389-bc52-79b8a7ea4961",
   "metadata": {},
   "outputs": [],
   "source": [
    "import numpy as np\n",
    "import pandas as pd\n",
    "import seaborn as sns"
   ]
  },
  {
   "cell_type": "markdown",
   "id": "ca509c5f-cfa5-48b2-a0dc-354f083cf607",
   "metadata": {},
   "source": [
    "$$\n",
    "\\begin{aligned}\n",
    "&\\frac{\\partial L}{\\partial p_u}=0 \\Rightarrow p_u=\\left(Q^TC_u Q+\\lambda I\\right)^{-1} Q^T C_u \\phi_u \\\\\n",
    "&\\frac{\\partial L}{\\partial q_i}=0 \\Rightarrow q_i=\\left(P^TC_i P+\\lambda I\\right)^{-1} P^T C_i \\phi_i\n",
    "\\end{aligned}\n",
    "$$"
   ]
  },
  {
   "cell_type": "markdown",
   "id": "58e84742-6a75-4ec6-a168-0c157d3c92d9",
   "metadata": {},
   "source": [
    "$$\n",
    "\\begin{aligned}\n",
    "&\\frac{\\partial L}{\\partial p_u}=0 \\Rightarrow p_u=\\left(Q^T Q+Q^T\\left(C_u-I\\right) Q+\\lambda I\\right)^{-1} Q^T C_u \\phi_u \\\\\n",
    "&\\frac{\\partial L}{\\partial q_i}=0 \\Rightarrow q_i=\\left(P^T P+P^T\\left(C_i-I\\right) P+\\lambda I\\right)^{-1} P^T C_i \\phi_i\n",
    "\\end{aligned}\n",
    "$$"
   ]
  },
  {
   "cell_type": "markdown",
   "id": "9473f5c6-84ec-41fb-b591-6c94fbbfa34d",
   "metadata": {},
   "source": [
    "$$ L\\left(p_u, q_i, r_{u i}\\right)=\\sum_{u, i \\in R} c_{u i} \\cdot\\left(\\phi_{u i}-\\langle p_u, q_i \\rangle\\right)^2=\\sum_{u, i \\in R}\\left(1+\\alpha r_{u i}\\right)\\left(\\phi_{u i}-\\langle p_u, q_i \\rangle\\right)^2 $$"
   ]
  },
  {
   "cell_type": "markdown",
   "id": "072092cf-a792-41bf-9c19-9fd5aa6f1da4",
   "metadata": {},
   "source": [
    "Для более легкого понимания: [A gentle introduction to Alternating Least Squares](https://sophwats.github.io/2018-04-05-gentle-als.html)\n",
    "\n",
    "Не вошло в ссылки лекции: [Учебник по машинному обучению. 9.2. Рекомендации на основе матричных разложений](\n",
    "https://education.yandex.ru/handbook/ml/article/rekomendacii-na-osnove-matrichnyh-razlozhenij)"
   ]
  },
  {
   "cell_type": "code",
   "execution_count": 2,
   "id": "7ca93b7d-4bb0-401d-87e2-b7eef0507efc",
   "metadata": {},
   "outputs": [],
   "source": [
    "class ImplicitALS:\n",
    "    def __init__(self, R, k=3, a=40, l2=10):\n",
    "        self.l2 = l2\n",
    "        self.k = k\n",
    "        self.a = a\n",
    "        self.m, self.n = R.shape\n",
    "\n",
    "        # Инициализируем эмбеддинги пользователей (P) и товаров (Q)\n",
    "        self.P = np.random.rand(self.m, self.k)\n",
    "        self.Q = np.random.rand(self.n, self.k)\n",
    "\n",
    "        self.phi = np.where(R > 0, 1, 0)  # CODE\n",
    "        self.C = 1 + self.a * R  # CODE\n",
    "\n",
    "        self.loss = []\n",
    "\n",
    "    def train(self, n_step=10):\n",
    "        l2_reg = self.l2 * np.identity(self.k)\n",
    "        for _ in range(n_step):\n",
    "\n",
    "            # fix P, update Q\n",
    "            PtP = self.P.T.dot(self.P)\n",
    "            for i in range(self.n):\n",
    "                Ci = np.diag(self.C[:, i])  # CODE\n",
    "                Wi = (\n",
    "                    PtP + self.P.T.dot(Ci - np.identity(self.m)).dot(self.P) + l2_reg\n",
    "                )  # CODE\n",
    "                self.Q[i] = (\n",
    "                    np.linalg.inv(Wi).dot(self.P.T).dot(Ci).dot(self.phi[:, i])\n",
    "                )  # CODE\n",
    "\n",
    "            # fix Q, update P\n",
    "            QtQ = self.Q.T.dot(self.Q)\n",
    "            for u in range(self.m):\n",
    "                Cu = np.diag(self.C[u, :])  # CODE\n",
    "                Wu = (\n",
    "                    QtQ + self.Q.T.dot(Cu - np.identity(self.n)).dot(self.Q) + l2_reg\n",
    "                )  # CODE\n",
    "                self.P[u] = (\n",
    "                    np.linalg.inv(Wu).dot(self.Q.T).dot(Cu).dot(self.phi[u, :])\n",
    "                )  # CODE\n",
    "\n",
    "            # Вычисляем LOSS\n",
    "            loss = (self.C * (self.phi - self.P.dot(self.Q.T)) ** 2).sum()  # СODE\n",
    "            l2_all = (self.P**2).sum() + (self.Q**2).sum()\n",
    "            loss_with_l2_reg = loss + self.l2 * l2_all  # CODE\n",
    "            self.loss.append(loss_with_l2_reg)\n",
    "\n",
    "    def predict(self, u, i):\n",
    "        return self.P[u].dot(self.Q[i])  # CODE"
   ]
  },
  {
   "cell_type": "code",
   "execution_count": 3,
   "id": "60e61754-a21b-4efa-8d6c-f70b337321ac",
   "metadata": {},
   "outputs": [],
   "source": [
    "np.random.seed(42)"
   ]
  },
  {
   "cell_type": "code",
   "execution_count": 4,
   "id": "6aa0fe67-8cb1-4a1c-9048-097673bd7708",
   "metadata": {},
   "outputs": [
    {
     "data": {
      "text/plain": [
       "array([[0, 5, 1, 0, 0, 0, 0, 3, 0, 1],\n",
       "       [0, 5, 3, 0, 0, 0, 0, 0, 0, 0],\n",
       "       [0, 0, 0, 0, 0, 2, 0, 0, 0, 0],\n",
       "       [0, 0, 0, 5, 5, 3, 0, 0, 1, 0],\n",
       "       [0, 0, 0, 4, 0, 0, 0, 0, 0, 0]])"
      ]
     },
     "execution_count": 4,
     "metadata": {},
     "output_type": "execute_result"
    }
   ],
   "source": [
    "stars = np.arange(6)\n",
    "p = np.array([10, 1, 1, 1, 1, 1])\n",
    "m = 5  # Кол-во пользователей\n",
    "n = 10  # Кол-во товаров\n",
    "\n",
    "ratings = np.random.choice(stars, size=m * n, p=p / p.sum()).reshape((m, n))\n",
    "\n",
    "ratings"
   ]
  },
  {
   "cell_type": "code",
   "execution_count": 5,
   "id": "b13b018c-6fd1-40e7-b839-528f3270cbfd",
   "metadata": {},
   "outputs": [
    {
     "data": {
      "text/plain": [
       "(5, 10)"
      ]
     },
     "execution_count": 5,
     "metadata": {},
     "output_type": "execute_result"
    }
   ],
   "source": [
    "ratings.shape"
   ]
  },
  {
   "cell_type": "code",
   "execution_count": 6,
   "id": "a4847409-0c35-4dd6-89f6-83c073a56bae",
   "metadata": {},
   "outputs": [],
   "source": [
    "als = ImplicitALS(R=ratings, k=20)"
   ]
  },
  {
   "cell_type": "code",
   "execution_count": 7,
   "id": "4ec4b780-4fc2-4633-926b-dee6517d5bfe",
   "metadata": {},
   "outputs": [
    {
     "data": {
      "text/plain": [
       "array([[0, 1, 1, 0, 0, 0, 0, 1, 0, 1],\n",
       "       [0, 1, 1, 0, 0, 0, 0, 0, 0, 0],\n",
       "       [0, 0, 0, 0, 0, 1, 0, 0, 0, 0],\n",
       "       [0, 0, 0, 1, 1, 1, 0, 0, 1, 0],\n",
       "       [0, 0, 0, 1, 0, 0, 0, 0, 0, 0]])"
      ]
     },
     "execution_count": 7,
     "metadata": {},
     "output_type": "execute_result"
    }
   ],
   "source": [
    "als.phi"
   ]
  },
  {
   "cell_type": "code",
   "execution_count": 8,
   "id": "9f6114d4-f0a6-4ed0-a7d1-86d92bae2254",
   "metadata": {},
   "outputs": [
    {
     "data": {
      "text/plain": [
       "array([[  1, 201,  41,   1,   1,   1,   1, 121,   1,  41],\n",
       "       [  1, 201, 121,   1,   1,   1,   1,   1,   1,   1],\n",
       "       [  1,   1,   1,   1,   1,  81,   1,   1,   1,   1],\n",
       "       [  1,   1,   1, 201, 201, 121,   1,   1,  41,   1],\n",
       "       [  1,   1,   1, 161,   1,   1,   1,   1,   1,   1]])"
      ]
     },
     "execution_count": 8,
     "metadata": {},
     "output_type": "execute_result"
    }
   ],
   "source": [
    "als.C"
   ]
  },
  {
   "cell_type": "code",
   "execution_count": 9,
   "id": "45f93a7a-6902-4cb2-b09f-419fddc3d657",
   "metadata": {},
   "outputs": [],
   "source": [
    "als.train(n_step=50)"
   ]
  },
  {
   "cell_type": "code",
   "execution_count": 10,
   "id": "2628f2c0-06ea-4c2b-bcc6-cf2863e97470",
   "metadata": {},
   "outputs": [
    {
     "data": {
      "text/plain": [
       "[245.4379444812453,\n",
       " 190.01384136209344,\n",
       " 165.3269542557215,\n",
       " 151.22063653819072,\n",
       " 142.5106345804081]"
      ]
     },
     "execution_count": 10,
     "metadata": {},
     "output_type": "execute_result"
    }
   ],
   "source": [
    "als.loss[:5]"
   ]
  },
  {
   "cell_type": "code",
   "execution_count": 11,
   "id": "83ecb2c5-979c-4e0e-b90c-f8b2a20ae0d5",
   "metadata": {},
   "outputs": [
    {
     "data": {
      "image/png": "[encoded data removed]",
      "text/plain": [
       "<Figure size 640x480 with 1 Axes>"
      ]
     },
     "metadata": {},
     "output_type": "display_data"
    }
   ],
   "source": [
    "ax = sns.lineplot(als.loss)\n",
    "ax.set_xlabel(\"epochs\")\n",
    "ax.set_ylabel(\"loss\")"
   ]
  },
  {
   "cell_type": "code",
   "execution_count": 12,
   "id": "e1e3459f-23c6-49cd-b73c-1a29ef5c54e7",
   "metadata": {},
   "outputs": [],
   "source": [
    "assert als.P.shape[0] == ratings.shape[0]\n",
    "assert als.Q.shape[0] == ratings.shape[1]\n",
    "assert als.P.shape[1] == als.Q.shape[1]"
   ]
  },
  {
   "cell_type": "code",
   "execution_count": 13,
   "id": "e57d838a-4f99-4638-b331-3b3771d18637",
   "metadata": {},
   "outputs": [
    {
     "data": {
      "text/plain": [
       "array([[ 0.  ,  1.  ,  0.98, -0.  ,  0.  ,  0.  ,  0.  ,  0.94,  0.  ,\n",
       "         0.84],\n",
       "       [ 0.  ,  0.96,  0.94,  0.  , -0.  , -0.  ,  0.  ,  0.83, -0.  ,\n",
       "         0.74],\n",
       "       [ 0.  , -0.  , -0.  ,  0.23,  0.55,  0.88,  0.  ,  0.  ,  0.49,\n",
       "         0.  ],\n",
       "       [ 0.  , -0.  , -0.  ,  0.99,  0.96,  0.99,  0.  ,  0.  ,  0.85,\n",
       "         0.  ],\n",
       "       [ 0.  ,  0.  ,  0.  ,  0.94,  0.56,  0.24,  0.  , -0.  ,  0.49,\n",
       "        -0.  ]])"
      ]
     },
     "execution_count": 13,
     "metadata": {},
     "output_type": "execute_result"
    }
   ],
   "source": [
    "# Предскажем для всех\n",
    "pred_ratings = np.matmul(als.P, als.Q.T).round(2)\n",
    "pred_ratings"
   ]
  },
  {
   "cell_type": "code",
   "execution_count": 14,
   "id": "d97e2621-459c-4b88-8451-73d9f44ecaf5",
   "metadata": {},
   "outputs": [
    {
     "data": {
      "text/plain": [
       "array([[0, 5, 1, 0, 0, 0, 0, 3, 0, 1],\n",
       "       [0, 5, 3, 0, 0, 0, 0, 0, 0, 0],\n",
       "       [0, 0, 0, 0, 0, 2, 0, 0, 0, 0],\n",
       "       [0, 0, 0, 5, 5, 3, 0, 0, 1, 0],\n",
       "       [0, 0, 0, 4, 0, 0, 0, 0, 0, 0]])"
      ]
     },
     "execution_count": 14,
     "metadata": {},
     "output_type": "execute_result"
    }
   ],
   "source": [
    "ratings"
   ]
  },
  {
   "cell_type": "code",
   "execution_count": 15,
   "id": "8b128798-edab-4b8a-8b03-4b644a9b29ef",
   "metadata": {},
   "outputs": [
    {
     "name": "stdout",
     "output_type": "stream",
     "text": [
      "Original:\n",
      "[0 5 1 0 0 0 0 3 0 1]\n",
      "Predicted:\n",
      "[ 0.    1.    0.98 -0.    0.    0.    0.    0.94  0.    0.84]\n",
      "-----------\n",
      "Original:\n",
      "[0 5 3 0 0 0 0 0 0 0]\n",
      "Predicted:\n",
      "[ 0.    0.96  0.94  0.   -0.   -0.    0.    0.83 -0.    0.74]\n",
      "-----------\n",
      "Original:\n",
      "[0 0 0 0 0 2 0 0 0 0]\n",
      "Predicted:\n",
      "[ 0.   -0.   -0.    0.23  0.55  0.88  0.    0.    0.49  0.  ]\n",
      "-----------\n",
      "Original:\n",
      "[0 0 0 5 5 3 0 0 1 0]\n",
      "Predicted:\n",
      "[ 0.   -0.   -0.    0.99  0.96  0.99  0.    0.    0.85  0.  ]\n",
      "-----------\n",
      "Original:\n",
      "[0 0 0 4 0 0 0 0 0 0]\n",
      "Predicted:\n",
      "[ 0.    0.    0.    0.94  0.56  0.24  0.   -0.    0.49 -0.  ]\n",
      "-----------\n"
     ]
    }
   ],
   "source": [
    "for row_idx in range(ratings.shape[0]):\n",
    "    print(\"Original:\")\n",
    "    print(ratings[row_idx, :])\n",
    "    print(\"Predicted:\")\n",
    "    print(pred_ratings[row_idx, :])\n",
    "    print(\"-----------\")"
   ]
  },
  {
   "cell_type": "code",
   "execution_count": null,
   "id": "23b601b6-aafb-4eeb-b85f-1f88f937e4e5",
   "metadata": {},
   "outputs": [],
   "source": []
  },
  {
   "cell_type": "markdown",
   "id": "e14d7356-9017-4305-ac67-3516c52e7caf",
   "metadata": {},
   "source": [
    "# ALS from Rectools"
   ]
  },
  {
   "cell_type": "code",
   "execution_count": 2,
   "id": "1f40e571-c14b-49d0-87f1-ea0a7a2d21ca",
   "metadata": {},
   "outputs": [
    {
     "data": {
      "text/plain": [
       "<threadpoolctl.threadpool_limits at 0x7e826eebff50>"
      ]
     },
     "execution_count": 2,
     "metadata": {},
     "output_type": "execute_result"
    }
   ],
   "source": [
    "import os\n",
    "import requests\n",
    "import threadpoolctl\n",
    "import warnings\n",
    "import typing as tp\n",
    "from tqdm import tqdm\n",
    "from pathlib import Path\n",
    "\n",
    "import pandas as pd\n",
    "import plotly.express as px\n",
    "import numpy as np\n",
    "from implicit.als import AlternatingLeastSquares\n",
    "from implicit.bpr import BayesianPersonalizedRanking\n",
    "from implicit.lmf import LogisticMatrixFactorization\n",
    "import matplotlib.pyplot as plt\n",
    "import seaborn as sns\n",
    "from lightfm import LightFM\n",
    "\n",
    "from rectools import Columns\n",
    "from rectools.dataset import Dataset\n",
    "from rectools.metrics import (\n",
    "    Precision,\n",
    "    Recall,\n",
    "    MAP,\n",
    "    MeanInvUserFreq,\n",
    "    NDCG,\n",
    "    Serendipity,\n",
    "    calc_metrics,\n",
    ")\n",
    "from rectools.models import (\n",
    "    PopularModel,\n",
    "    RandomModel,\n",
    "    PureSVDModel,\n",
    "    ImplicitALSWrapperModel,\n",
    "    LightFMWrapperModel,\n",
    ")\n",
    "\n",
    "warnings.filterwarnings(\"ignore\")\n",
    "sns.set_theme(style=\"whitegrid\")\n",
    "\n",
    "# For implicit ALS\n",
    "os.environ[\"OPENBLAS_NUM_THREADS\"] = \"1\"\n",
    "threadpoolctl.threadpool_limits(1, \"blas\")"
   ]
  },
  {
   "cell_type": "markdown",
   "id": "38978a11-7ddf-4f79-8b49-e9d25a0f421e",
   "metadata": {},
   "source": [
    "## Датасет KION"
   ]
  },
  {
   "cell_type": "code",
   "execution_count": 117,
   "id": "950fdc37-2df4-4fc1-bf41-da0c7ba58bdf",
   "metadata": {},
   "outputs": [
    {
     "name": "stderr",
     "output_type": "stream",
     "text": [
      "Downloading the kion dataset...:   0%|          | 0.00/78.8M [02:25<?, ?iB/s]\n",
      "Downloading the kion dataset...: 100%|█████████▉| 78.6M/78.8M [00:30<00:00, 3.15MiB/s]"
     ]
    }
   ],
   "source": [
    "if not (\n",
    "    Path(\"./data_original/interactions.csv\").is_file()\n",
    "    & Path(\"./data_original/items.csv\").is_file()\n",
    "    & Path(\"./data_original/users.csv\").is_file()\n",
    "):\n",
    "    url = \"https://github.com/irsafilo/KION_DATASET/raw/f69775be31fa5779907cf0a92ddedb70037fb5ae/data_original.zip\"\n",
    "    req = requests.get(url, stream=True)\n",
    "\n",
    "    with open(\"kion_train.zip\", \"wb\") as fd:\n",
    "        total_size_in_bytes = int(req.headers.get(\"Content-Length\", 0))\n",
    "        progress_bar = tqdm(\n",
    "            desc=\"Downloading the kion dataset...\",\n",
    "            total=total_size_in_bytes,\n",
    "            unit=\"iB\",\n",
    "            unit_scale=True,\n",
    "        )\n",
    "        for chunk in req.iter_content(chunk_size=2**20):\n",
    "            progress_bar.update(len(chunk))\n",
    "            fd.write(chunk)"
   ]
  },
  {
   "cell_type": "code",
   "execution_count": 121,
   "id": "beaa17f2-8384-421e-b3b0-9d7697da0659",
   "metadata": {},
   "outputs": [
    {
     "name": "stdout",
     "output_type": "stream",
     "text": [
      "Archive:  kion_train.zip\n"
     ]
    }
   ],
   "source": [
    "!unzip -f kion_train.zip -x '__MACOSX/*'"
   ]
  },
  {
   "cell_type": "code",
   "execution_count": 21,
   "id": "1df306d8-7a16-40ba-abdf-2d909e301085",
   "metadata": {},
   "outputs": [],
   "source": [
    "BASE_PATH = Path(\"./data_original\")"
   ]
  },
  {
   "cell_type": "code",
   "execution_count": 22,
   "id": "565118f8-0c30-4da4-b54a-0d9f3a3634ce",
   "metadata": {},
   "outputs": [],
   "source": [
    "interactions = pd.read_csv(BASE_PATH / \"interactions.csv\")\n",
    "users = pd.read_csv(BASE_PATH / \"users.csv\")\n",
    "items = pd.read_csv(BASE_PATH / \"items.csv\")"
   ]
  },
  {
   "cell_type": "code",
   "execution_count": 23,
   "id": "a0efd410-cc06-460c-8485-25c1e2a1fa6c",
   "metadata": {},
   "outputs": [
    {
     "data": {
      "text/html": [
       "<div>\n",
       "<style scoped>\n",
       "    .dataframe tbody tr th:only-of-type {\n",
       "        vertical-align: middle;\n",
       "    }\n",
       "\n",
       "    .dataframe tbody tr th {\n",
       "        vertical-align: top;\n",
       "    }\n",
       "\n",
       "    .dataframe thead th {\n",
       "        text-align: right;\n",
       "    }\n",
       "</style>\n",
       "<table border=\"1\" class=\"dataframe\">\n",
       "  <thead>\n",
       "    <tr style=\"text-align: right;\">\n",
       "      <th></th>\n",
       "      <th>user_id</th>\n",
       "      <th>item_id</th>\n",
       "      <th>last_watch_dt</th>\n",
       "      <th>total_dur</th>\n",
       "      <th>watched_pct</th>\n",
       "    </tr>\n",
       "  </thead>\n",
       "  <tbody>\n",
       "    <tr>\n",
       "      <th>0</th>\n",
       "      <td>176549</td>\n",
       "      <td>9506</td>\n",
       "      <td>2021-05-11</td>\n",
       "      <td>4250</td>\n",
       "      <td>72.0</td>\n",
       "    </tr>\n",
       "    <tr>\n",
       "      <th>1</th>\n",
       "      <td>699317</td>\n",
       "      <td>1659</td>\n",
       "      <td>2021-05-29</td>\n",
       "      <td>8317</td>\n",
       "      <td>100.0</td>\n",
       "    </tr>\n",
       "    <tr>\n",
       "      <th>2</th>\n",
       "      <td>656683</td>\n",
       "      <td>7107</td>\n",
       "      <td>2021-05-09</td>\n",
       "      <td>10</td>\n",
       "      <td>0.0</td>\n",
       "    </tr>\n",
       "    <tr>\n",
       "      <th>3</th>\n",
       "      <td>864613</td>\n",
       "      <td>7638</td>\n",
       "      <td>2021-07-05</td>\n",
       "      <td>14483</td>\n",
       "      <td>100.0</td>\n",
       "    </tr>\n",
       "    <tr>\n",
       "      <th>4</th>\n",
       "      <td>964868</td>\n",
       "      <td>9506</td>\n",
       "      <td>2021-04-30</td>\n",
       "      <td>6725</td>\n",
       "      <td>100.0</td>\n",
       "    </tr>\n",
       "  </tbody>\n",
       "</table>\n",
       "</div>"
      ],
      "text/plain": [
       "   user_id  item_id last_watch_dt  total_dur  watched_pct\n",
       "0   176549     9506    2021-05-11       4250         72.0\n",
       "1   699317     1659    2021-05-29       8317        100.0\n",
       "2   656683     7107    2021-05-09         10          0.0\n",
       "3   864613     7638    2021-07-05      14483        100.0\n",
       "4   964868     9506    2021-04-30       6725        100.0"
      ]
     },
     "execution_count": 23,
     "metadata": {},
     "output_type": "execute_result"
    }
   ],
   "source": [
    "interactions.head()"
   ]
  },
  {
   "cell_type": "code",
   "execution_count": 24,
   "id": "729d7a65-e0e5-4ddf-824d-b4eda3349426",
   "metadata": {},
   "outputs": [],
   "source": [
    "# переименовываем поля в понятные для RecTools\n",
    "\n",
    "interactions = interactions.rename(\n",
    "    columns={\"total_dur\": Columns.Weight, \"last_watch_dt\": Columns.Datetime}\n",
    ")\n",
    "\n",
    "interactions[\"datetime\"] = pd.to_datetime(interactions[\"datetime\"])"
   ]
  },
  {
   "cell_type": "markdown",
   "id": "e4bddad9-76e2-4611-b0b9-dbe6290eab5a",
   "metadata": {},
   "source": [
    "# Interactions"
   ]
  },
  {
   "cell_type": "code",
   "execution_count": 25,
   "id": "0656ec39-6d25-44fc-a3f7-9b824a02bbcf",
   "metadata": {},
   "outputs": [
    {
     "data": {
      "text/html": [
       "<div>\n",
       "<style scoped>\n",
       "    .dataframe tbody tr th:only-of-type {\n",
       "        vertical-align: middle;\n",
       "    }\n",
       "\n",
       "    .dataframe tbody tr th {\n",
       "        vertical-align: top;\n",
       "    }\n",
       "\n",
       "    .dataframe thead th {\n",
       "        text-align: right;\n",
       "    }\n",
       "</style>\n",
       "<table border=\"1\" class=\"dataframe\">\n",
       "  <thead>\n",
       "    <tr style=\"text-align: right;\">\n",
       "      <th></th>\n",
       "      <th>user_id</th>\n",
       "      <th>item_id</th>\n",
       "      <th>datetime</th>\n",
       "      <th>weight</th>\n",
       "      <th>watched_pct</th>\n",
       "    </tr>\n",
       "  </thead>\n",
       "  <tbody>\n",
       "    <tr>\n",
       "      <th>0</th>\n",
       "      <td>176549</td>\n",
       "      <td>9506</td>\n",
       "      <td>2021-05-11</td>\n",
       "      <td>4250</td>\n",
       "      <td>72.0</td>\n",
       "    </tr>\n",
       "    <tr>\n",
       "      <th>1</th>\n",
       "      <td>699317</td>\n",
       "      <td>1659</td>\n",
       "      <td>2021-05-29</td>\n",
       "      <td>8317</td>\n",
       "      <td>100.0</td>\n",
       "    </tr>\n",
       "    <tr>\n",
       "      <th>2</th>\n",
       "      <td>656683</td>\n",
       "      <td>7107</td>\n",
       "      <td>2021-05-09</td>\n",
       "      <td>10</td>\n",
       "      <td>0.0</td>\n",
       "    </tr>\n",
       "    <tr>\n",
       "      <th>3</th>\n",
       "      <td>864613</td>\n",
       "      <td>7638</td>\n",
       "      <td>2021-07-05</td>\n",
       "      <td>14483</td>\n",
       "      <td>100.0</td>\n",
       "    </tr>\n",
       "    <tr>\n",
       "      <th>4</th>\n",
       "      <td>964868</td>\n",
       "      <td>9506</td>\n",
       "      <td>2021-04-30</td>\n",
       "      <td>6725</td>\n",
       "      <td>100.0</td>\n",
       "    </tr>\n",
       "  </tbody>\n",
       "</table>\n",
       "</div>"
      ],
      "text/plain": [
       "   user_id  item_id   datetime  weight  watched_pct\n",
       "0   176549     9506 2021-05-11    4250         72.0\n",
       "1   699317     1659 2021-05-29    8317        100.0\n",
       "2   656683     7107 2021-05-09      10          0.0\n",
       "3   864613     7638 2021-07-05   14483        100.0\n",
       "4   964868     9506 2021-04-30    6725        100.0"
      ]
     },
     "execution_count": 25,
     "metadata": {},
     "output_type": "execute_result"
    }
   ],
   "source": [
    "interactions.head()"
   ]
  },
  {
   "cell_type": "code",
   "execution_count": 26,
   "id": "907df73b-f0db-4412-bd49-5abba80c642a",
   "metadata": {},
   "outputs": [
    {
     "name": "stdout",
     "output_type": "stream",
     "text": [
      "<class 'pandas.core.frame.DataFrame'>\n",
      "RangeIndex: 5476251 entries, 0 to 5476250\n",
      "Data columns (total 5 columns):\n",
      " #   Column       Dtype         \n",
      "---  ------       -----         \n",
      " 0   user_id      int64         \n",
      " 1   item_id      int64         \n",
      " 2   datetime     datetime64[ns]\n",
      " 3   weight       int64         \n",
      " 4   watched_pct  float64       \n",
      "dtypes: datetime64[ns](1), float64(1), int64(3)\n",
      "memory usage: 208.9 MB\n"
     ]
    }
   ],
   "source": [
    "interactions.info()"
   ]
  },
  {
   "cell_type": "code",
   "execution_count": 27,
   "id": "08b6aa45-9227-4b0d-bb3c-c3ed4885cf9d",
   "metadata": {},
   "outputs": [
    {
     "name": "stdout",
     "output_type": "stream",
     "text": [
      "Interactions shape (5476251, 5)\n",
      "Unique users in interactions: 962_179\n",
      "Unique items in interactions: 15_706\n",
      "min date in interactions: 2021-03-13 00:00:00\n",
      "max date in interactions: 2021-08-22 00:00:00\n"
     ]
    }
   ],
   "source": [
    "print(f\"Interactions shape {interactions.shape}\")\n",
    "print(f\"Unique users in interactions: {interactions['user_id'].nunique():_}\")\n",
    "print(f\"Unique items in interactions: {interactions['item_id'].nunique():_}\")\n",
    "print(f\"min date in interactions: {interactions['datetime'].min()}\")\n",
    "print(f\"max date in interactions: {interactions['datetime'].max()}\")"
   ]
  },
  {
   "cell_type": "markdown",
   "id": "8ca2d96f-2678-4454-bd69-7344f1514d69",
   "metadata": {},
   "source": [
    "# Users"
   ]
  },
  {
   "cell_type": "code",
   "execution_count": 28,
   "id": "b61c3ee5-067b-4e03-a7cd-b5d85c13cc9e",
   "metadata": {},
   "outputs": [
    {
     "data": {
      "text/html": [
       "<div>\n",
       "<style scoped>\n",
       "    .dataframe tbody tr th:only-of-type {\n",
       "        vertical-align: middle;\n",
       "    }\n",
       "\n",
       "    .dataframe tbody tr th {\n",
       "        vertical-align: top;\n",
       "    }\n",
       "\n",
       "    .dataframe thead th {\n",
       "        text-align: right;\n",
       "    }\n",
       "</style>\n",
       "<table border=\"1\" class=\"dataframe\">\n",
       "  <thead>\n",
       "    <tr style=\"text-align: right;\">\n",
       "      <th></th>\n",
       "      <th>user_id</th>\n",
       "      <th>age</th>\n",
       "      <th>income</th>\n",
       "      <th>sex</th>\n",
       "      <th>kids_flg</th>\n",
       "    </tr>\n",
       "  </thead>\n",
       "  <tbody>\n",
       "    <tr>\n",
       "      <th>0</th>\n",
       "      <td>973171</td>\n",
       "      <td>age_25_34</td>\n",
       "      <td>income_60_90</td>\n",
       "      <td>М</td>\n",
       "      <td>1</td>\n",
       "    </tr>\n",
       "    <tr>\n",
       "      <th>1</th>\n",
       "      <td>962099</td>\n",
       "      <td>age_18_24</td>\n",
       "      <td>income_20_40</td>\n",
       "      <td>М</td>\n",
       "      <td>0</td>\n",
       "    </tr>\n",
       "    <tr>\n",
       "      <th>2</th>\n",
       "      <td>1047345</td>\n",
       "      <td>age_45_54</td>\n",
       "      <td>income_40_60</td>\n",
       "      <td>Ж</td>\n",
       "      <td>0</td>\n",
       "    </tr>\n",
       "    <tr>\n",
       "      <th>3</th>\n",
       "      <td>721985</td>\n",
       "      <td>age_45_54</td>\n",
       "      <td>income_20_40</td>\n",
       "      <td>Ж</td>\n",
       "      <td>0</td>\n",
       "    </tr>\n",
       "    <tr>\n",
       "      <th>4</th>\n",
       "      <td>704055</td>\n",
       "      <td>age_35_44</td>\n",
       "      <td>income_60_90</td>\n",
       "      <td>Ж</td>\n",
       "      <td>0</td>\n",
       "    </tr>\n",
       "  </tbody>\n",
       "</table>\n",
       "</div>"
      ],
      "text/plain": [
       "   user_id        age        income sex  kids_flg\n",
       "0   973171  age_25_34  income_60_90   М         1\n",
       "1   962099  age_18_24  income_20_40   М         0\n",
       "2  1047345  age_45_54  income_40_60   Ж         0\n",
       "3   721985  age_45_54  income_20_40   Ж         0\n",
       "4   704055  age_35_44  income_60_90   Ж         0"
      ]
     },
     "execution_count": 28,
     "metadata": {},
     "output_type": "execute_result"
    }
   ],
   "source": [
    "users.head()"
   ]
  },
  {
   "cell_type": "code",
   "execution_count": 29,
   "id": "45bf0d82-b518-4c45-a3a5-db771cda9585",
   "metadata": {},
   "outputs": [
    {
     "name": "stdout",
     "output_type": "stream",
     "text": [
      "<class 'pandas.core.frame.DataFrame'>\n",
      "RangeIndex: 840197 entries, 0 to 840196\n",
      "Data columns (total 5 columns):\n",
      " #   Column    Non-Null Count   Dtype \n",
      "---  ------    --------------   ----- \n",
      " 0   user_id   840197 non-null  int64 \n",
      " 1   age       826102 non-null  object\n",
      " 2   income    825421 non-null  object\n",
      " 3   sex       826366 non-null  object\n",
      " 4   kids_flg  840197 non-null  int64 \n",
      "dtypes: int64(2), object(3)\n",
      "memory usage: 32.1+ MB\n"
     ]
    }
   ],
   "source": [
    "users.info()"
   ]
  },
  {
   "cell_type": "code",
   "execution_count": 30,
   "id": "e1dccc35-89bc-4fe2-b76b-ecd8c7f2aa93",
   "metadata": {},
   "outputs": [
    {
     "name": "stdout",
     "output_type": "stream",
     "text": [
      "Users shape (840197, 5)\n",
      "Unique users: 840_197\n"
     ]
    }
   ],
   "source": [
    "print(f\"Users shape {users.shape}\")\n",
    "print(f\"Unique users: {users['user_id'].nunique():_}\")"
   ]
  },
  {
   "cell_type": "markdown",
   "id": "73e00ba0-45a6-4214-98b9-1eb9ded2e3ce",
   "metadata": {},
   "source": [
    "# Items"
   ]
  },
  {
   "cell_type": "code",
   "execution_count": 31,
   "id": "dea7e435-beb9-4196-99d6-6e9a0968e6fa",
   "metadata": {},
   "outputs": [
    {
     "data": {
      "text/html": [
       "<div>\n",
       "<style scoped>\n",
       "    .dataframe tbody tr th:only-of-type {\n",
       "        vertical-align: middle;\n",
       "    }\n",
       "\n",
       "    .dataframe tbody tr th {\n",
       "        vertical-align: top;\n",
       "    }\n",
       "\n",
       "    .dataframe thead th {\n",
       "        text-align: right;\n",
       "    }\n",
       "</style>\n",
       "<table border=\"1\" class=\"dataframe\">\n",
       "  <thead>\n",
       "    <tr style=\"text-align: right;\">\n",
       "      <th></th>\n",
       "      <th>item_id</th>\n",
       "      <th>content_type</th>\n",
       "      <th>title</th>\n",
       "      <th>title_orig</th>\n",
       "      <th>release_year</th>\n",
       "      <th>genres</th>\n",
       "      <th>countries</th>\n",
       "      <th>for_kids</th>\n",
       "      <th>age_rating</th>\n",
       "      <th>studios</th>\n",
       "      <th>directors</th>\n",
       "      <th>actors</th>\n",
       "      <th>description</th>\n",
       "      <th>keywords</th>\n",
       "    </tr>\n",
       "  </thead>\n",
       "  <tbody>\n",
       "    <tr>\n",
       "      <th>0</th>\n",
       "      <td>10711</td>\n",
       "      <td>film</td>\n",
       "      <td>Поговори с ней</td>\n",
       "      <td>Hable con ella</td>\n",
       "      <td>2002.0</td>\n",
       "      <td>драмы, зарубежные, детективы, мелодрамы</td>\n",
       "      <td>Испания</td>\n",
       "      <td>NaN</td>\n",
       "      <td>16.0</td>\n",
       "      <td>NaN</td>\n",
       "      <td>Педро Альмодовар</td>\n",
       "      <td>Адольфо Фернандес, Ана Фернандес, Дарио Гранди...</td>\n",
       "      <td>Мелодрама легендарного Педро Альмодовара «Пого...</td>\n",
       "      <td>Поговори, ней, 2002, Испания, друзья, любовь, ...</td>\n",
       "    </tr>\n",
       "    <tr>\n",
       "      <th>1</th>\n",
       "      <td>2508</td>\n",
       "      <td>film</td>\n",
       "      <td>Голые перцы</td>\n",
       "      <td>Search Party</td>\n",
       "      <td>2014.0</td>\n",
       "      <td>зарубежные, приключения, комедии</td>\n",
       "      <td>США</td>\n",
       "      <td>NaN</td>\n",
       "      <td>16.0</td>\n",
       "      <td>NaN</td>\n",
       "      <td>Скот Армстронг</td>\n",
       "      <td>Адам Палли, Брайан Хаски, Дж.Б. Смув, Джейсон ...</td>\n",
       "      <td>Уморительная современная комедия на популярную...</td>\n",
       "      <td>Голые, перцы, 2014, США, друзья, свадьбы, прео...</td>\n",
       "    </tr>\n",
       "    <tr>\n",
       "      <th>2</th>\n",
       "      <td>10716</td>\n",
       "      <td>film</td>\n",
       "      <td>Тактическая сила</td>\n",
       "      <td>Tactical Force</td>\n",
       "      <td>2011.0</td>\n",
       "      <td>криминал, зарубежные, триллеры, боевики, комедии</td>\n",
       "      <td>Канада</td>\n",
       "      <td>NaN</td>\n",
       "      <td>16.0</td>\n",
       "      <td>NaN</td>\n",
       "      <td>Адам П. Калтраро</td>\n",
       "      <td>Адриан Холмс, Даррен Шалави, Джерри Вассерман,...</td>\n",
       "      <td>Профессиональный рестлер Стив Остин («Все или ...</td>\n",
       "      <td>Тактическая, сила, 2011, Канада, бандиты, ганг...</td>\n",
       "    </tr>\n",
       "    <tr>\n",
       "      <th>3</th>\n",
       "      <td>7868</td>\n",
       "      <td>film</td>\n",
       "      <td>45 лет</td>\n",
       "      <td>45 Years</td>\n",
       "      <td>2015.0</td>\n",
       "      <td>драмы, зарубежные, мелодрамы</td>\n",
       "      <td>Великобритания</td>\n",
       "      <td>NaN</td>\n",
       "      <td>16.0</td>\n",
       "      <td>NaN</td>\n",
       "      <td>Эндрю Хэй</td>\n",
       "      <td>Александра Риддлстон-Барретт, Джеральдин Джейм...</td>\n",
       "      <td>Шарлотта Рэмплинг, Том Кортни, Джеральдин Джей...</td>\n",
       "      <td>45, лет, 2015, Великобритания, брак, жизнь, лю...</td>\n",
       "    </tr>\n",
       "    <tr>\n",
       "      <th>4</th>\n",
       "      <td>16268</td>\n",
       "      <td>film</td>\n",
       "      <td>Все решает мгновение</td>\n",
       "      <td>NaN</td>\n",
       "      <td>1978.0</td>\n",
       "      <td>драмы, спорт, советские, мелодрамы</td>\n",
       "      <td>СССР</td>\n",
       "      <td>NaN</td>\n",
       "      <td>12.0</td>\n",
       "      <td>Ленфильм</td>\n",
       "      <td>Виктор Садовский</td>\n",
       "      <td>Александр Абдулов, Александр Демьяненко, Алекс...</td>\n",
       "      <td>Расчетливая чаровница из советского кинохита «...</td>\n",
       "      <td>Все, решает, мгновение, 1978, СССР, сильные, ж...</td>\n",
       "    </tr>\n",
       "  </tbody>\n",
       "</table>\n",
       "</div>"
      ],
      "text/plain": [
       "   item_id content_type                 title      title_orig  release_year  \\\n",
       "0    10711         film        Поговори с ней  Hable con ella        2002.0   \n",
       "1     2508         film           Голые перцы    Search Party        2014.0   \n",
       "2    10716         film      Тактическая сила  Tactical Force        2011.0   \n",
       "3     7868         film                45 лет        45 Years        2015.0   \n",
       "4    16268         film  Все решает мгновение             NaN        1978.0   \n",
       "\n",
       "                                             genres       countries  for_kids  \\\n",
       "0           драмы, зарубежные, детективы, мелодрамы         Испания       NaN   \n",
       "1                  зарубежные, приключения, комедии             США       NaN   \n",
       "2  криминал, зарубежные, триллеры, боевики, комедии          Канада       NaN   \n",
       "3                      драмы, зарубежные, мелодрамы  Великобритания       NaN   \n",
       "4                драмы, спорт, советские, мелодрамы            СССР       NaN   \n",
       "\n",
       "   age_rating   studios         directors  \\\n",
       "0        16.0       NaN  Педро Альмодовар   \n",
       "1        16.0       NaN    Скот Армстронг   \n",
       "2        16.0       NaN  Адам П. Калтраро   \n",
       "3        16.0       NaN         Эндрю Хэй   \n",
       "4        12.0  Ленфильм  Виктор Садовский   \n",
       "\n",
       "                                              actors  \\\n",
       "0  Адольфо Фернандес, Ана Фернандес, Дарио Гранди...   \n",
       "1  Адам Палли, Брайан Хаски, Дж.Б. Смув, Джейсон ...   \n",
       "2  Адриан Холмс, Даррен Шалави, Джерри Вассерман,...   \n",
       "3  Александра Риддлстон-Барретт, Джеральдин Джейм...   \n",
       "4  Александр Абдулов, Александр Демьяненко, Алекс...   \n",
       "\n",
       "                                         description  \\\n",
       "0  Мелодрама легендарного Педро Альмодовара «Пого...   \n",
       "1  Уморительная современная комедия на популярную...   \n",
       "2  Профессиональный рестлер Стив Остин («Все или ...   \n",
       "3  Шарлотта Рэмплинг, Том Кортни, Джеральдин Джей...   \n",
       "4  Расчетливая чаровница из советского кинохита «...   \n",
       "\n",
       "                                            keywords  \n",
       "0  Поговори, ней, 2002, Испания, друзья, любовь, ...  \n",
       "1  Голые, перцы, 2014, США, друзья, свадьбы, прео...  \n",
       "2  Тактическая, сила, 2011, Канада, бандиты, ганг...  \n",
       "3  45, лет, 2015, Великобритания, брак, жизнь, лю...  \n",
       "4  Все, решает, мгновение, 1978, СССР, сильные, ж...  "
      ]
     },
     "execution_count": 31,
     "metadata": {},
     "output_type": "execute_result"
    }
   ],
   "source": [
    "items.head()"
   ]
  },
  {
   "cell_type": "code",
   "execution_count": 32,
   "id": "b827b2f5-065d-484f-ab9e-c87ba14a70f0",
   "metadata": {},
   "outputs": [
    {
     "name": "stdout",
     "output_type": "stream",
     "text": [
      "<class 'pandas.core.frame.DataFrame'>\n",
      "RangeIndex: 15963 entries, 0 to 15962\n",
      "Data columns (total 14 columns):\n",
      " #   Column        Non-Null Count  Dtype  \n",
      "---  ------        --------------  -----  \n",
      " 0   item_id       15963 non-null  int64  \n",
      " 1   content_type  15963 non-null  object \n",
      " 2   title         15963 non-null  object \n",
      " 3   title_orig    11218 non-null  object \n",
      " 4   release_year  15865 non-null  float64\n",
      " 5   genres        15963 non-null  object \n",
      " 6   countries     15926 non-null  object \n",
      " 7   for_kids      566 non-null    float64\n",
      " 8   age_rating    15961 non-null  float64\n",
      " 9   studios       1065 non-null   object \n",
      " 10  directors     14454 non-null  object \n",
      " 11  actors        13344 non-null  object \n",
      " 12  description   15961 non-null  object \n",
      " 13  keywords      15540 non-null  object \n",
      "dtypes: float64(3), int64(1), object(10)\n",
      "memory usage: 1.7+ MB\n"
     ]
    }
   ],
   "source": [
    "items.info()"
   ]
  },
  {
   "cell_type": "code",
   "execution_count": 33,
   "id": "c83c0849-b349-403e-b80c-c6b5f325ae99",
   "metadata": {},
   "outputs": [
    {
     "name": "stdout",
     "output_type": "stream",
     "text": [
      "Items dataframe shape (15963, 14)\n",
      "Unique item_id: 15_963\n"
     ]
    }
   ],
   "source": [
    "print(f\"Items dataframe shape {items.shape}\")\n",
    "print(f\"Unique item_id: {items['item_id'].nunique():_}\")"
   ]
  },
  {
   "cell_type": "markdown",
   "id": "86052d0f-078f-45bb-a3be-aba533aef90b",
   "metadata": {},
   "source": [
    "# Train test split"
   ]
  },
  {
   "cell_type": "code",
   "execution_count": 34,
   "id": "5144de28-c305-46ff-b098-b0014fbe81f5",
   "metadata": {},
   "outputs": [
    {
     "name": "stdout",
     "output_type": "stream",
     "text": [
      "min date in interactions: 2021-03-13 00:00:00\n",
      "max date in interactions: 2021-08-22 00:00:00\n"
     ]
    }
   ],
   "source": [
    "min_date = interactions[\"datetime\"].min()\n",
    "max_date = interactions[\"datetime\"].max()\n",
    "\n",
    "print(f\"min date in interactions: {min_date}\")\n",
    "print(f\"max date in interactions: {max_date}\")"
   ]
  },
  {
   "cell_type": "code",
   "execution_count": 130,
   "id": "1c1c0e15-04b3-4bba-be2b-eaea1a060730",
   "metadata": {},
   "outputs": [
    {
     "data": {
      "image/png": "[encoded data removed]",
      "text/plain": [
       "<Figure size 4000x1000 with 1 Axes>"
      ]
     },
     "metadata": {},
     "output_type": "display_data"
    }
   ],
   "source": [
    "daily_iters = interactions.groupby(Columns.Datetime)[Columns.Datetime].agg(\"count\")\n",
    "daily_iters.name = \"interactions\"\n",
    "\n",
    "sns.set_theme(rc={\"figure.figsize\": (40, 10)})\n",
    "ax = sns.barplot(daily_iters)\n",
    "plt.xticks(rotation=90)"
   ]
  },
  {
   "cell_type": "markdown",
   "id": "0d50f17d-9828-4b04-8418-9f1f65409dbf",
   "metadata": {},
   "source": [
    "Из графика распределения интеракций по дням можно заметить **недельные тренды** -> **на валидацию и тест можем брать по одной неделе**"
   ]
  },
  {
   "cell_type": "code",
   "execution_count": 36,
   "id": "4ce38ca2-967c-4143-8677-9cd98b762730",
   "metadata": {},
   "outputs": [
    {
     "name": "stdout",
     "output_type": "stream",
     "text": [
      "train: (4985269, 5)\n",
      "test hot: (349088, 5)\n"
     ]
    }
   ],
   "source": [
    "max_date = interactions[\"datetime\"].max()\n",
    "\n",
    "train = interactions[(interactions[\"datetime\"] < max_date - pd.Timedelta(days=7))]\n",
    "test = interactions[(interactions[\"datetime\"] >= max_date - pd.Timedelta(days=7))]\n",
    "\n",
    "# оставляем только горячих пользователей в тесте\n",
    "test_hot = test[test[\"user_id\"].isin(train[\"user_id\"].unique())]\n",
    "\n",
    "print(f\"train: {train.shape}\")\n",
    "print(f\"test hot: {test_hot.shape}\")"
   ]
  },
  {
   "cell_type": "markdown",
   "id": "e16a1b41-f95f-4b45-afc6-3cbdd7b74fbe",
   "metadata": {},
   "source": [
    "# Models w/o features"
   ]
  },
  {
   "cell_type": "markdown",
   "id": "7cd0c1fd-2cf3-42e1-968a-f1ec3e4ada86",
   "metadata": {},
   "source": [
    "Создаем rectools.Dataset без фичей:"
   ]
  },
  {
   "cell_type": "code",
   "execution_count": 37,
   "id": "204c68db-c01b-4465-b5c5-913bd4444f7b",
   "metadata": {},
   "outputs": [],
   "source": [
    "dataset = Dataset.construct(\n",
    "    interactions_df=train, user_features_df=None, item_features_df=None\n",
    ")"
   ]
  },
  {
   "cell_type": "code",
   "execution_count": 23,
   "id": "673d4892-0eaf-4d68-a9b4-8a23c1dfc9b1",
   "metadata": {},
   "outputs": [],
   "source": [
    "K_RECOS = 10\n",
    "RANDOM_STATE = 42\n",
    "NUM_THREADS = 16\n",
    "N_FACTORS = 4"
   ]
  },
  {
   "cell_type": "markdown",
   "id": "26537ed6-443d-4eeb-8321-a4637c1c3c5c",
   "metadata": {},
   "source": [
    "**Объявляем простые модели**"
   ]
  },
  {
   "cell_type": "code",
   "execution_count": 39,
   "id": "c148b382-7f74-4ce1-b1f3-413b6600fd85",
   "metadata": {},
   "outputs": [],
   "source": [
    "models = {\n",
    "    \"random\": RandomModel(random_state=RANDOM_STATE),\n",
    "    \"popular\": PopularModel(),\n",
    "    \"most_raited\": PopularModel(popularity=\"sum_weight\"),\n",
    "}"
   ]
  },
  {
   "cell_type": "markdown",
   "id": "3f4e4ba9-3ae8-4105-867d-87fc366c13df",
   "metadata": {},
   "source": [
    "**Объявляем модели MF**"
   ]
  },
  {
   "cell_type": "code",
   "execution_count": 40,
   "id": "08c3fa16-8616-45d4-87b0-bc461ff961da",
   "metadata": {},
   "outputs": [],
   "source": [
    "implicit_models = {\n",
    "    \"ALS\": AlternatingLeastSquares,\n",
    "    \"BPR\": BayesianPersonalizedRanking,\n",
    "    \"LMF\": LogisticMatrixFactorization,\n",
    "}\n",
    "for implicit_name, implicit_model in implicit_models.items():\n",
    "    models[f\"{implicit_name}_factors_{N_FACTORS}\"] = ImplicitALSWrapperModel(\n",
    "        model=implicit_model(\n",
    "            factors=N_FACTORS,\n",
    "            random_state=RANDOM_STATE,\n",
    "            num_threads=NUM_THREADS,\n",
    "            # iterations=30,\n",
    "        )\n",
    "    )"
   ]
  },
  {
   "cell_type": "code",
   "execution_count": 41,
   "id": "e6ca9ec9-47ca-4b90-ac6b-08661eb2fc5d",
   "metadata": {},
   "outputs": [],
   "source": [
    "lightfm_losses = (\"logistic\", \"bpr\", \"warp\")\n",
    "\n",
    "for loss in lightfm_losses:\n",
    "    models[f\"LightFM_{loss}_factors_{N_FACTORS}\"] = LightFMWrapperModel(\n",
    "        LightFM(\n",
    "            no_components=N_FACTORS,\n",
    "            loss=loss,\n",
    "            random_state=RANDOM_STATE,\n",
    "        ),\n",
    "        epochs=10,\n",
    "        num_threads=NUM_THREADS,\n",
    "    )"
   ]
  },
  {
   "cell_type": "code",
   "execution_count": 42,
   "id": "ae17f5a7-fc1a-437d-85c4-4d9eaefe3ce2",
   "metadata": {},
   "outputs": [],
   "source": [
    "models[f\"PureSVD_{N_FACTORS}\"] = PureSVDModel(factors=N_FACTORS)"
   ]
  },
  {
   "cell_type": "code",
   "execution_count": 43,
   "id": "60717a00-005a-4cb9-bd60-380a70183cc9",
   "metadata": {},
   "outputs": [
    {
     "data": {
      "text/plain": [
       "{'random': <rectools.models.random.RandomModel at 0x7b27d3ae2290>,\n",
       " 'popular': <rectools.models.popular.PopularModel at 0x7b27b4b4b3d0>,\n",
       " 'most_raited': <rectools.models.popular.PopularModel at 0x7b27d39a5190>,\n",
       " 'ALS_factors_4': <rectools.models.implicit_als.ImplicitALSWrapperModel at 0x7b27b4b725d0>,\n",
       " 'BPR_factors_4': <rectools.models.implicit_als.ImplicitALSWrapperModel at 0x7b27b4ba83d0>,\n",
       " 'LMF_factors_4': <rectools.models.implicit_als.ImplicitALSWrapperModel at 0x7b27d3a84c10>,\n",
       " 'LightFM_logistic_factors_4': <rectools.models.lightfm.LightFMWrapperModel at 0x7b27d3901dd0>,\n",
       " 'LightFM_bpr_factors_4': <rectools.models.lightfm.LightFMWrapperModel at 0x7b27d37353d0>,\n",
       " 'LightFM_warp_factors_4': <rectools.models.lightfm.LightFMWrapperModel at 0x7b27d38ae310>,\n",
       " 'PureSVD_4': <rectools.models.pure_svd.PureSVDModel at 0x7b27d3886c90>}"
      ]
     },
     "execution_count": 43,
     "metadata": {},
     "output_type": "execute_result"
    }
   ],
   "source": [
    "models"
   ]
  },
  {
   "cell_type": "code",
   "execution_count": 44,
   "id": "ef68d995-3fb5-4d5a-b120-f4fc02ca8179",
   "metadata": {},
   "outputs": [
    {
     "data": {
      "text/plain": [
       "{'precision@3': Precision(k=3),\n",
       " 'precision@5': Precision(k=5),\n",
       " 'precision@10': Precision(k=10),\n",
       " 'recall@3': Recall(k=3),\n",
       " 'recall@5': Recall(k=5),\n",
       " 'recall@10': Recall(k=10),\n",
       " 'ndcg@3': NDCG(k=3, log_base=2),\n",
       " 'ndcg@5': NDCG(k=5, log_base=2),\n",
       " 'ndcg@10': NDCG(k=10, log_base=2),\n",
       " 'serendipity@3': Serendipity(k=3),\n",
       " 'serendipity@5': Serendipity(k=5),\n",
       " 'serendipity@10': Serendipity(k=10),\n",
       " 'novelty@3': MeanInvUserFreq(k=3),\n",
       " 'novelty@5': MeanInvUserFreq(k=5),\n",
       " 'novelty@10': MeanInvUserFreq(k=10)}"
      ]
     },
     "execution_count": 44,
     "metadata": {},
     "output_type": "execute_result"
    }
   ],
   "source": [
    "# Объявляем метрики\n",
    "metrics_name = {\n",
    "    \"precision\": Precision,\n",
    "    \"recall\": Recall,\n",
    "    \"ndcg\": NDCG,\n",
    "    \"serendipity\": Serendipity,\n",
    "    \"novelty\": MeanInvUserFreq,\n",
    "}\n",
    "K = [3, 5, 10]\n",
    "\n",
    "\n",
    "metrics = {}\n",
    "for metric_name, metric in metrics_name.items():\n",
    "    for k in K:\n",
    "        metrics[f\"{metric_name}@{k}\"] = metric(k=k)\n",
    "metrics"
   ]
  },
  {
   "cell_type": "code",
   "execution_count": 47,
   "id": "f21a6c3a-5393-4fea-9e80-a918d38ac976",
   "metadata": {},
   "outputs": [
    {
     "name": "stderr",
     "output_type": "stream",
     "text": [
      "100%|██████████| 10/10 [03:06<00:00, 18.69s/it]\n"
     ]
    }
   ],
   "source": [
    "catalog = train[Columns.Item].unique()\n",
    "\n",
    "results = []\n",
    "for model_name, model in tqdm(models.items()):\n",
    "    model_quality = {\"model\": model_name}\n",
    "\n",
    "    model.fit(dataset)\n",
    "    recos = model.recommend(\n",
    "        users=test_hot[Columns.User].unique(),\n",
    "        dataset=dataset,\n",
    "        k=K_RECOS,\n",
    "        filter_viewed=True,  # Для чего этот параметр?\n",
    "    )\n",
    "\n",
    "    metric_values = calc_metrics(metrics, recos, test_hot, train, catalog=catalog)\n",
    "\n",
    "    model_quality.update(metric_values)\n",
    "    results.append(model_quality)"
   ]
  },
  {
   "cell_type": "code",
   "execution_count": 48,
   "id": "81af5eb2-63f3-472b-a98f-5fb2120d01e6",
   "metadata": {},
   "outputs": [],
   "source": [
    "df_quality = pd.DataFrame(results).T\n",
    "\n",
    "df_quality.columns = df_quality.iloc[0]\n",
    "\n",
    "df_quality.drop(\"model\", inplace=True)"
   ]
  },
  {
   "cell_type": "code",
   "execution_count": 49,
   "id": "1aacd7c5-a426-4b1d-94e6-61916fbf9ca2",
   "metadata": {},
   "outputs": [
    {
     "data": {
      "text/html": [
       "<style type=\"text/css\">\n",
       "#T_07ae0_row0_col1, #T_07ae0_row1_col1, #T_07ae0_row2_col8, #T_07ae0_row3_col1, #T_07ae0_row4_col8, #T_07ae0_row5_col8, #T_07ae0_row6_col8, #T_07ae0_row7_col8, #T_07ae0_row8_col8, #T_07ae0_row9_col7, #T_07ae0_row10_col7, #T_07ae0_row11_col7, #T_07ae0_row12_col4, #T_07ae0_row13_col4, #T_07ae0_row14_col4 {\n",
       "  background-color: lightgreen;\n",
       "}\n",
       "</style>\n",
       "<table id=\"T_07ae0\">\n",
       "  <thead>\n",
       "    <tr>\n",
       "      <th class=\"index_name level0\" >model</th>\n",
       "      <th id=\"T_07ae0_level0_col0\" class=\"col_heading level0 col0\" >random</th>\n",
       "      <th id=\"T_07ae0_level0_col1\" class=\"col_heading level0 col1\" >popular</th>\n",
       "      <th id=\"T_07ae0_level0_col2\" class=\"col_heading level0 col2\" >most_raited</th>\n",
       "      <th id=\"T_07ae0_level0_col3\" class=\"col_heading level0 col3\" >ALS_factors_4</th>\n",
       "      <th id=\"T_07ae0_level0_col4\" class=\"col_heading level0 col4\" >BPR_factors_4</th>\n",
       "      <th id=\"T_07ae0_level0_col5\" class=\"col_heading level0 col5\" >LMF_factors_4</th>\n",
       "      <th id=\"T_07ae0_level0_col6\" class=\"col_heading level0 col6\" >LightFM_logistic_factors_4</th>\n",
       "      <th id=\"T_07ae0_level0_col7\" class=\"col_heading level0 col7\" >LightFM_bpr_factors_4</th>\n",
       "      <th id=\"T_07ae0_level0_col8\" class=\"col_heading level0 col8\" >LightFM_warp_factors_4</th>\n",
       "      <th id=\"T_07ae0_level0_col9\" class=\"col_heading level0 col9\" >PureSVD_4</th>\n",
       "    </tr>\n",
       "  </thead>\n",
       "  <tbody>\n",
       "    <tr>\n",
       "      <th id=\"T_07ae0_level0_row0\" class=\"row_heading level0 row0\" >precision@3</th>\n",
       "      <td id=\"T_07ae0_row0_col0\" class=\"data row0 col0\" >0.000166</td>\n",
       "      <td id=\"T_07ae0_row0_col1\" class=\"data row0 col1\" >0.066225</td>\n",
       "      <td id=\"T_07ae0_row0_col2\" class=\"data row0 col2\" >0.049303</td>\n",
       "      <td id=\"T_07ae0_row0_col3\" class=\"data row0 col3\" >0.020271</td>\n",
       "      <td id=\"T_07ae0_row0_col4\" class=\"data row0 col4\" >0.026261</td>\n",
       "      <td id=\"T_07ae0_row0_col5\" class=\"data row0 col5\" >0.000044</td>\n",
       "      <td id=\"T_07ae0_row0_col6\" class=\"data row0 col6\" >0.000006</td>\n",
       "      <td id=\"T_07ae0_row0_col7\" class=\"data row0 col7\" >0.000000</td>\n",
       "      <td id=\"T_07ae0_row0_col8\" class=\"data row0 col8\" >0.065412</td>\n",
       "      <td id=\"T_07ae0_row0_col9\" class=\"data row0 col9\" >0.039128</td>\n",
       "    </tr>\n",
       "    <tr>\n",
       "      <th id=\"T_07ae0_level0_row1\" class=\"row_heading level0 row1\" >recall@3</th>\n",
       "      <td id=\"T_07ae0_row1_col0\" class=\"data row1 col0\" >0.000161</td>\n",
       "      <td id=\"T_07ae0_row1_col1\" class=\"data row1 col1\" >0.100400</td>\n",
       "      <td id=\"T_07ae0_row1_col2\" class=\"data row1 col2\" >0.076340</td>\n",
       "      <td id=\"T_07ae0_row1_col3\" class=\"data row1 col3\" >0.032830</td>\n",
       "      <td id=\"T_07ae0_row1_col4\" class=\"data row1 col4\" >0.041706</td>\n",
       "      <td id=\"T_07ae0_row1_col5\" class=\"data row1 col5\" >0.000038</td>\n",
       "      <td id=\"T_07ae0_row1_col6\" class=\"data row1 col6\" >0.000002</td>\n",
       "      <td id=\"T_07ae0_row1_col7\" class=\"data row1 col7\" >0.000000</td>\n",
       "      <td id=\"T_07ae0_row1_col8\" class=\"data row1 col8\" >0.097361</td>\n",
       "      <td id=\"T_07ae0_row1_col9\" class=\"data row1 col9\" >0.061377</td>\n",
       "    </tr>\n",
       "    <tr>\n",
       "      <th id=\"T_07ae0_level0_row2\" class=\"row_heading level0 row2\" >precision@5</th>\n",
       "      <td id=\"T_07ae0_row2_col0\" class=\"data row2 col0\" >0.000171</td>\n",
       "      <td id=\"T_07ae0_row2_col1\" class=\"data row2 col1\" >0.052735</td>\n",
       "      <td id=\"T_07ae0_row2_col2\" class=\"data row2 col2\" >0.036461</td>\n",
       "      <td id=\"T_07ae0_row2_col3\" class=\"data row2 col3\" >0.017861</td>\n",
       "      <td id=\"T_07ae0_row2_col4\" class=\"data row2 col4\" >0.020465</td>\n",
       "      <td id=\"T_07ae0_row2_col5\" class=\"data row2 col5\" >0.000055</td>\n",
       "      <td id=\"T_07ae0_row2_col6\" class=\"data row2 col6\" >0.000007</td>\n",
       "      <td id=\"T_07ae0_row2_col7\" class=\"data row2 col7\" >0.000002</td>\n",
       "      <td id=\"T_07ae0_row2_col8\" class=\"data row2 col8\" >0.053082</td>\n",
       "      <td id=\"T_07ae0_row2_col9\" class=\"data row2 col9\" >0.028520</td>\n",
       "    </tr>\n",
       "    <tr>\n",
       "      <th id=\"T_07ae0_level0_row3\" class=\"row_heading level0 row3\" >recall@5</th>\n",
       "      <td id=\"T_07ae0_row3_col0\" class=\"data row3 col0\" >0.000293</td>\n",
       "      <td id=\"T_07ae0_row3_col1\" class=\"data row3 col1\" >0.130473</td>\n",
       "      <td id=\"T_07ae0_row3_col2\" class=\"data row3 col2\" >0.092314</td>\n",
       "      <td id=\"T_07ae0_row3_col3\" class=\"data row3 col3\" >0.046621</td>\n",
       "      <td id=\"T_07ae0_row3_col4\" class=\"data row3 col4\" >0.052768</td>\n",
       "      <td id=\"T_07ae0_row3_col5\" class=\"data row3 col5\" >0.000099</td>\n",
       "      <td id=\"T_07ae0_row3_col6\" class=\"data row3 col6\" >0.000006</td>\n",
       "      <td id=\"T_07ae0_row3_col7\" class=\"data row3 col7\" >0.000002</td>\n",
       "      <td id=\"T_07ae0_row3_col8\" class=\"data row3 col8\" >0.129057</td>\n",
       "      <td id=\"T_07ae0_row3_col9\" class=\"data row3 col9\" >0.073604</td>\n",
       "    </tr>\n",
       "    <tr>\n",
       "      <th id=\"T_07ae0_level0_row4\" class=\"row_heading level0 row4\" >precision@10</th>\n",
       "      <td id=\"T_07ae0_row4_col0\" class=\"data row4 col0\" >0.000176</td>\n",
       "      <td id=\"T_07ae0_row4_col1\" class=\"data row4 col1\" >0.033708</td>\n",
       "      <td id=\"T_07ae0_row4_col2\" class=\"data row4 col2\" >0.029902</td>\n",
       "      <td id=\"T_07ae0_row4_col3\" class=\"data row4 col3\" >0.016555</td>\n",
       "      <td id=\"T_07ae0_row4_col4\" class=\"data row4 col4\" >0.014280</td>\n",
       "      <td id=\"T_07ae0_row4_col5\" class=\"data row4 col5\" >0.000066</td>\n",
       "      <td id=\"T_07ae0_row4_col6\" class=\"data row4 col6\" >0.000010</td>\n",
       "      <td id=\"T_07ae0_row4_col7\" class=\"data row4 col7\" >0.000002</td>\n",
       "      <td id=\"T_07ae0_row4_col8\" class=\"data row4 col8\" >0.035476</td>\n",
       "      <td id=\"T_07ae0_row4_col9\" class=\"data row4 col9\" >0.024375</td>\n",
       "    </tr>\n",
       "    <tr>\n",
       "      <th id=\"T_07ae0_level0_row5\" class=\"row_heading level0 row5\" >recall@10</th>\n",
       "      <td id=\"T_07ae0_row5_col0\" class=\"data row5 col0\" >0.000636</td>\n",
       "      <td id=\"T_07ae0_row5_col1\" class=\"data row5 col1\" >0.163348</td>\n",
       "      <td id=\"T_07ae0_row5_col2\" class=\"data row5 col2\" >0.148263</td>\n",
       "      <td id=\"T_07ae0_row5_col3\" class=\"data row5 col3\" >0.085179</td>\n",
       "      <td id=\"T_07ae0_row5_col4\" class=\"data row5 col4\" >0.070918</td>\n",
       "      <td id=\"T_07ae0_row5_col5\" class=\"data row5 col5\" >0.000201</td>\n",
       "      <td id=\"T_07ae0_row5_col6\" class=\"data row5 col6\" >0.000018</td>\n",
       "      <td id=\"T_07ae0_row5_col7\" class=\"data row5 col7\" >0.000004</td>\n",
       "      <td id=\"T_07ae0_row5_col8\" class=\"data row5 col8\" >0.167321</td>\n",
       "      <td id=\"T_07ae0_row5_col9\" class=\"data row5 col9\" >0.121362</td>\n",
       "    </tr>\n",
       "    <tr>\n",
       "      <th id=\"T_07ae0_level0_row6\" class=\"row_heading level0 row6\" >ndcg@3</th>\n",
       "      <td id=\"T_07ae0_row6_col0\" class=\"data row6 col0\" >0.000181</td>\n",
       "      <td id=\"T_07ae0_row6_col1\" class=\"data row6 col1\" >0.067825</td>\n",
       "      <td id=\"T_07ae0_row6_col2\" class=\"data row6 col2\" >0.054997</td>\n",
       "      <td id=\"T_07ae0_row6_col3\" class=\"data row6 col3\" >0.017856</td>\n",
       "      <td id=\"T_07ae0_row6_col4\" class=\"data row6 col4\" >0.029415</td>\n",
       "      <td id=\"T_07ae0_row6_col5\" class=\"data row6 col5\" >0.000038</td>\n",
       "      <td id=\"T_07ae0_row6_col6\" class=\"data row6 col6\" >0.000004</td>\n",
       "      <td id=\"T_07ae0_row6_col7\" class=\"data row6 col7\" >0.000000</td>\n",
       "      <td id=\"T_07ae0_row6_col8\" class=\"data row6 col8\" >0.069335</td>\n",
       "      <td id=\"T_07ae0_row6_col9\" class=\"data row6 col9\" >0.045404</td>\n",
       "    </tr>\n",
       "    <tr>\n",
       "      <th id=\"T_07ae0_level0_row7\" class=\"row_heading level0 row7\" >ndcg@5</th>\n",
       "      <td id=\"T_07ae0_row7_col0\" class=\"data row7 col0\" >0.000180</td>\n",
       "      <td id=\"T_07ae0_row7_col1\" class=\"data row7 col1\" >0.058125</td>\n",
       "      <td id=\"T_07ae0_row7_col2\" class=\"data row7 col2\" >0.044439</td>\n",
       "      <td id=\"T_07ae0_row7_col3\" class=\"data row7 col3\" >0.016872</td>\n",
       "      <td id=\"T_07ae0_row7_col4\" class=\"data row7 col4\" >0.024539</td>\n",
       "      <td id=\"T_07ae0_row7_col5\" class=\"data row7 col5\" >0.000047</td>\n",
       "      <td id=\"T_07ae0_row7_col6\" class=\"data row7 col6\" >0.000005</td>\n",
       "      <td id=\"T_07ae0_row7_col7\" class=\"data row7 col7\" >0.000001</td>\n",
       "      <td id=\"T_07ae0_row7_col8\" class=\"data row7 col8\" >0.059769</td>\n",
       "      <td id=\"T_07ae0_row7_col9\" class=\"data row7 col9\" >0.036321</td>\n",
       "    </tr>\n",
       "    <tr>\n",
       "      <th id=\"T_07ae0_level0_row8\" class=\"row_heading level0 row8\" >ndcg@10</th>\n",
       "      <td id=\"T_07ae0_row8_col0\" class=\"data row8 col0\" >0.000180</td>\n",
       "      <td id=\"T_07ae0_row8_col1\" class=\"data row8 col1\" >0.042932</td>\n",
       "      <td id=\"T_07ae0_row8_col2\" class=\"data row8 col2\" >0.037379</td>\n",
       "      <td id=\"T_07ae0_row8_col3\" class=\"data row8 col3\" >0.016288</td>\n",
       "      <td id=\"T_07ae0_row8_col4\" class=\"data row8 col4\" >0.018791</td>\n",
       "      <td id=\"T_07ae0_row8_col5\" class=\"data row8 col5\" >0.000058</td>\n",
       "      <td id=\"T_07ae0_row8_col6\" class=\"data row8 col6\" >0.000008</td>\n",
       "      <td id=\"T_07ae0_row8_col7\" class=\"data row8 col7\" >0.000002</td>\n",
       "      <td id=\"T_07ae0_row8_col8\" class=\"data row8 col8\" >0.045119</td>\n",
       "      <td id=\"T_07ae0_row8_col9\" class=\"data row8 col9\" >0.030618</td>\n",
       "    </tr>\n",
       "    <tr>\n",
       "      <th id=\"T_07ae0_level0_row9\" class=\"row_heading level0 row9\" >novelty@3</th>\n",
       "      <td id=\"T_07ae0_row9_col0\" class=\"data row9 col0\" >15.622707</td>\n",
       "      <td id=\"T_07ae0_row9_col1\" class=\"data row9 col1\" >2.715712</td>\n",
       "      <td id=\"T_07ae0_row9_col2\" class=\"data row9 col2\" >3.476014</td>\n",
       "      <td id=\"T_07ae0_row9_col3\" class=\"data row9 col3\" >6.254801</td>\n",
       "      <td id=\"T_07ae0_row9_col4\" class=\"data row9 col4\" >8.742482</td>\n",
       "      <td id=\"T_07ae0_row9_col5\" class=\"data row9 col5\" >15.863335</td>\n",
       "      <td id=\"T_07ae0_row9_col6\" class=\"data row9 col6\" >17.540496</td>\n",
       "      <td id=\"T_07ae0_row9_col7\" class=\"data row9 col7\" >17.854312</td>\n",
       "      <td id=\"T_07ae0_row9_col8\" class=\"data row9 col8\" >3.065290</td>\n",
       "      <td id=\"T_07ae0_row9_col9\" class=\"data row9 col9\" >4.662294</td>\n",
       "    </tr>\n",
       "    <tr>\n",
       "      <th id=\"T_07ae0_level0_row10\" class=\"row_heading level0 row10\" >novelty@5</th>\n",
       "      <td id=\"T_07ae0_row10_col0\" class=\"data row10 col0\" >15.621916</td>\n",
       "      <td id=\"T_07ae0_row10_col1\" class=\"data row10 col1\" >3.054547</td>\n",
       "      <td id=\"T_07ae0_row10_col2\" class=\"data row10 col2\" >4.362083</td>\n",
       "      <td id=\"T_07ae0_row10_col3\" class=\"data row10 col3\" >6.477830</td>\n",
       "      <td id=\"T_07ae0_row10_col4\" class=\"data row10 col4\" >9.140963</td>\n",
       "      <td id=\"T_07ae0_row10_col5\" class=\"data row10 col5\" >15.852230</td>\n",
       "      <td id=\"T_07ae0_row10_col6\" class=\"data row10 col6\" >17.344798</td>\n",
       "      <td id=\"T_07ae0_row10_col7\" class=\"data row10 col7\" >17.921971</td>\n",
       "      <td id=\"T_07ae0_row10_col8\" class=\"data row10 col8\" >3.422049</td>\n",
       "      <td id=\"T_07ae0_row10_col9\" class=\"data row10 col9\" >5.205189</td>\n",
       "    </tr>\n",
       "    <tr>\n",
       "      <th id=\"T_07ae0_level0_row11\" class=\"row_heading level0 row11\" >novelty@10</th>\n",
       "      <td id=\"T_07ae0_row11_col0\" class=\"data row11 col0\" >15.627710</td>\n",
       "      <td id=\"T_07ae0_row11_col1\" class=\"data row11 col1\" >3.712311</td>\n",
       "      <td id=\"T_07ae0_row11_col2\" class=\"data row11 col2\" >4.715587</td>\n",
       "      <td id=\"T_07ae0_row11_col3\" class=\"data row11 col3\" >6.711071</td>\n",
       "      <td id=\"T_07ae0_row11_col4\" class=\"data row11 col4\" >9.642182</td>\n",
       "      <td id=\"T_07ae0_row11_col5\" class=\"data row11 col5\" >15.870130</td>\n",
       "      <td id=\"T_07ae0_row11_col6\" class=\"data row11 col6\" >17.008411</td>\n",
       "      <td id=\"T_07ae0_row11_col7\" class=\"data row11 col7\" >17.769323</td>\n",
       "      <td id=\"T_07ae0_row11_col8\" class=\"data row11 col8\" >4.125199</td>\n",
       "      <td id=\"T_07ae0_row11_col9\" class=\"data row11 col9\" >5.259059</td>\n",
       "    </tr>\n",
       "    <tr>\n",
       "      <th id=\"T_07ae0_level0_row12\" class=\"row_heading level0 row12\" >serendipity@3</th>\n",
       "      <td id=\"T_07ae0_row12_col0\" class=\"data row12 col0\" >0.000007</td>\n",
       "      <td id=\"T_07ae0_row12_col1\" class=\"data row12 col1\" >0.000002</td>\n",
       "      <td id=\"T_07ae0_row12_col2\" class=\"data row12 col2\" >0.000011</td>\n",
       "      <td id=\"T_07ae0_row12_col3\" class=\"data row12 col3\" >0.000036</td>\n",
       "      <td id=\"T_07ae0_row12_col4\" class=\"data row12 col4\" >0.000149</td>\n",
       "      <td id=\"T_07ae0_row12_col5\" class=\"data row12 col5\" >0.000003</td>\n",
       "      <td id=\"T_07ae0_row12_col6\" class=\"data row12 col6\" >0.000001</td>\n",
       "      <td id=\"T_07ae0_row12_col7\" class=\"data row12 col7\" >0.000000</td>\n",
       "      <td id=\"T_07ae0_row12_col8\" class=\"data row12 col8\" >0.000014</td>\n",
       "      <td id=\"T_07ae0_row12_col9\" class=\"data row12 col9\" >0.000015</td>\n",
       "    </tr>\n",
       "    <tr>\n",
       "      <th id=\"T_07ae0_level0_row13\" class=\"row_heading level0 row13\" >serendipity@5</th>\n",
       "      <td id=\"T_07ae0_row13_col0\" class=\"data row13 col0\" >0.000006</td>\n",
       "      <td id=\"T_07ae0_row13_col1\" class=\"data row13 col1\" >0.000002</td>\n",
       "      <td id=\"T_07ae0_row13_col2\" class=\"data row13 col2\" >0.000012</td>\n",
       "      <td id=\"T_07ae0_row13_col3\" class=\"data row13 col3\" >0.000037</td>\n",
       "      <td id=\"T_07ae0_row13_col4\" class=\"data row13 col4\" >0.000157</td>\n",
       "      <td id=\"T_07ae0_row13_col5\" class=\"data row13 col5\" >0.000003</td>\n",
       "      <td id=\"T_07ae0_row13_col6\" class=\"data row13 col6\" >0.000001</td>\n",
       "      <td id=\"T_07ae0_row13_col7\" class=\"data row13 col7\" >0.000000</td>\n",
       "      <td id=\"T_07ae0_row13_col8\" class=\"data row13 col8\" >0.000015</td>\n",
       "      <td id=\"T_07ae0_row13_col9\" class=\"data row13 col9\" >0.000017</td>\n",
       "    </tr>\n",
       "    <tr>\n",
       "      <th id=\"T_07ae0_level0_row14\" class=\"row_heading level0 row14\" >serendipity@10</th>\n",
       "      <td id=\"T_07ae0_row14_col0\" class=\"data row14 col0\" >0.000006</td>\n",
       "      <td id=\"T_07ae0_row14_col1\" class=\"data row14 col1\" >0.000002</td>\n",
       "      <td id=\"T_07ae0_row14_col2\" class=\"data row14 col2\" >0.000010</td>\n",
       "      <td id=\"T_07ae0_row14_col3\" class=\"data row14 col3\" >0.000035</td>\n",
       "      <td id=\"T_07ae0_row14_col4\" class=\"data row14 col4\" >0.000151</td>\n",
       "      <td id=\"T_07ae0_row14_col5\" class=\"data row14 col5\" >0.000004</td>\n",
       "      <td id=\"T_07ae0_row14_col6\" class=\"data row14 col6\" >0.000001</td>\n",
       "      <td id=\"T_07ae0_row14_col7\" class=\"data row14 col7\" >0.000000</td>\n",
       "      <td id=\"T_07ae0_row14_col8\" class=\"data row14 col8\" >0.000017</td>\n",
       "      <td id=\"T_07ae0_row14_col9\" class=\"data row14 col9\" >0.000016</td>\n",
       "    </tr>\n",
       "  </tbody>\n",
       "</table>\n"
      ],
      "text/plain": [
       "<pandas.io.formats.style.Styler at 0x7b27d2b45d90>"
      ]
     },
     "execution_count": 49,
     "metadata": {},
     "output_type": "execute_result"
    }
   ],
   "source": [
    "df_quality.style.highlight_max(color=\"lightgreen\", axis=1)"
   ]
  },
  {
   "cell_type": "markdown",
   "id": "76d482ff-5a59-434e-b06e-0dc669d88a96",
   "metadata": {},
   "source": [
    "**Ваши предположения:**\n",
    "\n",
    "Почему LightFM в warp loss-ом показывает лучшие результаты по метрикам precision@k?"
   ]
  },
  {
   "cell_type": "markdown",
   "id": "651ba74c-c42a-423d-a5ab-e77abd172415",
   "metadata": {},
   "source": [
    "# Models with Features"
   ]
  },
  {
   "cell_type": "markdown",
   "id": "02b97bab-3418-472d-8d3d-8848ec7cb953",
   "metadata": {},
   "source": [
    "## User features"
   ]
  },
  {
   "cell_type": "code",
   "execution_count": 50,
   "id": "5b5e8a0c-2557-4720-8707-66f8954412fd",
   "metadata": {},
   "outputs": [
    {
     "data": {
      "text/html": [
       "<div>\n",
       "<style scoped>\n",
       "    .dataframe tbody tr th:only-of-type {\n",
       "        vertical-align: middle;\n",
       "    }\n",
       "\n",
       "    .dataframe tbody tr th {\n",
       "        vertical-align: top;\n",
       "    }\n",
       "\n",
       "    .dataframe thead th {\n",
       "        text-align: right;\n",
       "    }\n",
       "</style>\n",
       "<table border=\"1\" class=\"dataframe\">\n",
       "  <thead>\n",
       "    <tr style=\"text-align: right;\">\n",
       "      <th></th>\n",
       "      <th>user_id</th>\n",
       "      <th>age</th>\n",
       "      <th>income</th>\n",
       "      <th>sex</th>\n",
       "      <th>kids_flg</th>\n",
       "    </tr>\n",
       "  </thead>\n",
       "  <tbody>\n",
       "    <tr>\n",
       "      <th>0</th>\n",
       "      <td>973171</td>\n",
       "      <td>age_25_34</td>\n",
       "      <td>income_60_90</td>\n",
       "      <td>М</td>\n",
       "      <td>1</td>\n",
       "    </tr>\n",
       "    <tr>\n",
       "      <th>1</th>\n",
       "      <td>962099</td>\n",
       "      <td>age_18_24</td>\n",
       "      <td>income_20_40</td>\n",
       "      <td>М</td>\n",
       "      <td>0</td>\n",
       "    </tr>\n",
       "    <tr>\n",
       "      <th>2</th>\n",
       "      <td>1047345</td>\n",
       "      <td>age_45_54</td>\n",
       "      <td>income_40_60</td>\n",
       "      <td>Ж</td>\n",
       "      <td>0</td>\n",
       "    </tr>\n",
       "    <tr>\n",
       "      <th>3</th>\n",
       "      <td>721985</td>\n",
       "      <td>age_45_54</td>\n",
       "      <td>income_20_40</td>\n",
       "      <td>Ж</td>\n",
       "      <td>0</td>\n",
       "    </tr>\n",
       "    <tr>\n",
       "      <th>4</th>\n",
       "      <td>704055</td>\n",
       "      <td>age_35_44</td>\n",
       "      <td>income_60_90</td>\n",
       "      <td>Ж</td>\n",
       "      <td>0</td>\n",
       "    </tr>\n",
       "  </tbody>\n",
       "</table>\n",
       "</div>"
      ],
      "text/plain": [
       "   user_id        age        income sex  kids_flg\n",
       "0   973171  age_25_34  income_60_90   М         1\n",
       "1   962099  age_18_24  income_20_40   М         0\n",
       "2  1047345  age_45_54  income_40_60   Ж         0\n",
       "3   721985  age_45_54  income_20_40   Ж         0\n",
       "4   704055  age_35_44  income_60_90   Ж         0"
      ]
     },
     "execution_count": 50,
     "metadata": {},
     "output_type": "execute_result"
    }
   ],
   "source": [
    "users.head()"
   ]
  },
  {
   "cell_type": "code",
   "execution_count": 51,
   "id": "19f10022-6376-4302-8808-ab9f90274f5b",
   "metadata": {},
   "outputs": [
    {
     "data": {
      "text/plain": [
       "user_id         0\n",
       "age         14095\n",
       "income      14776\n",
       "sex         13831\n",
       "kids_flg        0\n",
       "dtype: int64"
      ]
     },
     "execution_count": 51,
     "metadata": {},
     "output_type": "execute_result"
    }
   ],
   "source": [
    "users.isnull().sum()"
   ]
  },
  {
   "cell_type": "code",
   "execution_count": 52,
   "id": "703f1d0c-707a-4859-939c-6c1afa3157c8",
   "metadata": {},
   "outputs": [
    {
     "data": {
      "text/plain": [
       "user_id      int64\n",
       "age         object\n",
       "income      object\n",
       "sex         object\n",
       "kids_flg     int64\n",
       "dtype: object"
      ]
     },
     "execution_count": 52,
     "metadata": {},
     "output_type": "execute_result"
    }
   ],
   "source": [
    "users.dtypes"
   ]
  },
  {
   "cell_type": "code",
   "execution_count": 53,
   "id": "c12ee5fc-1650-4e66-bb57-08c3206a5d87",
   "metadata": {},
   "outputs": [],
   "source": [
    "# Заменим пропуски значениями `Unknown`\n",
    "users.fillna(\"Unknown\", inplace=True)"
   ]
  },
  {
   "cell_type": "code",
   "execution_count": 54,
   "id": "ce9924e2-6c61-4422-bd7b-0d3f2e27a38c",
   "metadata": {},
   "outputs": [
    {
     "data": {
      "text/plain": [
       "user_id     840197\n",
       "age              7\n",
       "income           7\n",
       "sex              3\n",
       "kids_flg         2\n",
       "dtype: int64"
      ]
     },
     "execution_count": 54,
     "metadata": {},
     "output_type": "execute_result"
    }
   ],
   "source": [
    "users.nunique()"
   ]
  },
  {
   "cell_type": "markdown",
   "id": "cded2f12-d4d5-4fc6-9278-5cdefc1fbed5",
   "metadata": {},
   "source": [
    "**Рассмотрим распределение признаков пользователей**"
   ]
  },
  {
   "cell_type": "code",
   "execution_count": 55,
   "id": "5a194c9e-b495-4d36-bd0a-0aff776f54d2",
   "metadata": {},
   "outputs": [
    {
     "data": {
      "image/png": "[encoded data removed]",
      "text/plain": [
       "<Figure size 2000x1000 with 1 Axes>"
      ]
     },
     "metadata": {},
     "output_type": "display_data"
    }
   ],
   "source": [
    "users[\"age\"].value_counts().plot.barh()"
   ]
  },
  {
   "cell_type": "code",
   "execution_count": 56,
   "id": "66431d6a-9053-4ba3-87f5-5fc497c1ba18",
   "metadata": {},
   "outputs": [
    {
     "data": {
      "image/png": "[encoded data removed]",
      "text/plain": [
       "<Figure size 2000x1000 with 1 Axes>"
      ]
     },
     "metadata": {},
     "output_type": "display_data"
    }
   ],
   "source": [
    "users[\"income\"].value_counts().plot.barh()"
   ]
  },
  {
   "cell_type": "code",
   "execution_count": 57,
   "id": "31877dfa-45a7-4d28-bb88-be51a14672e3",
   "metadata": {},
   "outputs": [
    {
     "data": {
      "image/png": "[encoded data removed]",
      "text/plain": [
       "<Figure size 2000x1000 with 1 Axes>"
      ]
     },
     "metadata": {},
     "output_type": "display_data"
    }
   ],
   "source": [
    "users[\"sex\"].value_counts().plot.barh()"
   ]
  },
  {
   "cell_type": "markdown",
   "id": "0610adbf-503f-4a54-8b1e-fe3f3911014b",
   "metadata": {},
   "source": [
    "**Создадим датасет из фичей пользователей, взяв их соц-дем признаки `age`, `income`, `sex`**"
   ]
  },
  {
   "cell_type": "code",
   "execution_count": 58,
   "id": "1ea74859-f475-46ab-adc4-71b2b62c62e4",
   "metadata": {},
   "outputs": [
    {
     "data": {
      "text/html": [
       "<div>\n",
       "<style scoped>\n",
       "    .dataframe tbody tr th:only-of-type {\n",
       "        vertical-align: middle;\n",
       "    }\n",
       "\n",
       "    .dataframe tbody tr th {\n",
       "        vertical-align: top;\n",
       "    }\n",
       "\n",
       "    .dataframe thead th {\n",
       "        text-align: right;\n",
       "    }\n",
       "</style>\n",
       "<table border=\"1\" class=\"dataframe\">\n",
       "  <thead>\n",
       "    <tr style=\"text-align: right;\">\n",
       "      <th></th>\n",
       "      <th>id</th>\n",
       "      <th>value</th>\n",
       "      <th>feature</th>\n",
       "    </tr>\n",
       "  </thead>\n",
       "  <tbody>\n",
       "    <tr>\n",
       "      <th>0</th>\n",
       "      <td>973171</td>\n",
       "      <td>age_25_34</td>\n",
       "      <td>age</td>\n",
       "    </tr>\n",
       "    <tr>\n",
       "      <th>1</th>\n",
       "      <td>962099</td>\n",
       "      <td>age_18_24</td>\n",
       "      <td>age</td>\n",
       "    </tr>\n",
       "    <tr>\n",
       "      <th>2</th>\n",
       "      <td>1047345</td>\n",
       "      <td>age_45_54</td>\n",
       "      <td>age</td>\n",
       "    </tr>\n",
       "    <tr>\n",
       "      <th>3</th>\n",
       "      <td>721985</td>\n",
       "      <td>age_45_54</td>\n",
       "      <td>age</td>\n",
       "    </tr>\n",
       "    <tr>\n",
       "      <th>4</th>\n",
       "      <td>704055</td>\n",
       "      <td>age_35_44</td>\n",
       "      <td>age</td>\n",
       "    </tr>\n",
       "  </tbody>\n",
       "</table>\n",
       "</div>"
      ],
      "text/plain": [
       "        id      value feature\n",
       "0   973171  age_25_34     age\n",
       "1   962099  age_18_24     age\n",
       "2  1047345  age_45_54     age\n",
       "3   721985  age_45_54     age\n",
       "4   704055  age_35_44     age"
      ]
     },
     "execution_count": 58,
     "metadata": {},
     "output_type": "execute_result"
    }
   ],
   "source": [
    "FEATURES_COLUMNS = [\"age\", \"income\", \"sex\"]\n",
    "\n",
    "user_features_dfs = []\n",
    "for feature in FEATURES_COLUMNS:\n",
    "    feature_df = users.reindex(columns=[Columns.User, feature])\n",
    "    feature_df.columns = [\"id\", \"value\"]\n",
    "    feature_df[\"feature\"] = feature\n",
    "    user_features_dfs.append(feature_df)\n",
    "user_features_df = pd.concat(user_features_dfs, ignore_index=True)\n",
    "user_features_df.head()"
   ]
  },
  {
   "cell_type": "code",
   "execution_count": 59,
   "id": "a7894299-0381-456d-9e04-33ef5ed334ab",
   "metadata": {},
   "outputs": [
    {
     "data": {
      "text/html": [
       "<div>\n",
       "<style scoped>\n",
       "    .dataframe tbody tr th:only-of-type {\n",
       "        vertical-align: middle;\n",
       "    }\n",
       "\n",
       "    .dataframe tbody tr th {\n",
       "        vertical-align: top;\n",
       "    }\n",
       "\n",
       "    .dataframe thead th {\n",
       "        text-align: right;\n",
       "    }\n",
       "</style>\n",
       "<table border=\"1\" class=\"dataframe\">\n",
       "  <thead>\n",
       "    <tr style=\"text-align: right;\">\n",
       "      <th></th>\n",
       "      <th>user_id</th>\n",
       "      <th>age</th>\n",
       "      <th>income</th>\n",
       "      <th>sex</th>\n",
       "      <th>kids_flg</th>\n",
       "    </tr>\n",
       "  </thead>\n",
       "  <tbody>\n",
       "    <tr>\n",
       "      <th>0</th>\n",
       "      <td>973171</td>\n",
       "      <td>age_25_34</td>\n",
       "      <td>income_60_90</td>\n",
       "      <td>М</td>\n",
       "      <td>1</td>\n",
       "    </tr>\n",
       "  </tbody>\n",
       "</table>\n",
       "</div>"
      ],
      "text/plain": [
       "   user_id        age        income sex  kids_flg\n",
       "0   973171  age_25_34  income_60_90   М         1"
      ]
     },
     "execution_count": 59,
     "metadata": {},
     "output_type": "execute_result"
    }
   ],
   "source": [
    "users[users[Columns.User] == 973171]"
   ]
  },
  {
   "cell_type": "code",
   "execution_count": 60,
   "id": "6e83826a-dc48-41ae-81df-c855e4d6bdf3",
   "metadata": {},
   "outputs": [
    {
     "data": {
      "text/html": [
       "<div>\n",
       "<style scoped>\n",
       "    .dataframe tbody tr th:only-of-type {\n",
       "        vertical-align: middle;\n",
       "    }\n",
       "\n",
       "    .dataframe tbody tr th {\n",
       "        vertical-align: top;\n",
       "    }\n",
       "\n",
       "    .dataframe thead th {\n",
       "        text-align: right;\n",
       "    }\n",
       "</style>\n",
       "<table border=\"1\" class=\"dataframe\">\n",
       "  <thead>\n",
       "    <tr style=\"text-align: right;\">\n",
       "      <th></th>\n",
       "      <th>id</th>\n",
       "      <th>value</th>\n",
       "      <th>feature</th>\n",
       "    </tr>\n",
       "  </thead>\n",
       "  <tbody>\n",
       "    <tr>\n",
       "      <th>0</th>\n",
       "      <td>973171</td>\n",
       "      <td>age_25_34</td>\n",
       "      <td>age</td>\n",
       "    </tr>\n",
       "    <tr>\n",
       "      <th>840197</th>\n",
       "      <td>973171</td>\n",
       "      <td>income_60_90</td>\n",
       "      <td>income</td>\n",
       "    </tr>\n",
       "    <tr>\n",
       "      <th>1680394</th>\n",
       "      <td>973171</td>\n",
       "      <td>М</td>\n",
       "      <td>sex</td>\n",
       "    </tr>\n",
       "  </tbody>\n",
       "</table>\n",
       "</div>"
      ],
      "text/plain": [
       "             id         value feature\n",
       "0        973171     age_25_34     age\n",
       "840197   973171  income_60_90  income\n",
       "1680394  973171             М     sex"
      ]
     },
     "execution_count": 60,
     "metadata": {},
     "output_type": "execute_result"
    }
   ],
   "source": [
    "user_features_df[user_features_df[\"id\"] == 973171]"
   ]
  },
  {
   "cell_type": "markdown",
   "id": "4b35ac1f-977a-4534-9eb6-02d84db7855a",
   "metadata": {},
   "source": [
    "## Item features"
   ]
  },
  {
   "cell_type": "code",
   "execution_count": 61,
   "id": "3e5b4bd0-d480-448c-9342-42797af34630",
   "metadata": {},
   "outputs": [
    {
     "data": {
      "text/html": [
       "<div>\n",
       "<style scoped>\n",
       "    .dataframe tbody tr th:only-of-type {\n",
       "        vertical-align: middle;\n",
       "    }\n",
       "\n",
       "    .dataframe tbody tr th {\n",
       "        vertical-align: top;\n",
       "    }\n",
       "\n",
       "    .dataframe thead th {\n",
       "        text-align: right;\n",
       "    }\n",
       "</style>\n",
       "<table border=\"1\" class=\"dataframe\">\n",
       "  <thead>\n",
       "    <tr style=\"text-align: right;\">\n",
       "      <th></th>\n",
       "      <th>item_id</th>\n",
       "      <th>content_type</th>\n",
       "      <th>title</th>\n",
       "      <th>title_orig</th>\n",
       "      <th>release_year</th>\n",
       "      <th>genres</th>\n",
       "      <th>countries</th>\n",
       "      <th>for_kids</th>\n",
       "      <th>age_rating</th>\n",
       "      <th>studios</th>\n",
       "      <th>directors</th>\n",
       "      <th>actors</th>\n",
       "      <th>description</th>\n",
       "      <th>keywords</th>\n",
       "    </tr>\n",
       "  </thead>\n",
       "  <tbody>\n",
       "    <tr>\n",
       "      <th>0</th>\n",
       "      <td>10711</td>\n",
       "      <td>film</td>\n",
       "      <td>Поговори с ней</td>\n",
       "      <td>Hable con ella</td>\n",
       "      <td>2002.0</td>\n",
       "      <td>драмы, зарубежные, детективы, мелодрамы</td>\n",
       "      <td>Испания</td>\n",
       "      <td>NaN</td>\n",
       "      <td>16.0</td>\n",
       "      <td>NaN</td>\n",
       "      <td>Педро Альмодовар</td>\n",
       "      <td>Адольфо Фернандес, Ана Фернандес, Дарио Гранди...</td>\n",
       "      <td>Мелодрама легендарного Педро Альмодовара «Пого...</td>\n",
       "      <td>Поговори, ней, 2002, Испания, друзья, любовь, ...</td>\n",
       "    </tr>\n",
       "    <tr>\n",
       "      <th>1</th>\n",
       "      <td>2508</td>\n",
       "      <td>film</td>\n",
       "      <td>Голые перцы</td>\n",
       "      <td>Search Party</td>\n",
       "      <td>2014.0</td>\n",
       "      <td>зарубежные, приключения, комедии</td>\n",
       "      <td>США</td>\n",
       "      <td>NaN</td>\n",
       "      <td>16.0</td>\n",
       "      <td>NaN</td>\n",
       "      <td>Скот Армстронг</td>\n",
       "      <td>Адам Палли, Брайан Хаски, Дж.Б. Смув, Джейсон ...</td>\n",
       "      <td>Уморительная современная комедия на популярную...</td>\n",
       "      <td>Голые, перцы, 2014, США, друзья, свадьбы, прео...</td>\n",
       "    </tr>\n",
       "    <tr>\n",
       "      <th>2</th>\n",
       "      <td>10716</td>\n",
       "      <td>film</td>\n",
       "      <td>Тактическая сила</td>\n",
       "      <td>Tactical Force</td>\n",
       "      <td>2011.0</td>\n",
       "      <td>криминал, зарубежные, триллеры, боевики, комедии</td>\n",
       "      <td>Канада</td>\n",
       "      <td>NaN</td>\n",
       "      <td>16.0</td>\n",
       "      <td>NaN</td>\n",
       "      <td>Адам П. Калтраро</td>\n",
       "      <td>Адриан Холмс, Даррен Шалави, Джерри Вассерман,...</td>\n",
       "      <td>Профессиональный рестлер Стив Остин («Все или ...</td>\n",
       "      <td>Тактическая, сила, 2011, Канада, бандиты, ганг...</td>\n",
       "    </tr>\n",
       "    <tr>\n",
       "      <th>3</th>\n",
       "      <td>7868</td>\n",
       "      <td>film</td>\n",
       "      <td>45 лет</td>\n",
       "      <td>45 Years</td>\n",
       "      <td>2015.0</td>\n",
       "      <td>драмы, зарубежные, мелодрамы</td>\n",
       "      <td>Великобритания</td>\n",
       "      <td>NaN</td>\n",
       "      <td>16.0</td>\n",
       "      <td>NaN</td>\n",
       "      <td>Эндрю Хэй</td>\n",
       "      <td>Александра Риддлстон-Барретт, Джеральдин Джейм...</td>\n",
       "      <td>Шарлотта Рэмплинг, Том Кортни, Джеральдин Джей...</td>\n",
       "      <td>45, лет, 2015, Великобритания, брак, жизнь, лю...</td>\n",
       "    </tr>\n",
       "    <tr>\n",
       "      <th>4</th>\n",
       "      <td>16268</td>\n",
       "      <td>film</td>\n",
       "      <td>Все решает мгновение</td>\n",
       "      <td>NaN</td>\n",
       "      <td>1978.0</td>\n",
       "      <td>драмы, спорт, советские, мелодрамы</td>\n",
       "      <td>СССР</td>\n",
       "      <td>NaN</td>\n",
       "      <td>12.0</td>\n",
       "      <td>Ленфильм</td>\n",
       "      <td>Виктор Садовский</td>\n",
       "      <td>Александр Абдулов, Александр Демьяненко, Алекс...</td>\n",
       "      <td>Расчетливая чаровница из советского кинохита «...</td>\n",
       "      <td>Все, решает, мгновение, 1978, СССР, сильные, ж...</td>\n",
       "    </tr>\n",
       "  </tbody>\n",
       "</table>\n",
       "</div>"
      ],
      "text/plain": [
       "   item_id content_type                 title      title_orig  release_year  \\\n",
       "0    10711         film        Поговори с ней  Hable con ella        2002.0   \n",
       "1     2508         film           Голые перцы    Search Party        2014.0   \n",
       "2    10716         film      Тактическая сила  Tactical Force        2011.0   \n",
       "3     7868         film                45 лет        45 Years        2015.0   \n",
       "4    16268         film  Все решает мгновение             NaN        1978.0   \n",
       "\n",
       "                                             genres       countries  for_kids  \\\n",
       "0           драмы, зарубежные, детективы, мелодрамы         Испания       NaN   \n",
       "1                  зарубежные, приключения, комедии             США       NaN   \n",
       "2  криминал, зарубежные, триллеры, боевики, комедии          Канада       NaN   \n",
       "3                      драмы, зарубежные, мелодрамы  Великобритания       NaN   \n",
       "4                драмы, спорт, советские, мелодрамы            СССР       NaN   \n",
       "\n",
       "   age_rating   studios         directors  \\\n",
       "0        16.0       NaN  Педро Альмодовар   \n",
       "1        16.0       NaN    Скот Армстронг   \n",
       "2        16.0       NaN  Адам П. Калтраро   \n",
       "3        16.0       NaN         Эндрю Хэй   \n",
       "4        12.0  Ленфильм  Виктор Садовский   \n",
       "\n",
       "                                              actors  \\\n",
       "0  Адольфо Фернандес, Ана Фернандес, Дарио Гранди...   \n",
       "1  Адам Палли, Брайан Хаски, Дж.Б. Смув, Джейсон ...   \n",
       "2  Адриан Холмс, Даррен Шалави, Джерри Вассерман,...   \n",
       "3  Александра Риддлстон-Барретт, Джеральдин Джейм...   \n",
       "4  Александр Абдулов, Александр Демьяненко, Алекс...   \n",
       "\n",
       "                                         description  \\\n",
       "0  Мелодрама легендарного Педро Альмодовара «Пого...   \n",
       "1  Уморительная современная комедия на популярную...   \n",
       "2  Профессиональный рестлер Стив Остин («Все или ...   \n",
       "3  Шарлотта Рэмплинг, Том Кортни, Джеральдин Джей...   \n",
       "4  Расчетливая чаровница из советского кинохита «...   \n",
       "\n",
       "                                            keywords  \n",
       "0  Поговори, ней, 2002, Испания, друзья, любовь, ...  \n",
       "1  Голые, перцы, 2014, США, друзья, свадьбы, прео...  \n",
       "2  Тактическая, сила, 2011, Канада, бандиты, ганг...  \n",
       "3  45, лет, 2015, Великобритания, брак, жизнь, лю...  \n",
       "4  Все, решает, мгновение, 1978, СССР, сильные, ж...  "
      ]
     },
     "execution_count": 61,
     "metadata": {},
     "output_type": "execute_result"
    }
   ],
   "source": [
    "items.head()"
   ]
  },
  {
   "cell_type": "code",
   "execution_count": 62,
   "id": "f483fb5c-968b-46d7-8037-5151542a2680",
   "metadata": {},
   "outputs": [
    {
     "data": {
      "text/plain": [
       "item_id             0\n",
       "content_type        0\n",
       "title               0\n",
       "title_orig       4745\n",
       "release_year       98\n",
       "genres              0\n",
       "countries          37\n",
       "for_kids        15397\n",
       "age_rating          2\n",
       "studios         14898\n",
       "directors        1509\n",
       "actors           2619\n",
       "description         2\n",
       "keywords          423\n",
       "dtype: int64"
      ]
     },
     "execution_count": 62,
     "metadata": {},
     "output_type": "execute_result"
    }
   ],
   "source": [
    "items.isnull().sum()"
   ]
  },
  {
   "cell_type": "markdown",
   "id": "13e2e015-b7d7-4b2b-ae94-828e7a66a5f2",
   "metadata": {},
   "source": [
    "**Для фильтов возьмем следующие фичи: `content_type`, `genres`**"
   ]
  },
  {
   "cell_type": "code",
   "execution_count": 63,
   "id": "3c1fca04-d2dd-4844-93f2-f1f00a71cf76",
   "metadata": {},
   "outputs": [
    {
     "data": {
      "text/html": [
       "<div>\n",
       "<style scoped>\n",
       "    .dataframe tbody tr th:only-of-type {\n",
       "        vertical-align: middle;\n",
       "    }\n",
       "\n",
       "    .dataframe tbody tr th {\n",
       "        vertical-align: top;\n",
       "    }\n",
       "\n",
       "    .dataframe thead th {\n",
       "        text-align: right;\n",
       "    }\n",
       "</style>\n",
       "<table border=\"1\" class=\"dataframe\">\n",
       "  <thead>\n",
       "    <tr style=\"text-align: right;\">\n",
       "      <th></th>\n",
       "      <th>id</th>\n",
       "      <th>value</th>\n",
       "      <th>feature</th>\n",
       "    </tr>\n",
       "  </thead>\n",
       "  <tbody>\n",
       "    <tr>\n",
       "      <th>0</th>\n",
       "      <td>10711</td>\n",
       "      <td>драмы</td>\n",
       "      <td>genre</td>\n",
       "    </tr>\n",
       "    <tr>\n",
       "      <th>0</th>\n",
       "      <td>10711</td>\n",
       "      <td>зарубежные</td>\n",
       "      <td>genre</td>\n",
       "    </tr>\n",
       "    <tr>\n",
       "      <th>0</th>\n",
       "      <td>10711</td>\n",
       "      <td>детективы</td>\n",
       "      <td>genre</td>\n",
       "    </tr>\n",
       "    <tr>\n",
       "      <th>0</th>\n",
       "      <td>10711</td>\n",
       "      <td>мелодрамы</td>\n",
       "      <td>genre</td>\n",
       "    </tr>\n",
       "    <tr>\n",
       "      <th>1</th>\n",
       "      <td>2508</td>\n",
       "      <td>зарубежные</td>\n",
       "      <td>genre</td>\n",
       "    </tr>\n",
       "  </tbody>\n",
       "</table>\n",
       "</div>"
      ],
      "text/plain": [
       "      id       value feature\n",
       "0  10711       драмы   genre\n",
       "0  10711  зарубежные   genre\n",
       "0  10711   детективы   genre\n",
       "0  10711   мелодрамы   genre\n",
       "1   2508  зарубежные   genre"
      ]
     },
     "execution_count": 63,
     "metadata": {},
     "output_type": "execute_result"
    }
   ],
   "source": [
    "# Предварительно обратобтаем genres\n",
    "items[\"genre\"] = items[\"genres\"].str.lower().str.split(\", \")\n",
    "genre_feature = items[[Columns.Item, \"genre\"]].explode(\"genre\")\n",
    "genre_feature.columns = [\"id\", \"value\"]\n",
    "genre_feature[\"feature\"] = \"genre\"\n",
    "genre_feature.head()"
   ]
  },
  {
   "cell_type": "code",
   "execution_count": 64,
   "id": "e8ec9d61-4807-48cf-af14-69b07b096c03",
   "metadata": {},
   "outputs": [
    {
     "data": {
      "text/html": [
       "<div>\n",
       "<style scoped>\n",
       "    .dataframe tbody tr th:only-of-type {\n",
       "        vertical-align: middle;\n",
       "    }\n",
       "\n",
       "    .dataframe tbody tr th {\n",
       "        vertical-align: top;\n",
       "    }\n",
       "\n",
       "    .dataframe thead th {\n",
       "        text-align: right;\n",
       "    }\n",
       "</style>\n",
       "<table border=\"1\" class=\"dataframe\">\n",
       "  <thead>\n",
       "    <tr style=\"text-align: right;\">\n",
       "      <th></th>\n",
       "      <th>id</th>\n",
       "      <th>value</th>\n",
       "      <th>feature</th>\n",
       "    </tr>\n",
       "  </thead>\n",
       "  <tbody>\n",
       "    <tr>\n",
       "      <th>0</th>\n",
       "      <td>10711</td>\n",
       "      <td>film</td>\n",
       "      <td>content_type</td>\n",
       "    </tr>\n",
       "    <tr>\n",
       "      <th>1</th>\n",
       "      <td>2508</td>\n",
       "      <td>film</td>\n",
       "      <td>content_type</td>\n",
       "    </tr>\n",
       "    <tr>\n",
       "      <th>2</th>\n",
       "      <td>10716</td>\n",
       "      <td>film</td>\n",
       "      <td>content_type</td>\n",
       "    </tr>\n",
       "    <tr>\n",
       "      <th>3</th>\n",
       "      <td>7868</td>\n",
       "      <td>film</td>\n",
       "      <td>content_type</td>\n",
       "    </tr>\n",
       "    <tr>\n",
       "      <th>4</th>\n",
       "      <td>16268</td>\n",
       "      <td>film</td>\n",
       "      <td>content_type</td>\n",
       "    </tr>\n",
       "  </tbody>\n",
       "</table>\n",
       "</div>"
      ],
      "text/plain": [
       "      id value       feature\n",
       "0  10711  film  content_type\n",
       "1   2508  film  content_type\n",
       "2  10716  film  content_type\n",
       "3   7868  film  content_type\n",
       "4  16268  film  content_type"
      ]
     },
     "execution_count": 64,
     "metadata": {},
     "output_type": "execute_result"
    }
   ],
   "source": [
    "content_feature = items.reindex(columns=[Columns.Item, \"content_type\"])\n",
    "content_feature.columns = [\"id\", \"value\"]\n",
    "content_feature[\"feature\"] = \"content_type\"\n",
    "content_feature.head()"
   ]
  },
  {
   "cell_type": "code",
   "execution_count": 65,
   "id": "6ca5ed7a-7106-4296-8c23-ce032b885cdf",
   "metadata": {},
   "outputs": [
    {
     "data": {
      "text/html": [
       "<div>\n",
       "<style scoped>\n",
       "    .dataframe tbody tr th:only-of-type {\n",
       "        vertical-align: middle;\n",
       "    }\n",
       "\n",
       "    .dataframe tbody tr th {\n",
       "        vertical-align: top;\n",
       "    }\n",
       "\n",
       "    .dataframe thead th {\n",
       "        text-align: right;\n",
       "    }\n",
       "</style>\n",
       "<table border=\"1\" class=\"dataframe\">\n",
       "  <thead>\n",
       "    <tr style=\"text-align: right;\">\n",
       "      <th></th>\n",
       "      <th>id</th>\n",
       "      <th>value</th>\n",
       "      <th>feature</th>\n",
       "    </tr>\n",
       "  </thead>\n",
       "  <tbody>\n",
       "    <tr>\n",
       "      <th>0</th>\n",
       "      <td>10711</td>\n",
       "      <td>film</td>\n",
       "      <td>content_type</td>\n",
       "    </tr>\n",
       "    <tr>\n",
       "      <th>1</th>\n",
       "      <td>2508</td>\n",
       "      <td>film</td>\n",
       "      <td>content_type</td>\n",
       "    </tr>\n",
       "    <tr>\n",
       "      <th>2</th>\n",
       "      <td>10716</td>\n",
       "      <td>film</td>\n",
       "      <td>content_type</td>\n",
       "    </tr>\n",
       "    <tr>\n",
       "      <th>3</th>\n",
       "      <td>7868</td>\n",
       "      <td>film</td>\n",
       "      <td>content_type</td>\n",
       "    </tr>\n",
       "    <tr>\n",
       "      <th>4</th>\n",
       "      <td>16268</td>\n",
       "      <td>film</td>\n",
       "      <td>content_type</td>\n",
       "    </tr>\n",
       "  </tbody>\n",
       "</table>\n",
       "</div>"
      ],
      "text/plain": [
       "      id value       feature\n",
       "0  10711  film  content_type\n",
       "1   2508  film  content_type\n",
       "2  10716  film  content_type\n",
       "3   7868  film  content_type\n",
       "4  16268  film  content_type"
      ]
     },
     "execution_count": 65,
     "metadata": {},
     "output_type": "execute_result"
    }
   ],
   "source": [
    "items_features_df = pd.concat(\n",
    "    [content_feature, genre_feature],\n",
    "    ignore_index=True,\n",
    ")\n",
    "items_features_df.head()"
   ]
  },
  {
   "cell_type": "code",
   "execution_count": 66,
   "id": "ea2881f7-0f61-4b00-80f8-d43e5f87a290",
   "metadata": {},
   "outputs": [
    {
     "data": {
      "text/html": [
       "<div>\n",
       "<style scoped>\n",
       "    .dataframe tbody tr th:only-of-type {\n",
       "        vertical-align: middle;\n",
       "    }\n",
       "\n",
       "    .dataframe tbody tr th {\n",
       "        vertical-align: top;\n",
       "    }\n",
       "\n",
       "    .dataframe thead th {\n",
       "        text-align: right;\n",
       "    }\n",
       "</style>\n",
       "<table border=\"1\" class=\"dataframe\">\n",
       "  <thead>\n",
       "    <tr style=\"text-align: right;\">\n",
       "      <th></th>\n",
       "      <th>item_id</th>\n",
       "      <th>content_type</th>\n",
       "      <th>genres</th>\n",
       "    </tr>\n",
       "  </thead>\n",
       "  <tbody>\n",
       "    <tr>\n",
       "      <th>1</th>\n",
       "      <td>2508</td>\n",
       "      <td>film</td>\n",
       "      <td>зарубежные, приключения, комедии</td>\n",
       "    </tr>\n",
       "  </tbody>\n",
       "</table>\n",
       "</div>"
      ],
      "text/plain": [
       "   item_id content_type                            genres\n",
       "1     2508         film  зарубежные, приключения, комедии"
      ]
     },
     "execution_count": 66,
     "metadata": {},
     "output_type": "execute_result"
    }
   ],
   "source": [
    "items[items[Columns.Item] == 2508][[Columns.Item, \"content_type\", \"genres\"]]"
   ]
  },
  {
   "cell_type": "code",
   "execution_count": 67,
   "id": "b7d0c40b-3adc-4129-b0ff-8772dda78cd8",
   "metadata": {},
   "outputs": [
    {
     "data": {
      "text/html": [
       "<div>\n",
       "<style scoped>\n",
       "    .dataframe tbody tr th:only-of-type {\n",
       "        vertical-align: middle;\n",
       "    }\n",
       "\n",
       "    .dataframe tbody tr th {\n",
       "        vertical-align: top;\n",
       "    }\n",
       "\n",
       "    .dataframe thead th {\n",
       "        text-align: right;\n",
       "    }\n",
       "</style>\n",
       "<table border=\"1\" class=\"dataframe\">\n",
       "  <thead>\n",
       "    <tr style=\"text-align: right;\">\n",
       "      <th></th>\n",
       "      <th>id</th>\n",
       "      <th>value</th>\n",
       "      <th>feature</th>\n",
       "    </tr>\n",
       "  </thead>\n",
       "  <tbody>\n",
       "    <tr>\n",
       "      <th>1</th>\n",
       "      <td>2508</td>\n",
       "      <td>film</td>\n",
       "      <td>content_type</td>\n",
       "    </tr>\n",
       "    <tr>\n",
       "      <th>15967</th>\n",
       "      <td>2508</td>\n",
       "      <td>зарубежные</td>\n",
       "      <td>genre</td>\n",
       "    </tr>\n",
       "    <tr>\n",
       "      <th>15968</th>\n",
       "      <td>2508</td>\n",
       "      <td>приключения</td>\n",
       "      <td>genre</td>\n",
       "    </tr>\n",
       "    <tr>\n",
       "      <th>15969</th>\n",
       "      <td>2508</td>\n",
       "      <td>комедии</td>\n",
       "      <td>genre</td>\n",
       "    </tr>\n",
       "  </tbody>\n",
       "</table>\n",
       "</div>"
      ],
      "text/plain": [
       "         id        value       feature\n",
       "1      2508         film  content_type\n",
       "15967  2508   зарубежные         genre\n",
       "15968  2508  приключения         genre\n",
       "15969  2508      комедии         genre"
      ]
     },
     "execution_count": 67,
     "metadata": {},
     "output_type": "execute_result"
    }
   ],
   "source": [
    "items_features_df[items_features_df[\"id\"] == 2508]"
   ]
  },
  {
   "cell_type": "markdown",
   "id": "ecca24c7-f028-449d-bd6d-7f1c82a65109",
   "metadata": {},
   "source": [
    "**Cобираем rectools.Dataset c фичами:**"
   ]
  },
  {
   "cell_type": "code",
   "execution_count": 68,
   "id": "6c124fbe-009d-47a8-aaa5-6f30ba487cbe",
   "metadata": {},
   "outputs": [],
   "source": [
    "# Можем ли использовать фичи только для пользователей или товаров?\n",
    "\n",
    "dataset_full_features = Dataset.construct(\n",
    "    interactions_df=train,\n",
    "    user_features_df=user_features_df,\n",
    "    cat_user_features=[\"sex\", \"age\", \"income\"],\n",
    "    item_features_df=items_features_df,\n",
    "    cat_item_features=[\"genre\", \"content_type\"],\n",
    ")\n",
    "\n",
    "dataset_with_features = {\n",
    "    \"full_features\": dataset_full_features,\n",
    "}"
   ]
  },
  {
   "cell_type": "code",
   "execution_count": 69,
   "id": "a05ccbff-69c8-4382-8343-c4ca90328c6c",
   "metadata": {},
   "outputs": [],
   "source": [
    "models_with_features = {}\n",
    "\n",
    "IS_FITTING_FEATURES = (True, False)"
   ]
  },
  {
   "cell_type": "code",
   "execution_count": 70,
   "id": "05bb064b-d0ce-48f8-bd6b-12e2b6399a07",
   "metadata": {},
   "outputs": [],
   "source": [
    "for is_fit_feat in IS_FITTING_FEATURES:\n",
    "    models_with_features[f\"als_factors_{N_FACTORS}_fit_together_{is_fit_feat}\"] = (\n",
    "        ImplicitALSWrapperModel(\n",
    "            model=AlternatingLeastSquares(\n",
    "                factors=N_FACTORS,\n",
    "                random_state=RANDOM_STATE,\n",
    "                num_threads=NUM_THREADS,\n",
    "            ),\n",
    "            # train paried factors together with latent factors (fit_features_together=True)\n",
    "            # or after training latent factors (fit_features_together=False)\n",
    "            fit_features_together=is_fit_feat,\n",
    "        )\n",
    "    )"
   ]
  },
  {
   "cell_type": "code",
   "execution_count": 71,
   "id": "24669b54-2144-4d35-a157-51ede962153d",
   "metadata": {},
   "outputs": [
    {
     "data": {
      "text/plain": [
       "{'als_factors_4_fit_together_True': <rectools.models.implicit_als.ImplicitALSWrapperModel at 0x7b27cd132150>,\n",
       " 'als_factors_4_fit_together_False': <rectools.models.implicit_als.ImplicitALSWrapperModel at 0x7b27ccf84990>}"
      ]
     },
     "execution_count": 71,
     "metadata": {},
     "output_type": "execute_result"
    }
   ],
   "source": [
    "models_with_features"
   ]
  },
  {
   "cell_type": "code",
   "execution_count": 72,
   "id": "fef59612-be2c-4c97-accc-6dec80063574",
   "metadata": {},
   "outputs": [],
   "source": [
    "lightfm_losses = (\"bpr\", \"warp\")\n",
    "\n",
    "for loss in lightfm_losses:\n",
    "    models_with_features[f\"LightFM_{loss}_factors_{N_FACTORS}\"] = LightFMWrapperModel(\n",
    "        model=LightFM(\n",
    "            no_components=N_FACTORS,\n",
    "            loss=loss,\n",
    "            random_state=RANDOM_STATE,\n",
    "        ),\n",
    "        epochs=10,\n",
    "        num_threads=NUM_THREADS,\n",
    "    )"
   ]
  },
  {
   "cell_type": "code",
   "execution_count": 73,
   "id": "68bbeaec-c0ee-4825-b6ad-ecd4ab1b76b7",
   "metadata": {},
   "outputs": [
    {
     "data": {
      "text/plain": [
       "{'als_factors_4_fit_together_True': <rectools.models.implicit_als.ImplicitALSWrapperModel at 0x7b27cd132150>,\n",
       " 'als_factors_4_fit_together_False': <rectools.models.implicit_als.ImplicitALSWrapperModel at 0x7b27ccf84990>,\n",
       " 'LightFM_bpr_factors_4': <rectools.models.lightfm.LightFMWrapperModel at 0x7b27adbbfe90>,\n",
       " 'LightFM_warp_factors_4': <rectools.models.lightfm.LightFMWrapperModel at 0x7b27adbff950>}"
      ]
     },
     "execution_count": 73,
     "metadata": {},
     "output_type": "execute_result"
    }
   ],
   "source": [
    "models_with_features"
   ]
  },
  {
   "cell_type": "code",
   "execution_count": 74,
   "id": "f382481f-84c5-44a6-8560-66eda8052c40",
   "metadata": {},
   "outputs": [
    {
     "name": "stderr",
     "output_type": "stream",
     "text": []
    },
    {
     "name": "stdout",
     "output_type": "stream",
     "text": [
      "model_als_factors_4_fit_together_True-dataset_full_features...\n"
     ]
    },
    {
     "name": "stderr",
     "output_type": "stream",
     "text": []
    },
    {
     "name": "stdout",
     "output_type": "stream",
     "text": [
      "model_als_factors_4_fit_together_False-dataset_full_features...\n"
     ]
    },
    {
     "data": {
      "application/vnd.jupyter.widget-view+json": {
       "model_id": "4f20163ea4654bad99a781f588b76d79",
       "version_major": 2,
       "version_minor": 0
      },
      "text/plain": [
       "  0%|          | 0/1 [00:00<?, ?it/s]"
      ]
     },
     "metadata": {},
     "output_type": "display_data"
    },
    {
     "data": {
      "application/vnd.jupyter.widget-view+json": {
       "model_id": "b244a4d2fb8f41e6a0b43c56812561c0",
       "version_major": 2,
       "version_minor": 0
      },
      "text/plain": [
       "  0%|          | 0/1 [00:00<?, ?it/s]"
      ]
     },
     "metadata": {},
     "output_type": "display_data"
    },
    {
     "name": "stderr",
     "output_type": "stream",
     "text": []
    },
    {
     "name": "stdout",
     "output_type": "stream",
     "text": [
      "model_LightFM_bpr_factors_4-dataset_full_features...\n"
     ]
    },
    {
     "name": "stderr",
     "output_type": "stream",
     "text": []
    },
    {
     "name": "stdout",
     "output_type": "stream",
     "text": [
      "model_LightFM_warp_factors_4-dataset_full_features...\n"
     ]
    },
    {
     "name": "stderr",
     "output_type": "stream",
     "text": [
      "100%|██████████| 4/4 [02:24<00:00, 36.22s/it]\n"
     ]
    }
   ],
   "source": [
    "catalog = train[Columns.Item].unique()\n",
    "\n",
    "results = []\n",
    "for model_name, model in tqdm(models_with_features.items()):\n",
    "    for dataset_name, dataset_feat in dataset_with_features.items():\n",
    "        model_quality_feature = {\"model\": f\"model_{model_name}-dataset_{dataset_name}\"}\n",
    "        print(f\"{model_quality_feature['model']}...\")\n",
    "\n",
    "        model.fit(dataset_feat)\n",
    "        recos = model.recommend(\n",
    "            users=test_hot[Columns.User].unique(),\n",
    "            dataset=dataset_feat,\n",
    "            k=K_RECOS,\n",
    "            filter_viewed=True,\n",
    "        )\n",
    "\n",
    "        metric_values = calc_metrics(\n",
    "            metrics,\n",
    "            recos,\n",
    "            test_hot,\n",
    "            train,\n",
    "            catalog=catalog,\n",
    "        )\n",
    "\n",
    "        model_quality_feature.update(metric_values)\n",
    "        results.append(model_quality_feature)"
   ]
  },
  {
   "cell_type": "code",
   "execution_count": 75,
   "id": "2a67f43c-dc7f-42bb-bb99-4007deb12b86",
   "metadata": {},
   "outputs": [],
   "source": [
    "df_quality_feature = pd.DataFrame(results).T\n",
    "\n",
    "df_quality_feature.columns = df_quality_feature.iloc[0]\n",
    "\n",
    "df_quality_feature.drop(\"model\", inplace=True)"
   ]
  },
  {
   "cell_type": "code",
   "execution_count": 76,
   "id": "f4826417-388e-4674-b471-ac78ef65107e",
   "metadata": {},
   "outputs": [
    {
     "data": {
      "text/html": [
       "<style type=\"text/css\">\n",
       "#T_399ce_row0_col3, #T_399ce_row1_col3, #T_399ce_row2_col3, #T_399ce_row3_col3, #T_399ce_row4_col3, #T_399ce_row5_col3, #T_399ce_row6_col3, #T_399ce_row7_col3, #T_399ce_row8_col3, #T_399ce_row9_col2, #T_399ce_row10_col2, #T_399ce_row11_col2, #T_399ce_row12_col1, #T_399ce_row13_col1, #T_399ce_row14_col1 {\n",
       "  background-color: lightgreen;\n",
       "}\n",
       "</style>\n",
       "<table id=\"T_399ce\">\n",
       "  <thead>\n",
       "    <tr>\n",
       "      <th class=\"index_name level0\" >model</th>\n",
       "      <th id=\"T_399ce_level0_col0\" class=\"col_heading level0 col0\" >model_als_factors_4_fit_together_True-dataset_full_features</th>\n",
       "      <th id=\"T_399ce_level0_col1\" class=\"col_heading level0 col1\" >model_als_factors_4_fit_together_False-dataset_full_features</th>\n",
       "      <th id=\"T_399ce_level0_col2\" class=\"col_heading level0 col2\" >model_LightFM_bpr_factors_4-dataset_full_features</th>\n",
       "      <th id=\"T_399ce_level0_col3\" class=\"col_heading level0 col3\" >model_LightFM_warp_factors_4-dataset_full_features</th>\n",
       "    </tr>\n",
       "  </thead>\n",
       "  <tbody>\n",
       "    <tr>\n",
       "      <th id=\"T_399ce_level0_row0\" class=\"row_heading level0 row0\" >precision@3</th>\n",
       "      <td id=\"T_399ce_row0_col0\" class=\"data row0 col0\" >0.010018</td>\n",
       "      <td id=\"T_399ce_row0_col1\" class=\"data row0 col1\" >0.011301</td>\n",
       "      <td id=\"T_399ce_row0_col2\" class=\"data row0 col2\" >0.000003</td>\n",
       "      <td id=\"T_399ce_row0_col3\" class=\"data row0 col3\" >0.062767</td>\n",
       "    </tr>\n",
       "    <tr>\n",
       "      <th id=\"T_399ce_level0_row1\" class=\"row_heading level0 row1\" >recall@3</th>\n",
       "      <td id=\"T_399ce_row1_col0\" class=\"data row1 col0\" >0.013751</td>\n",
       "      <td id=\"T_399ce_row1_col1\" class=\"data row1 col1\" >0.016074</td>\n",
       "      <td id=\"T_399ce_row1_col2\" class=\"data row1 col2\" >0.000008</td>\n",
       "      <td id=\"T_399ce_row1_col3\" class=\"data row1 col3\" >0.093517</td>\n",
       "    </tr>\n",
       "    <tr>\n",
       "      <th id=\"T_399ce_level0_row2\" class=\"row_heading level0 row2\" >precision@5</th>\n",
       "      <td id=\"T_399ce_row2_col0\" class=\"data row2 col0\" >0.009474</td>\n",
       "      <td id=\"T_399ce_row2_col1\" class=\"data row2 col1\" >0.010629</td>\n",
       "      <td id=\"T_399ce_row2_col2\" class=\"data row2 col2\" >0.000002</td>\n",
       "      <td id=\"T_399ce_row2_col3\" class=\"data row2 col3\" >0.051026</td>\n",
       "    </tr>\n",
       "    <tr>\n",
       "      <th id=\"T_399ce_level0_row3\" class=\"row_heading level0 row3\" >recall@5</th>\n",
       "      <td id=\"T_399ce_row3_col0\" class=\"data row3 col0\" >0.021791</td>\n",
       "      <td id=\"T_399ce_row3_col1\" class=\"data row3 col1\" >0.024526</td>\n",
       "      <td id=\"T_399ce_row3_col2\" class=\"data row3 col2\" >0.000008</td>\n",
       "      <td id=\"T_399ce_row3_col3\" class=\"data row3 col3\" >0.124646</td>\n",
       "    </tr>\n",
       "    <tr>\n",
       "      <th id=\"T_399ce_level0_row4\" class=\"row_heading level0 row4\" >precision@10</th>\n",
       "      <td id=\"T_399ce_row4_col0\" class=\"data row4 col0\" >0.008407</td>\n",
       "      <td id=\"T_399ce_row4_col1\" class=\"data row4 col1\" >0.009574</td>\n",
       "      <td id=\"T_399ce_row4_col2\" class=\"data row4 col2\" >0.000002</td>\n",
       "      <td id=\"T_399ce_row4_col3\" class=\"data row4 col3\" >0.034970</td>\n",
       "    </tr>\n",
       "    <tr>\n",
       "      <th id=\"T_399ce_level0_row5\" class=\"row_heading level0 row5\" >recall@10</th>\n",
       "      <td id=\"T_399ce_row5_col0\" class=\"data row5 col0\" >0.038016</td>\n",
       "      <td id=\"T_399ce_row5_col1\" class=\"data row5 col1\" >0.042985</td>\n",
       "      <td id=\"T_399ce_row5_col2\" class=\"data row5 col2\" >0.000017</td>\n",
       "      <td id=\"T_399ce_row5_col3\" class=\"data row5 col3\" >0.165722</td>\n",
       "    </tr>\n",
       "    <tr>\n",
       "      <th id=\"T_399ce_level0_row6\" class=\"row_heading level0 row6\" >ndcg@3</th>\n",
       "      <td id=\"T_399ce_row6_col0\" class=\"data row6 col0\" >0.010147</td>\n",
       "      <td id=\"T_399ce_row6_col1\" class=\"data row6 col1\" >0.011400</td>\n",
       "      <td id=\"T_399ce_row6_col2\" class=\"data row6 col2\" >0.000002</td>\n",
       "      <td id=\"T_399ce_row6_col3\" class=\"data row6 col3\" >0.067417</td>\n",
       "    </tr>\n",
       "    <tr>\n",
       "      <th id=\"T_399ce_level0_row7\" class=\"row_heading level0 row7\" >ndcg@5</th>\n",
       "      <td id=\"T_399ce_row7_col0\" class=\"data row7 col0\" >0.009735</td>\n",
       "      <td id=\"T_399ce_row7_col1\" class=\"data row7 col1\" >0.010912</td>\n",
       "      <td id=\"T_399ce_row7_col2\" class=\"data row7 col2\" >0.000001</td>\n",
       "      <td id=\"T_399ce_row7_col3\" class=\"data row7 col3\" >0.058043</td>\n",
       "    </tr>\n",
       "    <tr>\n",
       "      <th id=\"T_399ce_level0_row8\" class=\"row_heading level0 row8\" >ndcg@10</th>\n",
       "      <td id=\"T_399ce_row8_col0\" class=\"data row8 col0\" >0.008907</td>\n",
       "      <td id=\"T_399ce_row8_col1\" class=\"data row8 col1\" >0.010076</td>\n",
       "      <td id=\"T_399ce_row8_col2\" class=\"data row8 col2\" >0.000002</td>\n",
       "      <td id=\"T_399ce_row8_col3\" class=\"data row8 col3\" >0.044376</td>\n",
       "    </tr>\n",
       "    <tr>\n",
       "      <th id=\"T_399ce_level0_row9\" class=\"row_heading level0 row9\" >novelty@3</th>\n",
       "      <td id=\"T_399ce_row9_col0\" class=\"data row9 col0\" >9.024195</td>\n",
       "      <td id=\"T_399ce_row9_col1\" class=\"data row9 col1\" >7.878655</td>\n",
       "      <td id=\"T_399ce_row9_col2\" class=\"data row9 col2\" >18.938813</td>\n",
       "      <td id=\"T_399ce_row9_col3\" class=\"data row9 col3\" >3.218543</td>\n",
       "    </tr>\n",
       "    <tr>\n",
       "      <th id=\"T_399ce_level0_row10\" class=\"row_heading level0 row10\" >novelty@5</th>\n",
       "      <td id=\"T_399ce_row10_col0\" class=\"data row10 col0\" >9.143341</td>\n",
       "      <td id=\"T_399ce_row10_col1\" class=\"data row10 col1\" >7.927087</td>\n",
       "      <td id=\"T_399ce_row10_col2\" class=\"data row10 col2\" >18.818252</td>\n",
       "      <td id=\"T_399ce_row10_col3\" class=\"data row10 col3\" >3.583080</td>\n",
       "    </tr>\n",
       "    <tr>\n",
       "      <th id=\"T_399ce_level0_row11\" class=\"row_heading level0 row11\" >novelty@10</th>\n",
       "      <td id=\"T_399ce_row11_col0\" class=\"data row11 col0\" >9.344082</td>\n",
       "      <td id=\"T_399ce_row11_col1\" class=\"data row11 col1\" >7.996098</td>\n",
       "      <td id=\"T_399ce_row11_col2\" class=\"data row11 col2\" >18.731574</td>\n",
       "      <td id=\"T_399ce_row11_col3\" class=\"data row11 col3\" >4.279284</td>\n",
       "    </tr>\n",
       "    <tr>\n",
       "      <th id=\"T_399ce_level0_row12\" class=\"row_heading level0 row12\" >serendipity@3</th>\n",
       "      <td id=\"T_399ce_row12_col0\" class=\"data row12 col0\" >0.000071</td>\n",
       "      <td id=\"T_399ce_row12_col1\" class=\"data row12 col1\" >0.000091</td>\n",
       "      <td id=\"T_399ce_row12_col2\" class=\"data row12 col2\" >0.000000</td>\n",
       "      <td id=\"T_399ce_row12_col3\" class=\"data row12 col3\" >0.000018</td>\n",
       "    </tr>\n",
       "    <tr>\n",
       "      <th id=\"T_399ce_level0_row13\" class=\"row_heading level0 row13\" >serendipity@5</th>\n",
       "      <td id=\"T_399ce_row13_col0\" class=\"data row13 col0\" >0.000071</td>\n",
       "      <td id=\"T_399ce_row13_col1\" class=\"data row13 col1\" >0.000087</td>\n",
       "      <td id=\"T_399ce_row13_col2\" class=\"data row13 col2\" >0.000000</td>\n",
       "      <td id=\"T_399ce_row13_col3\" class=\"data row13 col3\" >0.000020</td>\n",
       "    </tr>\n",
       "    <tr>\n",
       "      <th id=\"T_399ce_level0_row14\" class=\"row_heading level0 row14\" >serendipity@10</th>\n",
       "      <td id=\"T_399ce_row14_col0\" class=\"data row14 col0\" >0.000072</td>\n",
       "      <td id=\"T_399ce_row14_col1\" class=\"data row14 col1\" >0.000082</td>\n",
       "      <td id=\"T_399ce_row14_col2\" class=\"data row14 col2\" >0.000000</td>\n",
       "      <td id=\"T_399ce_row14_col3\" class=\"data row14 col3\" >0.000023</td>\n",
       "    </tr>\n",
       "  </tbody>\n",
       "</table>\n"
      ],
      "text/plain": [
       "<pandas.io.formats.style.Styler at 0x7b27d2bed590>"
      ]
     },
     "execution_count": 76,
     "metadata": {},
     "output_type": "execute_result"
    }
   ],
   "source": [
    "df_quality_feature.style.highlight_max(color=\"lightgreen\", axis=1)"
   ]
  },
  {
   "cell_type": "code",
   "execution_count": 77,
   "id": "dd1cacf7-8c8b-48ce-b6ad-72889f0b5455",
   "metadata": {},
   "outputs": [
    {
     "data": {
      "text/html": [
       "<style type=\"text/css\">\n",
       "#T_6f802_row0_col1, #T_6f802_row1_col1, #T_6f802_row2_col8, #T_6f802_row3_col1, #T_6f802_row4_col8, #T_6f802_row5_col8, #T_6f802_row6_col8, #T_6f802_row7_col8, #T_6f802_row8_col8, #T_6f802_row9_col12, #T_6f802_row10_col12, #T_6f802_row11_col12, #T_6f802_row12_col4, #T_6f802_row13_col4, #T_6f802_row14_col4 {\n",
       "  background-color: lightgreen;\n",
       "}\n",
       "</style>\n",
       "<table id=\"T_6f802\">\n",
       "  <thead>\n",
       "    <tr>\n",
       "      <th class=\"index_name level0\" >model</th>\n",
       "      <th id=\"T_6f802_level0_col0\" class=\"col_heading level0 col0\" >random</th>\n",
       "      <th id=\"T_6f802_level0_col1\" class=\"col_heading level0 col1\" >popular</th>\n",
       "      <th id=\"T_6f802_level0_col2\" class=\"col_heading level0 col2\" >most_raited</th>\n",
       "      <th id=\"T_6f802_level0_col3\" class=\"col_heading level0 col3\" >ALS_factors_4</th>\n",
       "      <th id=\"T_6f802_level0_col4\" class=\"col_heading level0 col4\" >BPR_factors_4</th>\n",
       "      <th id=\"T_6f802_level0_col5\" class=\"col_heading level0 col5\" >LMF_factors_4</th>\n",
       "      <th id=\"T_6f802_level0_col6\" class=\"col_heading level0 col6\" >LightFM_logistic_factors_4</th>\n",
       "      <th id=\"T_6f802_level0_col7\" class=\"col_heading level0 col7\" >LightFM_bpr_factors_4</th>\n",
       "      <th id=\"T_6f802_level0_col8\" class=\"col_heading level0 col8\" >LightFM_warp_factors_4</th>\n",
       "      <th id=\"T_6f802_level0_col9\" class=\"col_heading level0 col9\" >PureSVD_4</th>\n",
       "      <th id=\"T_6f802_level0_col10\" class=\"col_heading level0 col10\" >model_als_factors_4_fit_together_True-dataset_full_features</th>\n",
       "      <th id=\"T_6f802_level0_col11\" class=\"col_heading level0 col11\" >model_als_factors_4_fit_together_False-dataset_full_features</th>\n",
       "      <th id=\"T_6f802_level0_col12\" class=\"col_heading level0 col12\" >model_LightFM_bpr_factors_4-dataset_full_features</th>\n",
       "      <th id=\"T_6f802_level0_col13\" class=\"col_heading level0 col13\" >model_LightFM_warp_factors_4-dataset_full_features</th>\n",
       "    </tr>\n",
       "  </thead>\n",
       "  <tbody>\n",
       "    <tr>\n",
       "      <th id=\"T_6f802_level0_row0\" class=\"row_heading level0 row0\" >precision@3</th>\n",
       "      <td id=\"T_6f802_row0_col0\" class=\"data row0 col0\" >0.000166</td>\n",
       "      <td id=\"T_6f802_row0_col1\" class=\"data row0 col1\" >0.066225</td>\n",
       "      <td id=\"T_6f802_row0_col2\" class=\"data row0 col2\" >0.049303</td>\n",
       "      <td id=\"T_6f802_row0_col3\" class=\"data row0 col3\" >0.020271</td>\n",
       "      <td id=\"T_6f802_row0_col4\" class=\"data row0 col4\" >0.026261</td>\n",
       "      <td id=\"T_6f802_row0_col5\" class=\"data row0 col5\" >0.000044</td>\n",
       "      <td id=\"T_6f802_row0_col6\" class=\"data row0 col6\" >0.000006</td>\n",
       "      <td id=\"T_6f802_row0_col7\" class=\"data row0 col7\" >0.000000</td>\n",
       "      <td id=\"T_6f802_row0_col8\" class=\"data row0 col8\" >0.065412</td>\n",
       "      <td id=\"T_6f802_row0_col9\" class=\"data row0 col9\" >0.039128</td>\n",
       "      <td id=\"T_6f802_row0_col10\" class=\"data row0 col10\" >0.010018</td>\n",
       "      <td id=\"T_6f802_row0_col11\" class=\"data row0 col11\" >0.011301</td>\n",
       "      <td id=\"T_6f802_row0_col12\" class=\"data row0 col12\" >0.000003</td>\n",
       "      <td id=\"T_6f802_row0_col13\" class=\"data row0 col13\" >0.062767</td>\n",
       "    </tr>\n",
       "    <tr>\n",
       "      <th id=\"T_6f802_level0_row1\" class=\"row_heading level0 row1\" >recall@3</th>\n",
       "      <td id=\"T_6f802_row1_col0\" class=\"data row1 col0\" >0.000161</td>\n",
       "      <td id=\"T_6f802_row1_col1\" class=\"data row1 col1\" >0.100400</td>\n",
       "      <td id=\"T_6f802_row1_col2\" class=\"data row1 col2\" >0.076340</td>\n",
       "      <td id=\"T_6f802_row1_col3\" class=\"data row1 col3\" >0.032830</td>\n",
       "      <td id=\"T_6f802_row1_col4\" class=\"data row1 col4\" >0.041706</td>\n",
       "      <td id=\"T_6f802_row1_col5\" class=\"data row1 col5\" >0.000038</td>\n",
       "      <td id=\"T_6f802_row1_col6\" class=\"data row1 col6\" >0.000002</td>\n",
       "      <td id=\"T_6f802_row1_col7\" class=\"data row1 col7\" >0.000000</td>\n",
       "      <td id=\"T_6f802_row1_col8\" class=\"data row1 col8\" >0.097361</td>\n",
       "      <td id=\"T_6f802_row1_col9\" class=\"data row1 col9\" >0.061377</td>\n",
       "      <td id=\"T_6f802_row1_col10\" class=\"data row1 col10\" >0.013751</td>\n",
       "      <td id=\"T_6f802_row1_col11\" class=\"data row1 col11\" >0.016074</td>\n",
       "      <td id=\"T_6f802_row1_col12\" class=\"data row1 col12\" >0.000008</td>\n",
       "      <td id=\"T_6f802_row1_col13\" class=\"data row1 col13\" >0.093517</td>\n",
       "    </tr>\n",
       "    <tr>\n",
       "      <th id=\"T_6f802_level0_row2\" class=\"row_heading level0 row2\" >precision@5</th>\n",
       "      <td id=\"T_6f802_row2_col0\" class=\"data row2 col0\" >0.000171</td>\n",
       "      <td id=\"T_6f802_row2_col1\" class=\"data row2 col1\" >0.052735</td>\n",
       "      <td id=\"T_6f802_row2_col2\" class=\"data row2 col2\" >0.036461</td>\n",
       "      <td id=\"T_6f802_row2_col3\" class=\"data row2 col3\" >0.017861</td>\n",
       "      <td id=\"T_6f802_row2_col4\" class=\"data row2 col4\" >0.020465</td>\n",
       "      <td id=\"T_6f802_row2_col5\" class=\"data row2 col5\" >0.000055</td>\n",
       "      <td id=\"T_6f802_row2_col6\" class=\"data row2 col6\" >0.000007</td>\n",
       "      <td id=\"T_6f802_row2_col7\" class=\"data row2 col7\" >0.000002</td>\n",
       "      <td id=\"T_6f802_row2_col8\" class=\"data row2 col8\" >0.053082</td>\n",
       "      <td id=\"T_6f802_row2_col9\" class=\"data row2 col9\" >0.028520</td>\n",
       "      <td id=\"T_6f802_row2_col10\" class=\"data row2 col10\" >0.009474</td>\n",
       "      <td id=\"T_6f802_row2_col11\" class=\"data row2 col11\" >0.010629</td>\n",
       "      <td id=\"T_6f802_row2_col12\" class=\"data row2 col12\" >0.000002</td>\n",
       "      <td id=\"T_6f802_row2_col13\" class=\"data row2 col13\" >0.051026</td>\n",
       "    </tr>\n",
       "    <tr>\n",
       "      <th id=\"T_6f802_level0_row3\" class=\"row_heading level0 row3\" >recall@5</th>\n",
       "      <td id=\"T_6f802_row3_col0\" class=\"data row3 col0\" >0.000293</td>\n",
       "      <td id=\"T_6f802_row3_col1\" class=\"data row3 col1\" >0.130473</td>\n",
       "      <td id=\"T_6f802_row3_col2\" class=\"data row3 col2\" >0.092314</td>\n",
       "      <td id=\"T_6f802_row3_col3\" class=\"data row3 col3\" >0.046621</td>\n",
       "      <td id=\"T_6f802_row3_col4\" class=\"data row3 col4\" >0.052768</td>\n",
       "      <td id=\"T_6f802_row3_col5\" class=\"data row3 col5\" >0.000099</td>\n",
       "      <td id=\"T_6f802_row3_col6\" class=\"data row3 col6\" >0.000006</td>\n",
       "      <td id=\"T_6f802_row3_col7\" class=\"data row3 col7\" >0.000002</td>\n",
       "      <td id=\"T_6f802_row3_col8\" class=\"data row3 col8\" >0.129057</td>\n",
       "      <td id=\"T_6f802_row3_col9\" class=\"data row3 col9\" >0.073604</td>\n",
       "      <td id=\"T_6f802_row3_col10\" class=\"data row3 col10\" >0.021791</td>\n",
       "      <td id=\"T_6f802_row3_col11\" class=\"data row3 col11\" >0.024526</td>\n",
       "      <td id=\"T_6f802_row3_col12\" class=\"data row3 col12\" >0.000008</td>\n",
       "      <td id=\"T_6f802_row3_col13\" class=\"data row3 col13\" >0.124646</td>\n",
       "    </tr>\n",
       "    <tr>\n",
       "      <th id=\"T_6f802_level0_row4\" class=\"row_heading level0 row4\" >precision@10</th>\n",
       "      <td id=\"T_6f802_row4_col0\" class=\"data row4 col0\" >0.000176</td>\n",
       "      <td id=\"T_6f802_row4_col1\" class=\"data row4 col1\" >0.033708</td>\n",
       "      <td id=\"T_6f802_row4_col2\" class=\"data row4 col2\" >0.029902</td>\n",
       "      <td id=\"T_6f802_row4_col3\" class=\"data row4 col3\" >0.016555</td>\n",
       "      <td id=\"T_6f802_row4_col4\" class=\"data row4 col4\" >0.014280</td>\n",
       "      <td id=\"T_6f802_row4_col5\" class=\"data row4 col5\" >0.000066</td>\n",
       "      <td id=\"T_6f802_row4_col6\" class=\"data row4 col6\" >0.000010</td>\n",
       "      <td id=\"T_6f802_row4_col7\" class=\"data row4 col7\" >0.000002</td>\n",
       "      <td id=\"T_6f802_row4_col8\" class=\"data row4 col8\" >0.035476</td>\n",
       "      <td id=\"T_6f802_row4_col9\" class=\"data row4 col9\" >0.024375</td>\n",
       "      <td id=\"T_6f802_row4_col10\" class=\"data row4 col10\" >0.008407</td>\n",
       "      <td id=\"T_6f802_row4_col11\" class=\"data row4 col11\" >0.009574</td>\n",
       "      <td id=\"T_6f802_row4_col12\" class=\"data row4 col12\" >0.000002</td>\n",
       "      <td id=\"T_6f802_row4_col13\" class=\"data row4 col13\" >0.034970</td>\n",
       "    </tr>\n",
       "    <tr>\n",
       "      <th id=\"T_6f802_level0_row5\" class=\"row_heading level0 row5\" >recall@10</th>\n",
       "      <td id=\"T_6f802_row5_col0\" class=\"data row5 col0\" >0.000636</td>\n",
       "      <td id=\"T_6f802_row5_col1\" class=\"data row5 col1\" >0.163348</td>\n",
       "      <td id=\"T_6f802_row5_col2\" class=\"data row5 col2\" >0.148263</td>\n",
       "      <td id=\"T_6f802_row5_col3\" class=\"data row5 col3\" >0.085179</td>\n",
       "      <td id=\"T_6f802_row5_col4\" class=\"data row5 col4\" >0.070918</td>\n",
       "      <td id=\"T_6f802_row5_col5\" class=\"data row5 col5\" >0.000201</td>\n",
       "      <td id=\"T_6f802_row5_col6\" class=\"data row5 col6\" >0.000018</td>\n",
       "      <td id=\"T_6f802_row5_col7\" class=\"data row5 col7\" >0.000004</td>\n",
       "      <td id=\"T_6f802_row5_col8\" class=\"data row5 col8\" >0.167321</td>\n",
       "      <td id=\"T_6f802_row5_col9\" class=\"data row5 col9\" >0.121362</td>\n",
       "      <td id=\"T_6f802_row5_col10\" class=\"data row5 col10\" >0.038016</td>\n",
       "      <td id=\"T_6f802_row5_col11\" class=\"data row5 col11\" >0.042985</td>\n",
       "      <td id=\"T_6f802_row5_col12\" class=\"data row5 col12\" >0.000017</td>\n",
       "      <td id=\"T_6f802_row5_col13\" class=\"data row5 col13\" >0.165722</td>\n",
       "    </tr>\n",
       "    <tr>\n",
       "      <th id=\"T_6f802_level0_row6\" class=\"row_heading level0 row6\" >ndcg@3</th>\n",
       "      <td id=\"T_6f802_row6_col0\" class=\"data row6 col0\" >0.000181</td>\n",
       "      <td id=\"T_6f802_row6_col1\" class=\"data row6 col1\" >0.067825</td>\n",
       "      <td id=\"T_6f802_row6_col2\" class=\"data row6 col2\" >0.054997</td>\n",
       "      <td id=\"T_6f802_row6_col3\" class=\"data row6 col3\" >0.017856</td>\n",
       "      <td id=\"T_6f802_row6_col4\" class=\"data row6 col4\" >0.029415</td>\n",
       "      <td id=\"T_6f802_row6_col5\" class=\"data row6 col5\" >0.000038</td>\n",
       "      <td id=\"T_6f802_row6_col6\" class=\"data row6 col6\" >0.000004</td>\n",
       "      <td id=\"T_6f802_row6_col7\" class=\"data row6 col7\" >0.000000</td>\n",
       "      <td id=\"T_6f802_row6_col8\" class=\"data row6 col8\" >0.069335</td>\n",
       "      <td id=\"T_6f802_row6_col9\" class=\"data row6 col9\" >0.045404</td>\n",
       "      <td id=\"T_6f802_row6_col10\" class=\"data row6 col10\" >0.010147</td>\n",
       "      <td id=\"T_6f802_row6_col11\" class=\"data row6 col11\" >0.011400</td>\n",
       "      <td id=\"T_6f802_row6_col12\" class=\"data row6 col12\" >0.000002</td>\n",
       "      <td id=\"T_6f802_row6_col13\" class=\"data row6 col13\" >0.067417</td>\n",
       "    </tr>\n",
       "    <tr>\n",
       "      <th id=\"T_6f802_level0_row7\" class=\"row_heading level0 row7\" >ndcg@5</th>\n",
       "      <td id=\"T_6f802_row7_col0\" class=\"data row7 col0\" >0.000180</td>\n",
       "      <td id=\"T_6f802_row7_col1\" class=\"data row7 col1\" >0.058125</td>\n",
       "      <td id=\"T_6f802_row7_col2\" class=\"data row7 col2\" >0.044439</td>\n",
       "      <td id=\"T_6f802_row7_col3\" class=\"data row7 col3\" >0.016872</td>\n",
       "      <td id=\"T_6f802_row7_col4\" class=\"data row7 col4\" >0.024539</td>\n",
       "      <td id=\"T_6f802_row7_col5\" class=\"data row7 col5\" >0.000047</td>\n",
       "      <td id=\"T_6f802_row7_col6\" class=\"data row7 col6\" >0.000005</td>\n",
       "      <td id=\"T_6f802_row7_col7\" class=\"data row7 col7\" >0.000001</td>\n",
       "      <td id=\"T_6f802_row7_col8\" class=\"data row7 col8\" >0.059769</td>\n",
       "      <td id=\"T_6f802_row7_col9\" class=\"data row7 col9\" >0.036321</td>\n",
       "      <td id=\"T_6f802_row7_col10\" class=\"data row7 col10\" >0.009735</td>\n",
       "      <td id=\"T_6f802_row7_col11\" class=\"data row7 col11\" >0.010912</td>\n",
       "      <td id=\"T_6f802_row7_col12\" class=\"data row7 col12\" >0.000001</td>\n",
       "      <td id=\"T_6f802_row7_col13\" class=\"data row7 col13\" >0.058043</td>\n",
       "    </tr>\n",
       "    <tr>\n",
       "      <th id=\"T_6f802_level0_row8\" class=\"row_heading level0 row8\" >ndcg@10</th>\n",
       "      <td id=\"T_6f802_row8_col0\" class=\"data row8 col0\" >0.000180</td>\n",
       "      <td id=\"T_6f802_row8_col1\" class=\"data row8 col1\" >0.042932</td>\n",
       "      <td id=\"T_6f802_row8_col2\" class=\"data row8 col2\" >0.037379</td>\n",
       "      <td id=\"T_6f802_row8_col3\" class=\"data row8 col3\" >0.016288</td>\n",
       "      <td id=\"T_6f802_row8_col4\" class=\"data row8 col4\" >0.018791</td>\n",
       "      <td id=\"T_6f802_row8_col5\" class=\"data row8 col5\" >0.000058</td>\n",
       "      <td id=\"T_6f802_row8_col6\" class=\"data row8 col6\" >0.000008</td>\n",
       "      <td id=\"T_6f802_row8_col7\" class=\"data row8 col7\" >0.000002</td>\n",
       "      <td id=\"T_6f802_row8_col8\" class=\"data row8 col8\" >0.045119</td>\n",
       "      <td id=\"T_6f802_row8_col9\" class=\"data row8 col9\" >0.030618</td>\n",
       "      <td id=\"T_6f802_row8_col10\" class=\"data row8 col10\" >0.008907</td>\n",
       "      <td id=\"T_6f802_row8_col11\" class=\"data row8 col11\" >0.010076</td>\n",
       "      <td id=\"T_6f802_row8_col12\" class=\"data row8 col12\" >0.000002</td>\n",
       "      <td id=\"T_6f802_row8_col13\" class=\"data row8 col13\" >0.044376</td>\n",
       "    </tr>\n",
       "    <tr>\n",
       "      <th id=\"T_6f802_level0_row9\" class=\"row_heading level0 row9\" >novelty@3</th>\n",
       "      <td id=\"T_6f802_row9_col0\" class=\"data row9 col0\" >15.622707</td>\n",
       "      <td id=\"T_6f802_row9_col1\" class=\"data row9 col1\" >2.715712</td>\n",
       "      <td id=\"T_6f802_row9_col2\" class=\"data row9 col2\" >3.476014</td>\n",
       "      <td id=\"T_6f802_row9_col3\" class=\"data row9 col3\" >6.254801</td>\n",
       "      <td id=\"T_6f802_row9_col4\" class=\"data row9 col4\" >8.742482</td>\n",
       "      <td id=\"T_6f802_row9_col5\" class=\"data row9 col5\" >15.863335</td>\n",
       "      <td id=\"T_6f802_row9_col6\" class=\"data row9 col6\" >17.540496</td>\n",
       "      <td id=\"T_6f802_row9_col7\" class=\"data row9 col7\" >17.854312</td>\n",
       "      <td id=\"T_6f802_row9_col8\" class=\"data row9 col8\" >3.065290</td>\n",
       "      <td id=\"T_6f802_row9_col9\" class=\"data row9 col9\" >4.662294</td>\n",
       "      <td id=\"T_6f802_row9_col10\" class=\"data row9 col10\" >9.024195</td>\n",
       "      <td id=\"T_6f802_row9_col11\" class=\"data row9 col11\" >7.878655</td>\n",
       "      <td id=\"T_6f802_row9_col12\" class=\"data row9 col12\" >18.938813</td>\n",
       "      <td id=\"T_6f802_row9_col13\" class=\"data row9 col13\" >3.218543</td>\n",
       "    </tr>\n",
       "    <tr>\n",
       "      <th id=\"T_6f802_level0_row10\" class=\"row_heading level0 row10\" >novelty@5</th>\n",
       "      <td id=\"T_6f802_row10_col0\" class=\"data row10 col0\" >15.621916</td>\n",
       "      <td id=\"T_6f802_row10_col1\" class=\"data row10 col1\" >3.054547</td>\n",
       "      <td id=\"T_6f802_row10_col2\" class=\"data row10 col2\" >4.362083</td>\n",
       "      <td id=\"T_6f802_row10_col3\" class=\"data row10 col3\" >6.477830</td>\n",
       "      <td id=\"T_6f802_row10_col4\" class=\"data row10 col4\" >9.140963</td>\n",
       "      <td id=\"T_6f802_row10_col5\" class=\"data row10 col5\" >15.852230</td>\n",
       "      <td id=\"T_6f802_row10_col6\" class=\"data row10 col6\" >17.344798</td>\n",
       "      <td id=\"T_6f802_row10_col7\" class=\"data row10 col7\" >17.921971</td>\n",
       "      <td id=\"T_6f802_row10_col8\" class=\"data row10 col8\" >3.422049</td>\n",
       "      <td id=\"T_6f802_row10_col9\" class=\"data row10 col9\" >5.205189</td>\n",
       "      <td id=\"T_6f802_row10_col10\" class=\"data row10 col10\" >9.143341</td>\n",
       "      <td id=\"T_6f802_row10_col11\" class=\"data row10 col11\" >7.927087</td>\n",
       "      <td id=\"T_6f802_row10_col12\" class=\"data row10 col12\" >18.818252</td>\n",
       "      <td id=\"T_6f802_row10_col13\" class=\"data row10 col13\" >3.583080</td>\n",
       "    </tr>\n",
       "    <tr>\n",
       "      <th id=\"T_6f802_level0_row11\" class=\"row_heading level0 row11\" >novelty@10</th>\n",
       "      <td id=\"T_6f802_row11_col0\" class=\"data row11 col0\" >15.627710</td>\n",
       "      <td id=\"T_6f802_row11_col1\" class=\"data row11 col1\" >3.712311</td>\n",
       "      <td id=\"T_6f802_row11_col2\" class=\"data row11 col2\" >4.715587</td>\n",
       "      <td id=\"T_6f802_row11_col3\" class=\"data row11 col3\" >6.711071</td>\n",
       "      <td id=\"T_6f802_row11_col4\" class=\"data row11 col4\" >9.642182</td>\n",
       "      <td id=\"T_6f802_row11_col5\" class=\"data row11 col5\" >15.870130</td>\n",
       "      <td id=\"T_6f802_row11_col6\" class=\"data row11 col6\" >17.008411</td>\n",
       "      <td id=\"T_6f802_row11_col7\" class=\"data row11 col7\" >17.769323</td>\n",
       "      <td id=\"T_6f802_row11_col8\" class=\"data row11 col8\" >4.125199</td>\n",
       "      <td id=\"T_6f802_row11_col9\" class=\"data row11 col9\" >5.259059</td>\n",
       "      <td id=\"T_6f802_row11_col10\" class=\"data row11 col10\" >9.344082</td>\n",
       "      <td id=\"T_6f802_row11_col11\" class=\"data row11 col11\" >7.996098</td>\n",
       "      <td id=\"T_6f802_row11_col12\" class=\"data row11 col12\" >18.731574</td>\n",
       "      <td id=\"T_6f802_row11_col13\" class=\"data row11 col13\" >4.279284</td>\n",
       "    </tr>\n",
       "    <tr>\n",
       "      <th id=\"T_6f802_level0_row12\" class=\"row_heading level0 row12\" >serendipity@3</th>\n",
       "      <td id=\"T_6f802_row12_col0\" class=\"data row12 col0\" >0.000007</td>\n",
       "      <td id=\"T_6f802_row12_col1\" class=\"data row12 col1\" >0.000002</td>\n",
       "      <td id=\"T_6f802_row12_col2\" class=\"data row12 col2\" >0.000011</td>\n",
       "      <td id=\"T_6f802_row12_col3\" class=\"data row12 col3\" >0.000036</td>\n",
       "      <td id=\"T_6f802_row12_col4\" class=\"data row12 col4\" >0.000149</td>\n",
       "      <td id=\"T_6f802_row12_col5\" class=\"data row12 col5\" >0.000003</td>\n",
       "      <td id=\"T_6f802_row12_col6\" class=\"data row12 col6\" >0.000001</td>\n",
       "      <td id=\"T_6f802_row12_col7\" class=\"data row12 col7\" >0.000000</td>\n",
       "      <td id=\"T_6f802_row12_col8\" class=\"data row12 col8\" >0.000014</td>\n",
       "      <td id=\"T_6f802_row12_col9\" class=\"data row12 col9\" >0.000015</td>\n",
       "      <td id=\"T_6f802_row12_col10\" class=\"data row12 col10\" >0.000071</td>\n",
       "      <td id=\"T_6f802_row12_col11\" class=\"data row12 col11\" >0.000091</td>\n",
       "      <td id=\"T_6f802_row12_col12\" class=\"data row12 col12\" >0.000000</td>\n",
       "      <td id=\"T_6f802_row12_col13\" class=\"data row12 col13\" >0.000018</td>\n",
       "    </tr>\n",
       "    <tr>\n",
       "      <th id=\"T_6f802_level0_row13\" class=\"row_heading level0 row13\" >serendipity@5</th>\n",
       "      <td id=\"T_6f802_row13_col0\" class=\"data row13 col0\" >0.000006</td>\n",
       "      <td id=\"T_6f802_row13_col1\" class=\"data row13 col1\" >0.000002</td>\n",
       "      <td id=\"T_6f802_row13_col2\" class=\"data row13 col2\" >0.000012</td>\n",
       "      <td id=\"T_6f802_row13_col3\" class=\"data row13 col3\" >0.000037</td>\n",
       "      <td id=\"T_6f802_row13_col4\" class=\"data row13 col4\" >0.000157</td>\n",
       "      <td id=\"T_6f802_row13_col5\" class=\"data row13 col5\" >0.000003</td>\n",
       "      <td id=\"T_6f802_row13_col6\" class=\"data row13 col6\" >0.000001</td>\n",
       "      <td id=\"T_6f802_row13_col7\" class=\"data row13 col7\" >0.000000</td>\n",
       "      <td id=\"T_6f802_row13_col8\" class=\"data row13 col8\" >0.000015</td>\n",
       "      <td id=\"T_6f802_row13_col9\" class=\"data row13 col9\" >0.000017</td>\n",
       "      <td id=\"T_6f802_row13_col10\" class=\"data row13 col10\" >0.000071</td>\n",
       "      <td id=\"T_6f802_row13_col11\" class=\"data row13 col11\" >0.000087</td>\n",
       "      <td id=\"T_6f802_row13_col12\" class=\"data row13 col12\" >0.000000</td>\n",
       "      <td id=\"T_6f802_row13_col13\" class=\"data row13 col13\" >0.000020</td>\n",
       "    </tr>\n",
       "    <tr>\n",
       "      <th id=\"T_6f802_level0_row14\" class=\"row_heading level0 row14\" >serendipity@10</th>\n",
       "      <td id=\"T_6f802_row14_col0\" class=\"data row14 col0\" >0.000006</td>\n",
       "      <td id=\"T_6f802_row14_col1\" class=\"data row14 col1\" >0.000002</td>\n",
       "      <td id=\"T_6f802_row14_col2\" class=\"data row14 col2\" >0.000010</td>\n",
       "      <td id=\"T_6f802_row14_col3\" class=\"data row14 col3\" >0.000035</td>\n",
       "      <td id=\"T_6f802_row14_col4\" class=\"data row14 col4\" >0.000151</td>\n",
       "      <td id=\"T_6f802_row14_col5\" class=\"data row14 col5\" >0.000004</td>\n",
       "      <td id=\"T_6f802_row14_col6\" class=\"data row14 col6\" >0.000001</td>\n",
       "      <td id=\"T_6f802_row14_col7\" class=\"data row14 col7\" >0.000000</td>\n",
       "      <td id=\"T_6f802_row14_col8\" class=\"data row14 col8\" >0.000017</td>\n",
       "      <td id=\"T_6f802_row14_col9\" class=\"data row14 col9\" >0.000016</td>\n",
       "      <td id=\"T_6f802_row14_col10\" class=\"data row14 col10\" >0.000072</td>\n",
       "      <td id=\"T_6f802_row14_col11\" class=\"data row14 col11\" >0.000082</td>\n",
       "      <td id=\"T_6f802_row14_col12\" class=\"data row14 col12\" >0.000000</td>\n",
       "      <td id=\"T_6f802_row14_col13\" class=\"data row14 col13\" >0.000023</td>\n",
       "    </tr>\n",
       "  </tbody>\n",
       "</table>\n"
      ],
      "text/plain": [
       "<pandas.io.formats.style.Styler at 0x7b27b4ba8d90>"
      ]
     },
     "execution_count": 77,
     "metadata": {},
     "output_type": "execute_result"
    }
   ],
   "source": [
    "pd.merge(\n",
    "    df_quality, df_quality_feature, left_index=True, right_index=True\n",
    ").style.highlight_max(color=\"lightgreen\", axis=1)"
   ]
  },
  {
   "cell_type": "markdown",
   "id": "eaa457a0-6765-4919-a412-5454cd483350",
   "metadata": {},
   "source": [
    "**В данном случае фичи не улучшают метрики, но при более лучшей оптимизации гиперпараметров, настройки датасета и тд они могут дать хороший прирост**"
   ]
  },
  {
   "cell_type": "markdown",
   "id": "7db53177-c3fe-4a8c-bd7f-52ed65d9ed44",
   "metadata": {},
   "source": [
    "# HOT, WARM и COLD cценарии"
   ]
  },
  {
   "cell_type": "markdown",
   "id": "e6709597-22ce-4824-811f-3c73345ffd32",
   "metadata": {},
   "source": [
    "**hot** - сценарий, при котором пользователь имеет интеракции -> известные признаки"
   ]
  },
  {
   "cell_type": "markdown",
   "id": "1d80b8ce-f3b1-48d7-82f9-556477fc50c0",
   "metadata": {},
   "source": [
    "**warm** - сценарий, при котором пользователь не имеет интеракции, но мы знаем его признаки"
   ]
  },
  {
   "cell_type": "markdown",
   "id": "9a6d9aa8-8302-4f37-acde-67146381e474",
   "metadata": {},
   "source": [
    "**cold** - сценарий, при котором пользователь не имеет интеракции и известных нам признаки"
   ]
  },
  {
   "cell_type": "code",
   "execution_count": 78,
   "id": "e356d04c-44e8-43ea-b2af-23c85db8f8ea",
   "metadata": {},
   "outputs": [
    {
     "name": "stdout",
     "output_type": "stream",
     "text": [
      "test all: (490982, 5)\n",
      "test hot: (349088, 5)\n",
      "test warm: (141885, 5)\n",
      "test cold: (9, 5)\n"
     ]
    }
   ],
   "source": [
    "# Отбираем теплых и холодных пользователей\n",
    "test_warm = test[~test[\"user_id\"].isin(train[\"user_id\"].unique())]\n",
    "\n",
    "users_warm = users[users[Columns.User].isin(test_warm[Columns.Item])]\n",
    "user_cold = users_warm[\n",
    "    (users_warm[\"age\"] == \"Unknown\")\n",
    "    & (users_warm[\"income\"] == \"Unknown\")\n",
    "    & (users_warm[\"sex\"] == \"Unknown\")\n",
    "][Columns.User].unique()\n",
    "\n",
    "test_cold = test_warm[test_warm[Columns.User].isin(user_cold)]\n",
    "test_warm = test_warm[~test_warm[Columns.User].isin(user_cold)]\n",
    "\n",
    "print(f\"test all: {test.shape}\")\n",
    "print(f\"test hot: {test_hot.shape}\")\n",
    "print(f\"test warm: {test_warm.shape}\")\n",
    "print(f\"test cold: {test_cold.shape}\")"
   ]
  },
  {
   "cell_type": "code",
   "execution_count": 79,
   "id": "06c46224-3310-4a5c-bf4e-dbab8b997a5f",
   "metadata": {},
   "outputs": [
    {
     "name": "stdout",
     "output_type": "stream",
     "text": [
      "test all users: 185907\n",
      "test hot users: 120519\n",
      "test warm users: 65383\n",
      "test cold users: 5\n"
     ]
    }
   ],
   "source": [
    "print(f\"test all users: {test[Columns.User].nunique()}\")\n",
    "print(f\"test hot users: {test_hot[Columns.User].nunique()}\")\n",
    "print(f\"test warm users: {test_warm[Columns.User].nunique()}\")\n",
    "print(f\"test cold users: {test_cold[Columns.User].nunique()}\")"
   ]
  },
  {
   "cell_type": "code",
   "execution_count": 80,
   "id": "ed460d18-ce89-44e8-9d55-bb6181ae4110",
   "metadata": {},
   "outputs": [],
   "source": [
    "user_features_df_hwc = user_features_df[~user_features_df[\"id\"].isin(user_cold)]"
   ]
  },
  {
   "cell_type": "code",
   "execution_count": 81,
   "id": "0b4ec464-50d7-418e-a970-69d090aab69e",
   "metadata": {},
   "outputs": [],
   "source": [
    "dataset_full_features_hwc = Dataset.construct(\n",
    "    interactions_df=train,\n",
    "    user_features_df=user_features_df_hwc,\n",
    "    cat_user_features=[\"sex\", \"age\", \"income\"],\n",
    "    item_features_df=items_features_df,\n",
    "    cat_item_features=[\"genre\", \"content_type\"],\n",
    ")"
   ]
  },
  {
   "cell_type": "code",
   "execution_count": 82,
   "id": "5c272a50-5484-4696-a89d-60faa2eceb80",
   "metadata": {},
   "outputs": [],
   "source": [
    "hot_test_users = test_hot[Columns.User].unique().tolist()\n",
    "warm_test_users = test_warm[Columns.User].unique().tolist()\n",
    "cold_test_users = test_cold[Columns.User].unique().tolist()"
   ]
  },
  {
   "cell_type": "code",
   "execution_count": 83,
   "id": "09c2a18d-9631-4a57-925a-77469a3a1d1f",
   "metadata": {
    "scrolled": true
   },
   "outputs": [
    {
     "name": "stdout",
     "output_type": "stream",
     "text": [
      "Exception hot-warm-cold: Model `<class 'rectools.models.implicit_als.ImplicitALSWrapperModel'>` doesn't support recommendations for warm and cold users, but some of given users are warm: they are not in the interactions\n",
      "Exception hot-warm: Model `<class 'rectools.models.implicit_als.ImplicitALSWrapperModel'>` doesn't support recommendations for warm and cold users, but some of given users are warm: they are not in the interactions\n",
      "Recommend with hot\n"
     ]
    }
   ],
   "source": [
    "model_als = ImplicitALSWrapperModel(\n",
    "    model=AlternatingLeastSquares(\n",
    "        factors=N_FACTORS,\n",
    "        random_state=RANDOM_STATE,\n",
    "        num_threads=NUM_THREADS,\n",
    "    ),\n",
    "    fit_features_together=True,\n",
    ")\n",
    "\n",
    "model_als.fit(dataset_full_features_hwc)\n",
    "\n",
    "try:\n",
    "    recos_als = model_als.recommend(\n",
    "        users=hot_test_users + warm_test_users + cold_test_users,\n",
    "        dataset=dataset_full_features_hwc,\n",
    "        k=K_RECOS,\n",
    "        filter_viewed=True,\n",
    "    )\n",
    "    print(f\"Recommend with hot, warm and cold\")\n",
    "except Exception as e:\n",
    "    print(f\"Exception hot-warm-cold: {e}\")\n",
    "    try:\n",
    "        recos_als = model_als.recommend(\n",
    "            users=hot_test_users + warm_test_users,\n",
    "            dataset=dataset_full_features_hwc,\n",
    "            k=K_RECOS,\n",
    "            filter_viewed=True,\n",
    "        )\n",
    "        print(f\"Recommend with hot, warm\")\n",
    "    except Exception as e:\n",
    "        print(f\"Exception hot-warm: {e}\")\n",
    "        recos_als = model_als.recommend(\n",
    "            users=hot_test_users,\n",
    "            dataset=dataset_full_features_hwc,\n",
    "            k=K_RECOS,\n",
    "            filter_viewed=True,\n",
    "        )\n",
    "        print(f\"Recommend with hot\")"
   ]
  },
  {
   "cell_type": "code",
   "execution_count": 84,
   "id": "274a6b35-d49e-47a0-8fa8-5296910384e6",
   "metadata": {},
   "outputs": [
    {
     "name": "stdout",
     "output_type": "stream",
     "text": [
      "Recommend with hot, warm and cold...\n",
      "Recommend with hot, warm...\n",
      "Recommend with hot...\n"
     ]
    }
   ],
   "source": [
    "model_lightfm = LightFMWrapperModel(\n",
    "    LightFM(\n",
    "        no_components=N_FACTORS,\n",
    "        loss=\"warp\",\n",
    "        random_state=RANDOM_STATE,\n",
    "    ),\n",
    "    epochs=10,\n",
    "    num_threads=NUM_THREADS,\n",
    ")\n",
    "\n",
    "model_lightfm.fit(dataset_full_features_hwc)\n",
    "\n",
    "print(f\"Recommend with hot, warm and cold...\")\n",
    "recos_lightfm_hwc = model_lightfm.recommend(\n",
    "    users=hot_test_users + warm_test_users + cold_test_users,\n",
    "    dataset=dataset_full_features_hwc,\n",
    "    k=K_RECOS,\n",
    "    filter_viewed=True,\n",
    ")\n",
    "\n",
    "print(f\"Recommend with hot, warm...\")\n",
    "recos_lightfm_hw = model_lightfm.recommend(\n",
    "    users=hot_test_users + warm_test_users,\n",
    "    dataset=dataset_full_features_hwc,\n",
    "    k=K_RECOS,\n",
    "    filter_viewed=True,\n",
    ")\n",
    "\n",
    "print(f\"Recommend with hot...\")\n",
    "recos_lightfm_h = model_lightfm.recommend(\n",
    "    users=hot_test_users,\n",
    "    dataset=dataset_full_features_hwc,\n",
    "    k=K_RECOS,\n",
    "    filter_viewed=True,\n",
    ")"
   ]
  },
  {
   "cell_type": "code",
   "execution_count": 85,
   "id": "25af517b-4cc3-4f9a-a9c4-77291eeb7078",
   "metadata": {},
   "outputs": [],
   "source": [
    "metrics_hwc = {}\n",
    "for model_name, recos in [\n",
    "    (\"als_hot\", recos_als),\n",
    "    (\"lightfm_hwc\", recos_lightfm_hwc),\n",
    "    (\"lightfm_hw\", recos_lightfm_hw),\n",
    "    (\"lightfm_h\", recos_lightfm_h),\n",
    "]:\n",
    "    metrics_hwc[model_name] = calc_metrics(metrics, recos, test, train, catalog=catalog)"
   ]
  },
  {
   "cell_type": "code",
   "execution_count": 86,
   "id": "b1e2001f-f7b2-479b-8a12-3f5245a2ded5",
   "metadata": {},
   "outputs": [
    {
     "data": {
      "text/html": [
       "<style type=\"text/css\">\n",
       "#T_505c2_row0_col1, #T_505c2_row0_col2, #T_505c2_row1_col1, #T_505c2_row1_col2, #T_505c2_row2_col1, #T_505c2_row3_col1, #T_505c2_row4_col1, #T_505c2_row5_col1, #T_505c2_row6_col1, #T_505c2_row6_col2, #T_505c2_row7_col1, #T_505c2_row8_col1, #T_505c2_row9_col0, #T_505c2_row10_col0, #T_505c2_row11_col0, #T_505c2_row12_col0, #T_505c2_row13_col0, #T_505c2_row14_col0 {\n",
       "  background-color: lightgreen;\n",
       "}\n",
       "</style>\n",
       "<table id=\"T_505c2\">\n",
       "  <thead>\n",
       "    <tr>\n",
       "      <th class=\"blank level0\" >&nbsp;</th>\n",
       "      <th id=\"T_505c2_level0_col0\" class=\"col_heading level0 col0\" >als_hot</th>\n",
       "      <th id=\"T_505c2_level0_col1\" class=\"col_heading level0 col1\" >lightfm_hwc</th>\n",
       "      <th id=\"T_505c2_level0_col2\" class=\"col_heading level0 col2\" >lightfm_hw</th>\n",
       "      <th id=\"T_505c2_level0_col3\" class=\"col_heading level0 col3\" >lightfm_h</th>\n",
       "    </tr>\n",
       "  </thead>\n",
       "  <tbody>\n",
       "    <tr>\n",
       "      <th id=\"T_505c2_level0_row0\" class=\"row_heading level0 row0\" >precision@3</th>\n",
       "      <td id=\"T_505c2_row0_col0\" class=\"data row0 col0\" >0.006492</td>\n",
       "      <td id=\"T_505c2_row0_col1\" class=\"data row0 col1\" >0.083449</td>\n",
       "      <td id=\"T_505c2_row0_col2\" class=\"data row0 col2\" >0.083449</td>\n",
       "      <td id=\"T_505c2_row0_col3\" class=\"data row0 col3\" >0.040943</td>\n",
       "    </tr>\n",
       "    <tr>\n",
       "      <th id=\"T_505c2_level0_row1\" class=\"row_heading level0 row1\" >recall@3</th>\n",
       "      <td id=\"T_505c2_row1_col0\" class=\"data row1 col0\" >0.008884</td>\n",
       "      <td id=\"T_505c2_row1_col1\" class=\"data row1 col1\" >0.144416</td>\n",
       "      <td id=\"T_505c2_row1_col2\" class=\"data row1 col2\" >0.144416</td>\n",
       "      <td id=\"T_505c2_row1_col3\" class=\"data row1 col3\" >0.061088</td>\n",
       "    </tr>\n",
       "    <tr>\n",
       "      <th id=\"T_505c2_level0_row2\" class=\"row_heading level0 row2\" >precision@5</th>\n",
       "      <td id=\"T_505c2_row2_col0\" class=\"data row2 col0\" >0.006151</td>\n",
       "      <td id=\"T_505c2_row2_col1\" class=\"data row2 col1\" >0.064759</td>\n",
       "      <td id=\"T_505c2_row2_col2\" class=\"data row2 col2\" >0.064758</td>\n",
       "      <td id=\"T_505c2_row2_col3\" class=\"data row2 col3\" >0.032920</td>\n",
       "    </tr>\n",
       "    <tr>\n",
       "      <th id=\"T_505c2_level0_row3\" class=\"row_heading level0 row3\" >recall@5</th>\n",
       "      <td id=\"T_505c2_row3_col0\" class=\"data row3 col0\" >0.014123</td>\n",
       "      <td id=\"T_505c2_row3_col1\" class=\"data row3 col1\" >0.180243</td>\n",
       "      <td id=\"T_505c2_row3_col2\" class=\"data row3 col2\" >0.180240</td>\n",
       "      <td id=\"T_505c2_row3_col3\" class=\"data row3 col3\" >0.080243</td>\n",
       "    </tr>\n",
       "    <tr>\n",
       "      <th id=\"T_505c2_level0_row4\" class=\"row_heading level0 row4\" >precision@10</th>\n",
       "      <td id=\"T_505c2_row4_col0\" class=\"data row4 col0\" >0.005440</td>\n",
       "      <td id=\"T_505c2_row4_col1\" class=\"data row4 col1\" >0.042190</td>\n",
       "      <td id=\"T_505c2_row4_col2\" class=\"data row4 col2\" >0.042189</td>\n",
       "      <td id=\"T_505c2_row4_col3\" class=\"data row4 col3\" >0.022732</td>\n",
       "    </tr>\n",
       "    <tr>\n",
       "      <th id=\"T_505c2_level0_row5\" class=\"row_heading level0 row5\" >recall@10</th>\n",
       "      <td id=\"T_505c2_row5_col0\" class=\"data row5 col0\" >0.024552</td>\n",
       "      <td id=\"T_505c2_row5_col1\" class=\"data row5 col1\" >0.224943</td>\n",
       "      <td id=\"T_505c2_row5_col2\" class=\"data row5 col2\" >0.224935</td>\n",
       "      <td id=\"T_505c2_row5_col3\" class=\"data row5 col3\" >0.107763</td>\n",
       "    </tr>\n",
       "    <tr>\n",
       "      <th id=\"T_505c2_level0_row6\" class=\"row_heading level0 row6\" >ndcg@3</th>\n",
       "      <td id=\"T_505c2_row6_col0\" class=\"data row6 col0\" >0.006572</td>\n",
       "      <td id=\"T_505c2_row6_col1\" class=\"data row6 col1\" >0.088901</td>\n",
       "      <td id=\"T_505c2_row6_col2\" class=\"data row6 col2\" >0.088901</td>\n",
       "      <td id=\"T_505c2_row6_col3\" class=\"data row6 col3\" >0.044206</td>\n",
       "    </tr>\n",
       "    <tr>\n",
       "      <th id=\"T_505c2_level0_row7\" class=\"row_heading level0 row7\" >ndcg@5</th>\n",
       "      <td id=\"T_505c2_row7_col0\" class=\"data row7 col0\" >0.006315</td>\n",
       "      <td id=\"T_505c2_row7_col1\" class=\"data row7 col1\" >0.074530</td>\n",
       "      <td id=\"T_505c2_row7_col2\" class=\"data row7 col2\" >0.074529</td>\n",
       "      <td id=\"T_505c2_row7_col3\" class=\"data row7 col3\" >0.037770</td>\n",
       "    </tr>\n",
       "    <tr>\n",
       "      <th id=\"T_505c2_level0_row8\" class=\"row_heading level0 row8\" >ndcg@10</th>\n",
       "      <td id=\"T_505c2_row8_col0\" class=\"data row8 col0\" >0.005765</td>\n",
       "      <td id=\"T_505c2_row8_col1\" class=\"data row8 col1\" >0.055334</td>\n",
       "      <td id=\"T_505c2_row8_col2\" class=\"data row8 col2\" >0.055333</td>\n",
       "      <td id=\"T_505c2_row8_col3\" class=\"data row8 col3\" >0.028961</td>\n",
       "    </tr>\n",
       "    <tr>\n",
       "      <th id=\"T_505c2_level0_row9\" class=\"row_heading level0 row9\" >novelty@3</th>\n",
       "      <td id=\"T_505c2_row9_col0\" class=\"data row9 col0\" >9.027940</td>\n",
       "      <td id=\"T_505c2_row9_col1\" class=\"data row9 col1\" >3.036411</td>\n",
       "      <td id=\"T_505c2_row9_col2\" class=\"data row9 col2\" >3.036418</td>\n",
       "      <td id=\"T_505c2_row9_col3\" class=\"data row9 col3\" >3.251996</td>\n",
       "    </tr>\n",
       "    <tr>\n",
       "      <th id=\"T_505c2_level0_row10\" class=\"row_heading level0 row10\" >novelty@5</th>\n",
       "      <td id=\"T_505c2_row10_col0\" class=\"data row10 col0\" >9.145777</td>\n",
       "      <td id=\"T_505c2_row10_col1\" class=\"data row10 col1\" >3.365488</td>\n",
       "      <td id=\"T_505c2_row10_col2\" class=\"data row10 col2\" >3.365493</td>\n",
       "      <td id=\"T_505c2_row10_col3\" class=\"data row10 col3\" >3.611464</td>\n",
       "    </tr>\n",
       "    <tr>\n",
       "      <th id=\"T_505c2_level0_row11\" class=\"row_heading level0 row11\" >novelty@10</th>\n",
       "      <td id=\"T_505c2_row11_col0\" class=\"data row11 col0\" >9.347730</td>\n",
       "      <td id=\"T_505c2_row11_col1\" class=\"data row11 col1\" >4.036168</td>\n",
       "      <td id=\"T_505c2_row11_col2\" class=\"data row11 col2\" >4.036177</td>\n",
       "      <td id=\"T_505c2_row11_col3\" class=\"data row11 col3\" >4.316525</td>\n",
       "    </tr>\n",
       "    <tr>\n",
       "      <th id=\"T_505c2_level0_row12\" class=\"row_heading level0 row12\" >serendipity@3</th>\n",
       "      <td id=\"T_505c2_row12_col0\" class=\"data row12 col0\" >0.000070</td>\n",
       "      <td id=\"T_505c2_row12_col1\" class=\"data row12 col1\" >0.000013</td>\n",
       "      <td id=\"T_505c2_row12_col2\" class=\"data row12 col2\" >0.000013</td>\n",
       "      <td id=\"T_505c2_row12_col3\" class=\"data row12 col3\" >0.000018</td>\n",
       "    </tr>\n",
       "    <tr>\n",
       "      <th id=\"T_505c2_level0_row13\" class=\"row_heading level0 row13\" >serendipity@5</th>\n",
       "      <td id=\"T_505c2_row13_col0\" class=\"data row13 col0\" >0.000072</td>\n",
       "      <td id=\"T_505c2_row13_col1\" class=\"data row13 col1\" >0.000014</td>\n",
       "      <td id=\"T_505c2_row13_col2\" class=\"data row13 col2\" >0.000014</td>\n",
       "      <td id=\"T_505c2_row13_col3\" class=\"data row13 col3\" >0.000020</td>\n",
       "    </tr>\n",
       "    <tr>\n",
       "      <th id=\"T_505c2_level0_row14\" class=\"row_heading level0 row14\" >serendipity@10</th>\n",
       "      <td id=\"T_505c2_row14_col0\" class=\"data row14 col0\" >0.000071</td>\n",
       "      <td id=\"T_505c2_row14_col1\" class=\"data row14 col1\" >0.000016</td>\n",
       "      <td id=\"T_505c2_row14_col2\" class=\"data row14 col2\" >0.000016</td>\n",
       "      <td id=\"T_505c2_row14_col3\" class=\"data row14 col3\" >0.000023</td>\n",
       "    </tr>\n",
       "  </tbody>\n",
       "</table>\n"
      ],
      "text/plain": [
       "<pandas.io.formats.style.Styler at 0x7b27adb89cd0>"
      ]
     },
     "execution_count": 86,
     "metadata": {},
     "output_type": "execute_result"
    }
   ],
   "source": [
    "pd.DataFrame(metrics_hwc).style.highlight_max(color=\"lightgreen\", axis=1)"
   ]
  },
  {
   "cell_type": "markdown",
   "id": "8eae7c8a-1913-4b37-a767-acae2c0bf11d",
   "metadata": {},
   "source": [
    "**Метрики для модели lightfm в сценариях hot-warm-cold заметно превосходят ту же модель в сценарии только hot**"
   ]
  },
  {
   "cell_type": "code",
   "execution_count": 87,
   "id": "c7f5c002-677e-4181-854b-9cb09c8444ce",
   "metadata": {},
   "outputs": [
    {
     "data": {
      "text/plain": [
       "{'precision@3': 0.12085710352844012,\n",
       " 'recall@3': 0.23692933388403817,\n",
       " 'precision@5': 0.0905281189299971,\n",
       " 'recall@5': 0.2843251045356928,\n",
       " 'precision@10': 0.055323249162626376,\n",
       " 'recall@10': 0.3331639907387686,\n",
       " 'ndcg@3': 0.12708428517798148,\n",
       " 'ndcg@5': 0.10451948396818296,\n",
       " 'ndcg@10': 0.07498445794085386,\n",
       " 'novelty@3': 2.639048141442968,\n",
       " 'novelty@5': 2.9121008739024723,\n",
       " 'novelty@10': 3.519418917599006,\n",
       " 'serendipity@3': 3.1014793445611605e-06,\n",
       " 'serendipity@5': 2.3708678939352158e-06,\n",
       " 'serendipity@10': 1.8667833326002016e-06}"
      ]
     },
     "execution_count": 87,
     "metadata": {},
     "output_type": "execute_result"
    }
   ],
   "source": [
    "recos_lightfm_w = recos_lightfm_hwc[\n",
    "    recos_lightfm_hwc[Columns.User].isin(warm_test_users)\n",
    "]\n",
    "metrics_w = calc_metrics(metrics, recos_lightfm_w, test_warm, train, catalog=catalog)\n",
    "metrics_w"
   ]
  },
  {
   "cell_type": "code",
   "execution_count": 88,
   "id": "7959cdbb-a2a6-4e93-b7cf-01d844db16a4",
   "metadata": {},
   "outputs": [
    {
     "data": {
      "text/plain": [
       "{'precision@3': 0.0,\n",
       " 'recall@3': 0.0,\n",
       " 'precision@5': 0.04,\n",
       " 'recall@5': 0.1,\n",
       " 'precision@10': 0.06000000000000001,\n",
       " 'recall@10': 0.26666666666666666,\n",
       " 'ndcg@3': 0.0,\n",
       " 'ndcg@5': 0.02624101550246836,\n",
       " 'ndcg@10': 0.04416571260655746,\n",
       " 'novelty@3': 2.7822143525764074,\n",
       " 'novelty@5': 3.165416478636879,\n",
       " 'novelty@10': 3.7055744473270864,\n",
       " 'serendipity@3': 0.0,\n",
       " 'serendipity@5': 7.709604882748523e-06,\n",
       " 'serendipity@10': 3.854802441374261e-06}"
      ]
     },
     "execution_count": 88,
     "metadata": {},
     "output_type": "execute_result"
    }
   ],
   "source": [
    "recos_lightfm_c = recos_lightfm_hwc[\n",
    "    recos_lightfm_hwc[Columns.User].isin(cold_test_users)\n",
    "]\n",
    "metrics_с = calc_metrics(metrics, recos_lightfm_c, test_cold, train, catalog=catalog)\n",
    "metrics_с"
   ]
  },
  {
   "cell_type": "markdown",
   "id": "0b64c53b-a2fc-4cd4-86d9-904ab7be9408",
   "metadata": {},
   "source": [
    "# ALS Factors"
   ]
  },
  {
   "cell_type": "code",
   "execution_count": 89,
   "id": "6d8b4d9a-0c5b-4146-a11f-b5873e01b144",
   "metadata": {},
   "outputs": [
    {
     "data": {
      "text/plain": [
       "((896791, 118), (15565, 118))"
      ]
     },
     "execution_count": 89,
     "metadata": {},
     "output_type": "execute_result"
    }
   ],
   "source": [
    "# Получаем эмбеддинги пользователей и товаров\n",
    "user_vectors, item_vectors = model_als.get_vectors()\n",
    "user_vectors.shape, item_vectors.shape"
   ]
  },
  {
   "cell_type": "code",
   "execution_count": 90,
   "id": "f7b74a1f-f65e-44b9-9b80-de22c9fa02a9",
   "metadata": {},
   "outputs": [
    {
     "data": {
      "text/plain": [
       "(17, 97)"
      ]
     },
     "execution_count": 90,
     "metadata": {},
     "output_type": "execute_result"
    }
   ],
   "source": [
    "num_explicit_user_features = dataset_full_features_hwc.user_features.get_dense().shape[\n",
    "    -1\n",
    "]\n",
    "num_explicit_item_features = dataset_full_features_hwc.item_features.get_dense().shape[\n",
    "    -1\n",
    "]\n",
    "num_explicit_user_features, num_explicit_item_features"
   ]
  },
  {
   "cell_type": "markdown",
   "id": "a95bbf72-268f-4ac0-b4a6-375ce51383e0",
   "metadata": {},
   "source": [
    "Размер вектора складывается из `factors` + (number of explicit user features) + (number of explicit item features)"
   ]
  },
  {
   "cell_type": "code",
   "execution_count": 91,
   "id": "79c2eff6-3823-4598-9250-0db094b9c8a7",
   "metadata": {},
   "outputs": [
    {
     "data": {
      "text/plain": [
       "4"
      ]
     },
     "execution_count": 91,
     "metadata": {},
     "output_type": "execute_result"
    }
   ],
   "source": [
    "N_FACTORS"
   ]
  },
  {
   "cell_type": "code",
   "execution_count": 92,
   "id": "6ba061a5-d459-407c-9a8f-0c603b17cd59",
   "metadata": {},
   "outputs": [
    {
     "data": {
      "text/plain": [
       "118"
      ]
     },
     "execution_count": 92,
     "metadata": {},
     "output_type": "execute_result"
    }
   ],
   "source": [
    "N_FACTORS + num_explicit_user_features + num_explicit_item_features"
   ]
  },
  {
   "cell_type": "code",
   "execution_count": 93,
   "id": "56e69186-17b2-44d6-9c7f-b3a504469337",
   "metadata": {},
   "outputs": [
    {
     "data": {
      "text/plain": [
       "array([ 1.00000000e+00,  0.00000000e+00,  0.00000000e+00,  0.00000000e+00,\n",
       "        0.00000000e+00,  0.00000000e+00,  1.00000000e+00,  0.00000000e+00,\n",
       "        0.00000000e+00,  0.00000000e+00,  0.00000000e+00,  0.00000000e+00,\n",
       "        1.00000000e+00,  0.00000000e+00,  0.00000000e+00,  0.00000000e+00,\n",
       "        0.00000000e+00,  2.50640642e-02,  4.14817333e-02,  1.24314614e-01,\n",
       "       -1.44357219e-01, -4.41756507e-04, -6.81506872e-01, -8.39054808e-02,\n",
       "       -1.98978442e-03,  6.26968369e-02, -9.59301461e-03,  1.19800322e-01,\n",
       "       -3.33005115e-02,  1.83503240e-01,  2.15907410e-01, -3.02449346e-01,\n",
       "       -4.28853691e-01, -4.75264564e-02, -1.42096439e-02,  7.77220875e-02,\n",
       "        4.99058254e-02, -8.80574360e-02, -2.61569563e-02, -5.54846076e-04,\n",
       "       -1.37856364e-01, -1.62563864e-02, -8.14298540e-03, -7.30095059e-02,\n",
       "       -1.08449884e-01, -1.01007208e-01, -1.59624908e-02, -4.95192269e-03,\n",
       "        1.39773851e-02, -3.94205824e-02, -3.58244404e-02, -2.84415353e-02,\n",
       "       -5.89581244e-02, -3.74230891e-01, -2.22468525e-01,  2.32510895e-01,\n",
       "        4.48848680e-02,  2.04144567e-01, -2.44197510e-02,  5.63919637e-03,\n",
       "        1.33033404e-02, -1.01253670e-02, -7.37683615e-03, -8.06076452e-04,\n",
       "       -1.23460375e-01, -5.11673512e-03, -1.59700848e-02, -2.24401965e-03,\n",
       "       -1.12973782e-03, -1.07102925e-02, -1.97914499e-03, -1.90208126e-02,\n",
       "       -3.81932710e-03,  2.58123479e-03, -2.57112030e-02,  3.02822832e-02,\n",
       "        7.32429028e-01, -5.68979932e-03, -5.82637005e-02, -2.29166448e-02,\n",
       "       -3.21616651e-03, -5.03935590e-02, -9.27527715e-03, -1.51417669e-04,\n",
       "       -4.05666215e-05, -5.60068339e-03,  9.29643633e-04, -1.59230971e-04,\n",
       "       -5.92191378e-03, -8.79667175e-04, -3.33434460e-03, -5.32936072e-04,\n",
       "       -7.19358330e-04,  1.89194843e-01, -3.74132476e-04, -1.41922683e-02,\n",
       "       -1.51874335e-03, -1.44426769e-03, -1.62931671e-03,  8.31128738e-04,\n",
       "       -4.39407624e-04, -3.33826919e-03, -1.85045239e-03, -2.63710320e-03,\n",
       "        1.87229214e-03, -1.66034477e-03, -9.61058904e-05,  3.90266941e-04,\n",
       "       -1.77891288e-05, -2.44725466e-04, -3.51692521e-04, -1.68834894e-03,\n",
       "        0.00000000e+00, -9.04028857e-05, -2.40859954e-04, -4.75603185e-04,\n",
       "        6.53712869e-01,  1.99434042e-01], dtype=float32)"
      ]
     },
     "execution_count": 93,
     "metadata": {},
     "output_type": "execute_result"
    }
   ],
   "source": [
    "user_vectors[0]"
   ]
  },
  {
   "cell_type": "code",
   "execution_count": 94,
   "id": "3e775824-1bdb-457b-96de-f956d3a400f7",
   "metadata": {},
   "outputs": [
    {
     "data": {
      "text/plain": [
       "array([ 0.02475795,  0.04225776,  0.01778672, -0.00129112,  0.02626686,\n",
       "        0.01707962,  0.00141558,  0.01507009,  0.02129383,  0.0049681 ,\n",
       "        0.02561848,  0.01717587,  0.00922487,  0.02106348,  0.0101487 ,\n",
       "       -0.00430435,  0.00587506,  0.02874589,  0.19622204,  0.07287278,\n",
       "        0.14150304,  0.        ,  0.        ,  0.        ,  0.        ,\n",
       "        0.        ,  0.        ,  0.        ,  0.        ,  0.        ,\n",
       "        0.        ,  0.        ,  0.        ,  0.        ,  0.        ,\n",
       "        0.        ,  1.        ,  0.        ,  0.        ,  0.        ,\n",
       "        0.        ,  0.        ,  0.        ,  0.        ,  0.        ,\n",
       "        0.        ,  0.        ,  0.        ,  0.        ,  0.        ,\n",
       "        0.        ,  0.        ,  0.        ,  0.        ,  0.        ,\n",
       "        1.        ,  0.        ,  0.        ,  0.        ,  0.        ,\n",
       "        0.        ,  0.        ,  0.        ,  0.        ,  0.        ,\n",
       "        0.        ,  0.        ,  0.        ,  0.        ,  0.        ,\n",
       "        0.        ,  0.        ,  0.        ,  0.        ,  0.        ,\n",
       "        1.        ,  0.        ,  0.        ,  0.        ,  0.        ,\n",
       "        0.        ,  0.        ,  0.        ,  0.        ,  0.        ,\n",
       "        0.        ,  0.        ,  0.        ,  0.        ,  0.        ,\n",
       "        0.        ,  0.        ,  0.        ,  0.        ,  0.        ,\n",
       "        0.        ,  0.        ,  0.        ,  0.        ,  0.        ,\n",
       "        0.        ,  0.        ,  0.        ,  0.        ,  0.        ,\n",
       "        0.        ,  0.        ,  0.        ,  0.        ,  0.        ,\n",
       "        0.        ,  0.        ,  0.        ,  0.        ,  0.        ,\n",
       "        0.        ,  1.        ,  0.        ], dtype=float32)"
      ]
     },
     "execution_count": 94,
     "metadata": {},
     "output_type": "execute_result"
    }
   ],
   "source": [
    "item_vectors[0]"
   ]
  },
  {
   "cell_type": "markdown",
   "id": "6a0efff9-2024-447c-8e5b-3b98d4c806d4",
   "metadata": {},
   "source": [
    "# LightFM Factors"
   ]
  },
  {
   "cell_type": "code",
   "execution_count": 95,
   "id": "6b9d2f14-a891-4d04-bc2c-f8a7c15452b1",
   "metadata": {},
   "outputs": [
    {
     "data": {
      "text/plain": [
       "((1039839, 6), (15963, 6))"
      ]
     },
     "execution_count": 95,
     "metadata": {},
     "output_type": "execute_result"
    }
   ],
   "source": [
    "# Получаем эмбеддинги пользователей и товаров\n",
    "user_vectors, item_vectors = model_lightfm.get_vectors(dataset_full_features_hwc)\n",
    "user_vectors.shape, item_vectors.shape"
   ]
  },
  {
   "cell_type": "code",
   "execution_count": 96,
   "id": "5ac2459b-bef4-4066-a1b7-b8a241337049",
   "metadata": {},
   "outputs": [
    {
     "data": {
      "text/plain": [
       "array([-7.17255371e+02,  1.00000000e+00,  1.01864433e+00,  3.70193839e-01,\n",
       "        4.25112218e-01,  1.47008002e-01])"
      ]
     },
     "execution_count": 96,
     "metadata": {},
     "output_type": "execute_result"
    }
   ],
   "source": [
    "# user bias is the first value, constant `1`` is the second value (for item biases multiplication)\n",
    "user_vectors[0]"
   ]
  },
  {
   "cell_type": "code",
   "execution_count": 97,
   "id": "3f251229-5dfe-4280-88cf-ec4750ea1ccd",
   "metadata": {},
   "outputs": [
    {
     "data": {
      "text/plain": [
       "array([ 1.        ,  7.9791708 , 13.18872738,  9.20604992,  0.57859588,\n",
       "        7.91846037])"
      ]
     },
     "execution_count": 97,
     "metadata": {},
     "output_type": "execute_result"
    }
   ],
   "source": [
    "# constant `1`` is the first value (for user biases multiplication), item bias is the second values\n",
    "item_vectors[0]"
   ]
  },
  {
   "cell_type": "code",
   "execution_count": 98,
   "id": "e2c42b48-22d7-40e1-9cb8-b4fbd239e59e",
   "metadata": {},
   "outputs": [
    {
     "data": {
      "text/plain": [
       "((1039839, 4), (15963, 4))"
      ]
     },
     "execution_count": 98,
     "metadata": {},
     "output_type": "execute_result"
    }
   ],
   "source": [
    "user_vectors, item_vectors = model_lightfm.get_vectors(\n",
    "    dataset_full_features_hwc,\n",
    "    add_biases=False,\n",
    ")\n",
    "user_vectors.shape, item_vectors.shape"
   ]
  },
  {
   "cell_type": "code",
   "execution_count": 99,
   "id": "40972f9c-1f7a-4139-8664-8eb0e51319b0",
   "metadata": {},
   "outputs": [
    {
     "data": {
      "text/plain": [
       "array([1.0186443 , 0.37019384, 0.42511222, 0.147008  ], dtype=float32)"
      ]
     },
     "execution_count": 99,
     "metadata": {},
     "output_type": "execute_result"
    }
   ],
   "source": [
    "user_vectors[0]"
   ]
  },
  {
   "cell_type": "code",
   "execution_count": 100,
   "id": "073887b2-03d8-430e-b362-941bbaf8d509",
   "metadata": {},
   "outputs": [
    {
     "data": {
      "text/plain": [
       "array([13.188727 ,  9.20605  ,  0.5785959,  7.9184604], dtype=float32)"
      ]
     },
     "execution_count": 100,
     "metadata": {},
     "output_type": "execute_result"
    }
   ],
   "source": [
    "item_vectors[0]"
   ]
  },
  {
   "cell_type": "code",
   "execution_count": null,
   "id": "280e541e-3d59-470b-8fbf-3b0121c7a839",
   "metadata": {},
   "outputs": [],
   "source": []
  },
  {
   "cell_type": "code",
   "execution_count": null,
   "id": "1e8f323d-8617-4b23-bf93-3a0d0ba65eb5",
   "metadata": {},
   "outputs": [],
   "source": []
  },
  {
   "cell_type": "code",
   "execution_count": null,
   "id": "6b782396-a657-4bd8-b93c-f590ef4bb21d",
   "metadata": {},
   "outputs": [],
   "source": []
  },
  {
   "cell_type": "code",
   "execution_count": null,
   "id": "fbe7c8ea-09fb-4b65-b99a-0f155a1f220e",
   "metadata": {},
   "outputs": [],
   "source": []
  },
  {
   "cell_type": "markdown",
   "id": "984d16f9-0619-4820-841e-5f0441842c5c",
   "metadata": {},
   "source": [
    "## <span style=\"color:blue\">**Домашнее задание. (5 баллов)**</span>\n",
    "**Задача: собрать итоговую модель/пайплайн, который одновременно даст**\n",
    "\n",
    "<span style=\"color:blue\">3 балла: **Precision@10 больше 0.03 и MeanInvUserFreq@10 (\"novelty\") больше 6</span>.**\n",
    "\n",
    "<span style=\"color:blue\">4 балла: **Precision@10 больше 0.032 и MeanInvUserFreq@10 (\"novelty\") больше 6.5</span>.**\n",
    "\n",
    "<span style=\"color:blue\">5 баллов: **Precision@10 больше 0.033 и MeanInvUserFreq@10 (\"novelty\") больше 6.9</span>.**\n",
    "\n",
    "**Доп баллы 2: при пробитии порогов на 5 баллов максимальный novelty при precision от 0.33**\n",
    "\n",
    "Список разрешённых моделей: EASE, ItemKNN из implicit, Popular, PopularInCategory, Transitions, PureSDV, BPR-MF, LogisticMF, iALS (+ фичи), LightFM (+ фичи)\n",
    "\n",
    "Что также можно использовать: Fallback, тюнинг гипер-параметров, поиграться с весами интеракций в датасете / на инференсе, личные придуманные эвристики.\n",
    "Можно также взять собственную модель с эвристиками, математикой \n",
    "\n",
    "Что нельзя использовать: ML и RecSys модели вне разрашённого списка. Чистая математика разрешена\n",
    "\n",
    "Вывести в ноутбуке топ-3 модели по целевым метрикам.\n",
    "\n",
    "PS. Тестируем на последней неделе\n"
   ]
  },
  {
   "cell_type": "code",
   "execution_count": 3,
   "id": "ca1ebc07-d257-4acf-8c52-ab7ad55ea1e7",
   "metadata": {},
   "outputs": [],
   "source": [
    "# Ваша схема валидации\n",
    "\n",
    "# Загружаем данные\n",
    "interactions = pd.read_csv(\n",
    "    \"./data_original/interactions.csv\",\n",
    "    parse_dates=[\n",
    "        \"last_watch_dt\",\n",
    "    ],\n",
    ")\n",
    "users = pd.read_csv(\"./data_original/users.csv\")\n",
    "items = pd.read_csv(\"./data_original/items.csv\")"
   ]
  },
  {
   "cell_type": "code",
   "execution_count": 4,
   "id": "de63ebf3",
   "metadata": {},
   "outputs": [],
   "source": [
    "# Переименовываем колонки\n",
    "interactions = interactions.rename(\n",
    "    columns={\n",
    "        \"total_dur\": Columns.Weight,\n",
    "        \"last_watch_dt\": Columns.Datetime,\n",
    "    }\n",
    ")"
   ]
  },
  {
   "cell_type": "code",
   "execution_count": 211,
   "id": "7279200c",
   "metadata": {},
   "outputs": [
    {
     "data": {
      "text/html": [
       "<div>\n",
       "<style scoped>\n",
       "    .dataframe tbody tr th:only-of-type {\n",
       "        vertical-align: middle;\n",
       "    }\n",
       "\n",
       "    .dataframe tbody tr th {\n",
       "        vertical-align: top;\n",
       "    }\n",
       "\n",
       "    .dataframe thead th {\n",
       "        text-align: right;\n",
       "    }\n",
       "</style>\n",
       "<table border=\"1\" class=\"dataframe\">\n",
       "  <thead>\n",
       "    <tr style=\"text-align: right;\">\n",
       "      <th></th>\n",
       "      <th>user_id</th>\n",
       "      <th>item_id</th>\n",
       "      <th>datetime</th>\n",
       "      <th>weight</th>\n",
       "      <th>watched_pct</th>\n",
       "    </tr>\n",
       "  </thead>\n",
       "  <tbody>\n",
       "    <tr>\n",
       "      <th>0</th>\n",
       "      <td>176549</td>\n",
       "      <td>9506</td>\n",
       "      <td>2021-05-11</td>\n",
       "      <td>4250</td>\n",
       "      <td>72.0</td>\n",
       "    </tr>\n",
       "    <tr>\n",
       "      <th>1</th>\n",
       "      <td>699317</td>\n",
       "      <td>1659</td>\n",
       "      <td>2021-05-29</td>\n",
       "      <td>8317</td>\n",
       "      <td>100.0</td>\n",
       "    </tr>\n",
       "    <tr>\n",
       "      <th>2</th>\n",
       "      <td>656683</td>\n",
       "      <td>7107</td>\n",
       "      <td>2021-05-09</td>\n",
       "      <td>10</td>\n",
       "      <td>0.0</td>\n",
       "    </tr>\n",
       "    <tr>\n",
       "      <th>3</th>\n",
       "      <td>864613</td>\n",
       "      <td>7638</td>\n",
       "      <td>2021-07-05</td>\n",
       "      <td>14483</td>\n",
       "      <td>100.0</td>\n",
       "    </tr>\n",
       "    <tr>\n",
       "      <th>4</th>\n",
       "      <td>964868</td>\n",
       "      <td>9506</td>\n",
       "      <td>2021-04-30</td>\n",
       "      <td>6725</td>\n",
       "      <td>100.0</td>\n",
       "    </tr>\n",
       "    <tr>\n",
       "      <th>...</th>\n",
       "      <td>...</td>\n",
       "      <td>...</td>\n",
       "      <td>...</td>\n",
       "      <td>...</td>\n",
       "      <td>...</td>\n",
       "    </tr>\n",
       "    <tr>\n",
       "      <th>5476246</th>\n",
       "      <td>648596</td>\n",
       "      <td>12225</td>\n",
       "      <td>2021-08-13</td>\n",
       "      <td>76</td>\n",
       "      <td>0.0</td>\n",
       "    </tr>\n",
       "    <tr>\n",
       "      <th>5476247</th>\n",
       "      <td>546862</td>\n",
       "      <td>9673</td>\n",
       "      <td>2021-04-13</td>\n",
       "      <td>2308</td>\n",
       "      <td>49.0</td>\n",
       "    </tr>\n",
       "    <tr>\n",
       "      <th>5476248</th>\n",
       "      <td>697262</td>\n",
       "      <td>15297</td>\n",
       "      <td>2021-08-20</td>\n",
       "      <td>18307</td>\n",
       "      <td>63.0</td>\n",
       "    </tr>\n",
       "    <tr>\n",
       "      <th>5476249</th>\n",
       "      <td>384202</td>\n",
       "      <td>16197</td>\n",
       "      <td>2021-04-19</td>\n",
       "      <td>6203</td>\n",
       "      <td>100.0</td>\n",
       "    </tr>\n",
       "    <tr>\n",
       "      <th>5476250</th>\n",
       "      <td>319709</td>\n",
       "      <td>4436</td>\n",
       "      <td>2021-08-15</td>\n",
       "      <td>3921</td>\n",
       "      <td>45.0</td>\n",
       "    </tr>\n",
       "  </tbody>\n",
       "</table>\n",
       "<p>5476251 rows × 5 columns</p>\n",
       "</div>"
      ],
      "text/plain": [
       "         user_id  item_id   datetime  weight  watched_pct\n",
       "0         176549     9506 2021-05-11    4250         72.0\n",
       "1         699317     1659 2021-05-29    8317        100.0\n",
       "2         656683     7107 2021-05-09      10          0.0\n",
       "3         864613     7638 2021-07-05   14483        100.0\n",
       "4         964868     9506 2021-04-30    6725        100.0\n",
       "...          ...      ...        ...     ...          ...\n",
       "5476246   648596    12225 2021-08-13      76          0.0\n",
       "5476247   546862     9673 2021-04-13    2308         49.0\n",
       "5476248   697262    15297 2021-08-20   18307         63.0\n",
       "5476249   384202    16197 2021-04-19    6203        100.0\n",
       "5476250   319709     4436 2021-08-15    3921         45.0\n",
       "\n",
       "[5476251 rows x 5 columns]"
      ]
     },
     "execution_count": 211,
     "metadata": {},
     "output_type": "execute_result"
    }
   ],
   "source": [
    "interactions"
   ]
  },
  {
   "cell_type": "code",
   "execution_count": 5,
   "id": "b5d248d7",
   "metadata": {},
   "outputs": [],
   "source": [
    "users = users[users[\"user_id\"].isin(interactions[\"user_id\"])].copy().reset_index(drop=True)"
   ]
  },
  {
   "cell_type": "code",
   "execution_count": 6,
   "id": "dc306847",
   "metadata": {},
   "outputs": [],
   "source": [
    "from sklearn.preprocessing import LabelEncoder, OneHotEncoder"
   ]
  },
  {
   "cell_type": "code",
   "execution_count": 9,
   "id": "c49dd34e",
   "metadata": {},
   "outputs": [
    {
     "data": {
      "text/html": [
       "<div>\n",
       "<style scoped>\n",
       "    .dataframe tbody tr th:only-of-type {\n",
       "        vertical-align: middle;\n",
       "    }\n",
       "\n",
       "    .dataframe tbody tr th {\n",
       "        vertical-align: top;\n",
       "    }\n",
       "\n",
       "    .dataframe thead th {\n",
       "        text-align: right;\n",
       "    }\n",
       "</style>\n",
       "<table border=\"1\" class=\"dataframe\">\n",
       "  <thead>\n",
       "    <tr style=\"text-align: right;\">\n",
       "      <th></th>\n",
       "      <th>user_id</th>\n",
       "      <th>age_age_25_34</th>\n",
       "      <th>age_age_35_44</th>\n",
       "      <th>age_age_45_54</th>\n",
       "      <th>age_age_55_64</th>\n",
       "      <th>age_age_65_inf</th>\n",
       "      <th>age_nan</th>\n",
       "      <th>income_income_150_inf</th>\n",
       "      <th>income_income_20_40</th>\n",
       "      <th>income_income_40_60</th>\n",
       "      <th>income_income_60_90</th>\n",
       "      <th>income_income_90_150</th>\n",
       "      <th>income_nan</th>\n",
       "      <th>sex_М</th>\n",
       "      <th>sex_nan</th>\n",
       "      <th>kids_flg_1</th>\n",
       "    </tr>\n",
       "  </thead>\n",
       "  <tbody>\n",
       "    <tr>\n",
       "      <th>0</th>\n",
       "      <td>973171</td>\n",
       "      <td>1.0</td>\n",
       "      <td>0.0</td>\n",
       "      <td>0.0</td>\n",
       "      <td>0.0</td>\n",
       "      <td>0.0</td>\n",
       "      <td>0.0</td>\n",
       "      <td>0.0</td>\n",
       "      <td>0.0</td>\n",
       "      <td>0.0</td>\n",
       "      <td>1.0</td>\n",
       "      <td>0.0</td>\n",
       "      <td>0.0</td>\n",
       "      <td>1.0</td>\n",
       "      <td>0.0</td>\n",
       "      <td>1.0</td>\n",
       "    </tr>\n",
       "    <tr>\n",
       "      <th>1</th>\n",
       "      <td>962099</td>\n",
       "      <td>0.0</td>\n",
       "      <td>0.0</td>\n",
       "      <td>0.0</td>\n",
       "      <td>0.0</td>\n",
       "      <td>0.0</td>\n",
       "      <td>0.0</td>\n",
       "      <td>0.0</td>\n",
       "      <td>1.0</td>\n",
       "      <td>0.0</td>\n",
       "      <td>0.0</td>\n",
       "      <td>0.0</td>\n",
       "      <td>0.0</td>\n",
       "      <td>1.0</td>\n",
       "      <td>0.0</td>\n",
       "      <td>0.0</td>\n",
       "    </tr>\n",
       "    <tr>\n",
       "      <th>2</th>\n",
       "      <td>721985</td>\n",
       "      <td>0.0</td>\n",
       "      <td>0.0</td>\n",
       "      <td>1.0</td>\n",
       "      <td>0.0</td>\n",
       "      <td>0.0</td>\n",
       "      <td>0.0</td>\n",
       "      <td>0.0</td>\n",
       "      <td>1.0</td>\n",
       "      <td>0.0</td>\n",
       "      <td>0.0</td>\n",
       "      <td>0.0</td>\n",
       "      <td>0.0</td>\n",
       "      <td>0.0</td>\n",
       "      <td>0.0</td>\n",
       "      <td>0.0</td>\n",
       "    </tr>\n",
       "    <tr>\n",
       "      <th>3</th>\n",
       "      <td>704055</td>\n",
       "      <td>0.0</td>\n",
       "      <td>1.0</td>\n",
       "      <td>0.0</td>\n",
       "      <td>0.0</td>\n",
       "      <td>0.0</td>\n",
       "      <td>0.0</td>\n",
       "      <td>0.0</td>\n",
       "      <td>0.0</td>\n",
       "      <td>0.0</td>\n",
       "      <td>1.0</td>\n",
       "      <td>0.0</td>\n",
       "      <td>0.0</td>\n",
       "      <td>0.0</td>\n",
       "      <td>0.0</td>\n",
       "      <td>0.0</td>\n",
       "    </tr>\n",
       "    <tr>\n",
       "      <th>4</th>\n",
       "      <td>1037719</td>\n",
       "      <td>0.0</td>\n",
       "      <td>0.0</td>\n",
       "      <td>1.0</td>\n",
       "      <td>0.0</td>\n",
       "      <td>0.0</td>\n",
       "      <td>0.0</td>\n",
       "      <td>0.0</td>\n",
       "      <td>0.0</td>\n",
       "      <td>0.0</td>\n",
       "      <td>1.0</td>\n",
       "      <td>0.0</td>\n",
       "      <td>0.0</td>\n",
       "      <td>1.0</td>\n",
       "      <td>0.0</td>\n",
       "      <td>0.0</td>\n",
       "    </tr>\n",
       "    <tr>\n",
       "      <th>...</th>\n",
       "      <td>...</td>\n",
       "      <td>...</td>\n",
       "      <td>...</td>\n",
       "      <td>...</td>\n",
       "      <td>...</td>\n",
       "      <td>...</td>\n",
       "      <td>...</td>\n",
       "      <td>...</td>\n",
       "      <td>...</td>\n",
       "      <td>...</td>\n",
       "      <td>...</td>\n",
       "      <td>...</td>\n",
       "      <td>...</td>\n",
       "      <td>...</td>\n",
       "      <td>...</td>\n",
       "      <td>...</td>\n",
       "    </tr>\n",
       "    <tr>\n",
       "      <th>744283</th>\n",
       "      <td>191349</td>\n",
       "      <td>0.0</td>\n",
       "      <td>0.0</td>\n",
       "      <td>1.0</td>\n",
       "      <td>0.0</td>\n",
       "      <td>0.0</td>\n",
       "      <td>0.0</td>\n",
       "      <td>0.0</td>\n",
       "      <td>0.0</td>\n",
       "      <td>1.0</td>\n",
       "      <td>0.0</td>\n",
       "      <td>0.0</td>\n",
       "      <td>0.0</td>\n",
       "      <td>1.0</td>\n",
       "      <td>0.0</td>\n",
       "      <td>1.0</td>\n",
       "    </tr>\n",
       "    <tr>\n",
       "      <th>744284</th>\n",
       "      <td>393868</td>\n",
       "      <td>1.0</td>\n",
       "      <td>0.0</td>\n",
       "      <td>0.0</td>\n",
       "      <td>0.0</td>\n",
       "      <td>0.0</td>\n",
       "      <td>0.0</td>\n",
       "      <td>0.0</td>\n",
       "      <td>1.0</td>\n",
       "      <td>0.0</td>\n",
       "      <td>0.0</td>\n",
       "      <td>0.0</td>\n",
       "      <td>0.0</td>\n",
       "      <td>1.0</td>\n",
       "      <td>0.0</td>\n",
       "      <td>0.0</td>\n",
       "    </tr>\n",
       "    <tr>\n",
       "      <th>744285</th>\n",
       "      <td>339025</td>\n",
       "      <td>0.0</td>\n",
       "      <td>0.0</td>\n",
       "      <td>0.0</td>\n",
       "      <td>0.0</td>\n",
       "      <td>1.0</td>\n",
       "      <td>0.0</td>\n",
       "      <td>0.0</td>\n",
       "      <td>0.0</td>\n",
       "      <td>0.0</td>\n",
       "      <td>0.0</td>\n",
       "      <td>0.0</td>\n",
       "      <td>0.0</td>\n",
       "      <td>0.0</td>\n",
       "      <td>0.0</td>\n",
       "      <td>0.0</td>\n",
       "    </tr>\n",
       "    <tr>\n",
       "      <th>744286</th>\n",
       "      <td>251008</td>\n",
       "      <td>0.0</td>\n",
       "      <td>0.0</td>\n",
       "      <td>0.0</td>\n",
       "      <td>0.0</td>\n",
       "      <td>0.0</td>\n",
       "      <td>1.0</td>\n",
       "      <td>0.0</td>\n",
       "      <td>0.0</td>\n",
       "      <td>0.0</td>\n",
       "      <td>0.0</td>\n",
       "      <td>0.0</td>\n",
       "      <td>1.0</td>\n",
       "      <td>0.0</td>\n",
       "      <td>1.0</td>\n",
       "      <td>0.0</td>\n",
       "    </tr>\n",
       "    <tr>\n",
       "      <th>744287</th>\n",
       "      <td>590706</td>\n",
       "      <td>0.0</td>\n",
       "      <td>0.0</td>\n",
       "      <td>0.0</td>\n",
       "      <td>0.0</td>\n",
       "      <td>0.0</td>\n",
       "      <td>1.0</td>\n",
       "      <td>0.0</td>\n",
       "      <td>0.0</td>\n",
       "      <td>0.0</td>\n",
       "      <td>0.0</td>\n",
       "      <td>0.0</td>\n",
       "      <td>1.0</td>\n",
       "      <td>0.0</td>\n",
       "      <td>0.0</td>\n",
       "      <td>0.0</td>\n",
       "    </tr>\n",
       "  </tbody>\n",
       "</table>\n",
       "<p>744288 rows × 16 columns</p>\n",
       "</div>"
      ],
      "text/plain": [
       "        user_id  age_age_25_34  age_age_35_44  age_age_45_54  age_age_55_64  \\\n",
       "0        973171            1.0            0.0            0.0            0.0   \n",
       "1        962099            0.0            0.0            0.0            0.0   \n",
       "2        721985            0.0            0.0            1.0            0.0   \n",
       "3        704055            0.0            1.0            0.0            0.0   \n",
       "4       1037719            0.0            0.0            1.0            0.0   \n",
       "...         ...            ...            ...            ...            ...   \n",
       "744283   191349            0.0            0.0            1.0            0.0   \n",
       "744284   393868            1.0            0.0            0.0            0.0   \n",
       "744285   339025            0.0            0.0            0.0            0.0   \n",
       "744286   251008            0.0            0.0            0.0            0.0   \n",
       "744287   590706            0.0            0.0            0.0            0.0   \n",
       "\n",
       "        age_age_65_inf  age_nan  income_income_150_inf  income_income_20_40  \\\n",
       "0                  0.0      0.0                    0.0                  0.0   \n",
       "1                  0.0      0.0                    0.0                  1.0   \n",
       "2                  0.0      0.0                    0.0                  1.0   \n",
       "3                  0.0      0.0                    0.0                  0.0   \n",
       "4                  0.0      0.0                    0.0                  0.0   \n",
       "...                ...      ...                    ...                  ...   \n",
       "744283             0.0      0.0                    0.0                  0.0   \n",
       "744284             0.0      0.0                    0.0                  1.0   \n",
       "744285             1.0      0.0                    0.0                  0.0   \n",
       "744286             0.0      1.0                    0.0                  0.0   \n",
       "744287             0.0      1.0                    0.0                  0.0   \n",
       "\n",
       "        income_income_40_60  income_income_60_90  income_income_90_150  \\\n",
       "0                       0.0                  1.0                   0.0   \n",
       "1                       0.0                  0.0                   0.0   \n",
       "2                       0.0                  0.0                   0.0   \n",
       "3                       0.0                  1.0                   0.0   \n",
       "4                       0.0                  1.0                   0.0   \n",
       "...                     ...                  ...                   ...   \n",
       "744283                  1.0                  0.0                   0.0   \n",
       "744284                  0.0                  0.0                   0.0   \n",
       "744285                  0.0                  0.0                   0.0   \n",
       "744286                  0.0                  0.0                   0.0   \n",
       "744287                  0.0                  0.0                   0.0   \n",
       "\n",
       "        income_nan  sex_М  sex_nan  kids_flg_1  \n",
       "0              0.0    1.0      0.0         1.0  \n",
       "1              0.0    1.0      0.0         0.0  \n",
       "2              0.0    0.0      0.0         0.0  \n",
       "3              0.0    0.0      0.0         0.0  \n",
       "4              0.0    1.0      0.0         0.0  \n",
       "...            ...    ...      ...         ...  \n",
       "744283         0.0    1.0      0.0         1.0  \n",
       "744284         0.0    1.0      0.0         0.0  \n",
       "744285         0.0    0.0      0.0         0.0  \n",
       "744286         1.0    0.0      1.0         0.0  \n",
       "744287         1.0    0.0      0.0         0.0  \n",
       "\n",
       "[744288 rows x 16 columns]"
      ]
     },
     "execution_count": 9,
     "metadata": {},
     "output_type": "execute_result"
    }
   ],
   "source": [
    "oh_enc = OneHotEncoder(\n",
    "    drop=\"first\",\n",
    ")\n",
    "codes = oh_enc.fit_transform(users.drop(columns=[\"user_id\"])).toarray()\n",
    "enc_feature_names = oh_enc.get_feature_names_out()\n",
    "\n",
    "users_encoded = pd.concat(\n",
    "    [\n",
    "        users[\"user_id\"],\n",
    "        pd.DataFrame(codes, columns=enc_feature_names),\n",
    "    ],\n",
    "    axis=1,\n",
    ")\n",
    "users_encoded"
   ]
  },
  {
   "cell_type": "code",
   "execution_count": 258,
   "id": "81d0a951",
   "metadata": {},
   "outputs": [
    {
     "data": {
      "text/plain": [
       "array(['age_age_25_34', 'age_age_35_44', 'age_age_45_54', 'age_age_55_64',\n",
       "       'age_age_65_inf', 'age_nan', 'income_income_150_inf',\n",
       "       'income_income_20_40', 'income_income_40_60',\n",
       "       'income_income_60_90', 'income_income_90_150', 'income_nan',\n",
       "       'sex_М', 'sex_nan', 'kids_flg_1'], dtype=object)"
      ]
     },
     "execution_count": 258,
     "metadata": {},
     "output_type": "execute_result"
    }
   ],
   "source": [
    "enc_feature_names"
   ]
  },
  {
   "cell_type": "code",
   "execution_count": 10,
   "id": "94ec51d9",
   "metadata": {},
   "outputs": [],
   "source": [
    "user_features_frames = []\n",
    "for feature in enc_feature_names:\n",
    "    feature_frame = users_encoded.reindex(columns=[\"user_id\", feature])\n",
    "    feature_frame.columns = [\"id\", \"value\"]\n",
    "    feature_frame[\"feature\"] = feature\n",
    "    user_features_frames.append(feature_frame)\n",
    "user_features = pd.concat(user_features_frames)"
   ]
  },
  {
   "cell_type": "code",
   "execution_count": 260,
   "id": "79deac56",
   "metadata": {},
   "outputs": [
    {
     "data": {
      "text/html": [
       "<div>\n",
       "<style scoped>\n",
       "    .dataframe tbody tr th:only-of-type {\n",
       "        vertical-align: middle;\n",
       "    }\n",
       "\n",
       "    .dataframe tbody tr th {\n",
       "        vertical-align: top;\n",
       "    }\n",
       "\n",
       "    .dataframe thead th {\n",
       "        text-align: right;\n",
       "    }\n",
       "</style>\n",
       "<table border=\"1\" class=\"dataframe\">\n",
       "  <thead>\n",
       "    <tr style=\"text-align: right;\">\n",
       "      <th></th>\n",
       "      <th>id</th>\n",
       "      <th>value</th>\n",
       "      <th>feature</th>\n",
       "    </tr>\n",
       "  </thead>\n",
       "  <tbody>\n",
       "    <tr>\n",
       "      <th>0</th>\n",
       "      <td>973171</td>\n",
       "      <td>1.0</td>\n",
       "      <td>age_age_25_34</td>\n",
       "    </tr>\n",
       "    <tr>\n",
       "      <th>1</th>\n",
       "      <td>962099</td>\n",
       "      <td>0.0</td>\n",
       "      <td>age_age_25_34</td>\n",
       "    </tr>\n",
       "    <tr>\n",
       "      <th>2</th>\n",
       "      <td>721985</td>\n",
       "      <td>0.0</td>\n",
       "      <td>age_age_25_34</td>\n",
       "    </tr>\n",
       "    <tr>\n",
       "      <th>3</th>\n",
       "      <td>704055</td>\n",
       "      <td>0.0</td>\n",
       "      <td>age_age_25_34</td>\n",
       "    </tr>\n",
       "    <tr>\n",
       "      <th>4</th>\n",
       "      <td>1037719</td>\n",
       "      <td>0.0</td>\n",
       "      <td>age_age_25_34</td>\n",
       "    </tr>\n",
       "    <tr>\n",
       "      <th>...</th>\n",
       "      <td>...</td>\n",
       "      <td>...</td>\n",
       "      <td>...</td>\n",
       "    </tr>\n",
       "    <tr>\n",
       "      <th>744283</th>\n",
       "      <td>191349</td>\n",
       "      <td>1.0</td>\n",
       "      <td>kids_flg_1</td>\n",
       "    </tr>\n",
       "    <tr>\n",
       "      <th>744284</th>\n",
       "      <td>393868</td>\n",
       "      <td>0.0</td>\n",
       "      <td>kids_flg_1</td>\n",
       "    </tr>\n",
       "    <tr>\n",
       "      <th>744285</th>\n",
       "      <td>339025</td>\n",
       "      <td>0.0</td>\n",
       "      <td>kids_flg_1</td>\n",
       "    </tr>\n",
       "    <tr>\n",
       "      <th>744286</th>\n",
       "      <td>251008</td>\n",
       "      <td>0.0</td>\n",
       "      <td>kids_flg_1</td>\n",
       "    </tr>\n",
       "    <tr>\n",
       "      <th>744287</th>\n",
       "      <td>590706</td>\n",
       "      <td>0.0</td>\n",
       "      <td>kids_flg_1</td>\n",
       "    </tr>\n",
       "  </tbody>\n",
       "</table>\n",
       "<p>11164320 rows × 3 columns</p>\n",
       "</div>"
      ],
      "text/plain": [
       "             id  value        feature\n",
       "0        973171    1.0  age_age_25_34\n",
       "1        962099    0.0  age_age_25_34\n",
       "2        721985    0.0  age_age_25_34\n",
       "3        704055    0.0  age_age_25_34\n",
       "4       1037719    0.0  age_age_25_34\n",
       "...         ...    ...            ...\n",
       "744283   191349    1.0     kids_flg_1\n",
       "744284   393868    0.0     kids_flg_1\n",
       "744285   339025    0.0     kids_flg_1\n",
       "744286   251008    0.0     kids_flg_1\n",
       "744287   590706    0.0     kids_flg_1\n",
       "\n",
       "[11164320 rows x 3 columns]"
      ]
     },
     "execution_count": 260,
     "metadata": {},
     "output_type": "execute_result"
    }
   ],
   "source": [
    "user_features"
   ]
  },
  {
   "cell_type": "code",
   "execution_count": 220,
   "id": "46795153",
   "metadata": {},
   "outputs": [],
   "source": [
    "items = items[items[\"item_id\"].isin(interactions[\"item_id\"])].copy()"
   ]
  },
  {
   "cell_type": "code",
   "execution_count": 228,
   "id": "4ada42f8",
   "metadata": {},
   "outputs": [
    {
     "data": {
      "text/html": [
       "<div>\n",
       "<style scoped>\n",
       "    .dataframe tbody tr th:only-of-type {\n",
       "        vertical-align: middle;\n",
       "    }\n",
       "\n",
       "    .dataframe tbody tr th {\n",
       "        vertical-align: top;\n",
       "    }\n",
       "\n",
       "    .dataframe thead th {\n",
       "        text-align: right;\n",
       "    }\n",
       "</style>\n",
       "<table border=\"1\" class=\"dataframe\">\n",
       "  <thead>\n",
       "    <tr style=\"text-align: right;\">\n",
       "      <th></th>\n",
       "      <th>item_id</th>\n",
       "      <th>content_type</th>\n",
       "      <th>title</th>\n",
       "      <th>title_orig</th>\n",
       "      <th>release_year</th>\n",
       "      <th>genres</th>\n",
       "      <th>countries</th>\n",
       "      <th>for_kids</th>\n",
       "      <th>age_rating</th>\n",
       "      <th>studios</th>\n",
       "      <th>directors</th>\n",
       "      <th>actors</th>\n",
       "      <th>description</th>\n",
       "      <th>keywords</th>\n",
       "    </tr>\n",
       "  </thead>\n",
       "  <tbody>\n",
       "    <tr>\n",
       "      <th>0</th>\n",
       "      <td>10711</td>\n",
       "      <td>film</td>\n",
       "      <td>Поговори с ней</td>\n",
       "      <td>Hable con ella</td>\n",
       "      <td>2002.0</td>\n",
       "      <td>драмы, зарубежные, детективы, мелодрамы</td>\n",
       "      <td>Испания</td>\n",
       "      <td>NaN</td>\n",
       "      <td>16.0</td>\n",
       "      <td>NaN</td>\n",
       "      <td>Педро Альмодовар</td>\n",
       "      <td>Адольфо Фернандес, Ана Фернандес, Дарио Гранди...</td>\n",
       "      <td>Мелодрама легендарного Педро Альмодовара «Пого...</td>\n",
       "      <td>Поговори, ней, 2002, Испания, друзья, любовь, ...</td>\n",
       "    </tr>\n",
       "    <tr>\n",
       "      <th>1</th>\n",
       "      <td>2508</td>\n",
       "      <td>film</td>\n",
       "      <td>Голые перцы</td>\n",
       "      <td>Search Party</td>\n",
       "      <td>2014.0</td>\n",
       "      <td>зарубежные, приключения, комедии</td>\n",
       "      <td>США</td>\n",
       "      <td>NaN</td>\n",
       "      <td>16.0</td>\n",
       "      <td>NaN</td>\n",
       "      <td>Скот Армстронг</td>\n",
       "      <td>Адам Палли, Брайан Хаски, Дж.Б. Смув, Джейсон ...</td>\n",
       "      <td>Уморительная современная комедия на популярную...</td>\n",
       "      <td>Голые, перцы, 2014, США, друзья, свадьбы, прео...</td>\n",
       "    </tr>\n",
       "  </tbody>\n",
       "</table>\n",
       "</div>"
      ],
      "text/plain": [
       "   item_id content_type           title      title_orig  release_year  \\\n",
       "0    10711         film  Поговори с ней  Hable con ella        2002.0   \n",
       "1     2508         film     Голые перцы    Search Party        2014.0   \n",
       "\n",
       "                                    genres countries  for_kids  age_rating  \\\n",
       "0  драмы, зарубежные, детективы, мелодрамы   Испания       NaN        16.0   \n",
       "1         зарубежные, приключения, комедии       США       NaN        16.0   \n",
       "\n",
       "  studios         directors  \\\n",
       "0     NaN  Педро Альмодовар   \n",
       "1     NaN    Скот Армстронг   \n",
       "\n",
       "                                              actors  \\\n",
       "0  Адольфо Фернандес, Ана Фернандес, Дарио Гранди...   \n",
       "1  Адам Палли, Брайан Хаски, Дж.Б. Смув, Джейсон ...   \n",
       "\n",
       "                                         description  \\\n",
       "0  Мелодрама легендарного Педро Альмодовара «Пого...   \n",
       "1  Уморительная современная комедия на популярную...   \n",
       "\n",
       "                                            keywords  \n",
       "0  Поговори, ней, 2002, Испания, друзья, любовь, ...  \n",
       "1  Голые, перцы, 2014, США, друзья, свадьбы, прео...  "
      ]
     },
     "execution_count": 228,
     "metadata": {},
     "output_type": "execute_result"
    }
   ],
   "source": [
    "items.head(2)"
   ]
  },
  {
   "cell_type": "code",
   "execution_count": null,
   "id": "cff1a9ab",
   "metadata": {},
   "outputs": [],
   "source": [
    "item_features_frames = []\n",
    "for feature in [\"age\", \"income\", \"sex\", \"kids_flg\"]:\n",
    "    feature_frame = users.reindex(columns=[\"user_id\", feature])\n",
    "    feature_frame.columns = [\"id\", \"value\"]\n",
    "    feature_frame[\"feature\"] = feature\n",
    "    item_features_frames.append(feature_frame)\n",
    "item_features = pd.concat(item_features_frames)"
   ]
  },
  {
   "cell_type": "code",
   "execution_count": 11,
   "id": "ce8c1218",
   "metadata": {},
   "outputs": [],
   "source": [
    "# Создаем датасет\n",
    "# Измените датасет при желании\n",
    "binary_interactions = interactions.copy()\n",
    "binary_interactions[Columns.Weight] = 1\n",
    "current_dataset = Dataset.construct(\n",
    "    interactions_df=binary_interactions,\n",
    "    user_features_df=user_features,\n",
    "    item_features_df=None,\n",
    ")"
   ]
  },
  {
   "cell_type": "code",
   "execution_count": 14,
   "id": "19c369a2",
   "metadata": {},
   "outputs": [
    {
     "data": {
      "text/plain": [
       "Dataset(user_id_map=IdMap(external_ids=array([176549, 699317, 656683, ..., 805174, 648596, 697262])), item_id_map=IdMap(external_ids=array([ 9506,  1659,  7107, ..., 10064, 13019, 10542])), interactions=Interactions(df=         user_id  item_id  weight   datetime\n",
       "0              0        0     1.0 2021-05-11\n",
       "1              1        1     1.0 2021-05-29\n",
       "2              2        2     1.0 2021-05-09\n",
       "3              3        3     1.0 2021-07-05\n",
       "4              4        0     1.0 2021-04-30\n",
       "...          ...      ...     ...        ...\n",
       "5476246   962177      208     1.0 2021-08-13\n",
       "5476247   224686     2690     1.0 2021-04-13\n",
       "5476248   962178       21     1.0 2021-08-20\n",
       "5476249     7934     1725     1.0 2021-04-19\n",
       "5476250   631989      157     1.0 2021-08-15\n",
       "\n",
       "[5476251 rows x 4 columns]), user_features=SparseFeatures(values=<962179x15 sparse matrix of type '<class 'numpy.float32'>'\n",
       "\twith 11164320 stored elements in Compressed Sparse Row format>, names=(('age_age_25_34', '__is_direct_feature'), ('age_age_35_44', '__is_direct_feature'), ('age_age_45_54', '__is_direct_feature'), ('age_age_55_64', '__is_direct_feature'), ('age_age_65_inf', '__is_direct_feature'), ('age_nan', '__is_direct_feature'), ('income_income_150_inf', '__is_direct_feature'), ('income_income_20_40', '__is_direct_feature'), ('income_income_40_60', '__is_direct_feature'), ('income_income_60_90', '__is_direct_feature'), ('income_income_90_150', '__is_direct_feature'), ('income_nan', '__is_direct_feature'), ('sex_М', '__is_direct_feature'), ('sex_nan', '__is_direct_feature'), ('kids_flg_1', '__is_direct_feature'))), item_features=None)"
      ]
     },
     "execution_count": 14,
     "metadata": {},
     "output_type": "execute_result"
    }
   ],
   "source": [
    "current_dataset"
   ]
  },
  {
   "cell_type": "code",
   "execution_count": 15,
   "id": "73728627",
   "metadata": {},
   "outputs": [],
   "source": [
    "from rectools.models import implicit_knn"
   ]
  },
  {
   "cell_type": "code",
   "execution_count": 16,
   "id": "7e510ed5",
   "metadata": {},
   "outputs": [],
   "source": [
    "from implicit import nearest_neighbours"
   ]
  },
  {
   "cell_type": "code",
   "execution_count": 17,
   "metadata": {},
   "outputs": [],
   "source": [
    "# knn_impl_cos10 = implicit_knn.ImplicitItemKNNWrapperModel(model=nearest_neighbours.CosineRecommender(K=7))\n",
    "knn_impl_tfidf6 = implicit_knn.ImplicitItemKNNWrapperModel(model=nearest_neighbours.TFIDFRecommender(K=6))"
   ]
  },
  {
   "cell_type": "code",
   "execution_count": 18,
   "id": "07970737",
   "metadata": {},
   "outputs": [],
   "source": [
    "from rectools.model_selection import TimeRangeSplitter, cross_validate\n",
    "from rectools.metrics import AvgRecPopularity"
   ]
  },
  {
   "cell_type": "code",
   "execution_count": 24,
   "id": "ab70b10b",
   "metadata": {},
   "outputs": [],
   "source": [
    "model_lightfm = LightFMWrapperModel(\n",
    "    LightFM(\n",
    "        no_components=N_FACTORS,\n",
    "        loss=\"warp\",\n",
    "        random_state=RANDOM_STATE,\n",
    "    ),\n",
    "    epochs=10,\n",
    "    num_threads=NUM_THREADS,\n",
    ")\n",
    "\n",
    "# model_lightfm.fit(dataset_full_features_hwc)"
   ]
  },
  {
   "cell_type": "code",
   "execution_count": 25,
   "id": "0ce8a485",
   "metadata": {},
   "outputs": [],
   "source": [
    "test_models = {\n",
    "    \"lightfm\": model_lightfm,\n",
    "    # \"implicit_knn_cos10\": knn_impl_cos10,\n",
    "    # \"implicit_knn_TFIDF6\": knn_impl_tfidf6,\n",
    "}  # Добавьте сюда любое количество моделей, которое вы тестируете\n",
    "\n",
    "k = 10\n",
    "\n",
    "metrics = {\n",
    "    \"precision\": Precision(\n",
    "        k\n",
    "    ),  # Это целевая метрика для задания, остальные можно убрать если они не интересны\n",
    "    # \"ndcg\": NDCG(k),\n",
    "    # \"serendipity\": Serendipity(k),\n",
    "    # \"pop_bias\": AvgRecPopularity(k, normalize=True),\n",
    "    \"novelty\": MeanInvUserFreq(\n",
    "        k\n",
    "    ),  # Это целевая метрика для задания, остальные можно убрать если они не интересны\n",
    "}\n",
    "\n",
    "splitter = TimeRangeSplitter(  # time-based валидация\n",
    "    \"7D\",  # скользящее окно по 7 дней\n",
    "    n_splits=1,  # 1 фолд (делаем для ускорения расчётов)\n",
    "    filter_cold_users=True,  # только hot юзеры в тесте\n",
    "    filter_cold_items=True,  # только hot айтемы в тесте\n",
    "    filter_already_seen=True,  # дропаем из теста просмотры трейна\n",
    ")"
   ]
  },
  {
   "cell_type": "code",
   "execution_count": 26,
   "id": "f070e528",
   "metadata": {},
   "outputs": [],
   "source": [
    "res = cross_validate(\n",
    "    current_dataset,\n",
    "    splitter,\n",
    "    metrics,\n",
    "    test_models,\n",
    "    k=10,\n",
    "    filter_viewed=True,\n",
    ")\n",
    "metrics_res = pd.DataFrame(res[\"metrics\"])\n",
    "\n",
    "# Результаты можно сохранить в csv для логирования экспериментов\n",
    "metrics_res.to_csv(\"metric_result_final.csv\", index=False)"
   ]
  },
  {
   "cell_type": "code",
   "execution_count": 27,
   "id": "4f303f0e",
   "metadata": {},
   "outputs": [
    {
     "data": {
      "text/html": [
       "<div>\n",
       "<style scoped>\n",
       "    .dataframe tbody tr th:only-of-type {\n",
       "        vertical-align: middle;\n",
       "    }\n",
       "\n",
       "    .dataframe tbody tr th {\n",
       "        vertical-align: top;\n",
       "    }\n",
       "\n",
       "    .dataframe thead th {\n",
       "        text-align: right;\n",
       "    }\n",
       "</style>\n",
       "<table border=\"1\" class=\"dataframe\">\n",
       "  <thead>\n",
       "    <tr style=\"text-align: right;\">\n",
       "      <th></th>\n",
       "      <th>model</th>\n",
       "      <th>i_split</th>\n",
       "      <th>precision</th>\n",
       "      <th>novelty</th>\n",
       "    </tr>\n",
       "  </thead>\n",
       "  <tbody>\n",
       "    <tr>\n",
       "      <th>0</th>\n",
       "      <td>lightfm</td>\n",
       "      <td>0</td>\n",
       "      <td>0.033728</td>\n",
       "      <td>3.81349</td>\n",
       "    </tr>\n",
       "  </tbody>\n",
       "</table>\n",
       "</div>"
      ],
      "text/plain": [
       "     model  i_split  precision  novelty\n",
       "0  lightfm        0   0.033728  3.81349"
      ]
     },
     "execution_count": 27,
     "metadata": {},
     "output_type": "execute_result"
    }
   ],
   "source": [
    "metrics_res"
   ]
  },
  {
   "cell_type": "code",
   "execution_count": null,
   "id": "609f61ee-f81c-4060-bc50-a84d3ee68dd3",
   "metadata": {},
   "outputs": [],
   "source": [
    "from rectools.models import ModelBase\n",
    "\n",
    "\n",
    "class YourModel(ModelBase):  # для собственных моделей / пайплайнов\n",
    "    pass"
   ]
  },
  {
   "cell_type": "code",
   "execution_count": null,
   "id": "447563c3-7992-4515-9246-826aba7fef5f",
   "metadata": {},
   "outputs": [],
   "source": []
  },
  {
   "cell_type": "code",
   "execution_count": null,
   "id": "da0ad24c-e010-4692-92c2-52437e1c37f9",
   "metadata": {},
   "outputs": [],
   "source": []
  }
 ],
 "metadata": {
  "kernelspec": {
   "display_name": "Python 3 (ipykernel)",
   "language": "python",
   "name": "python3"
  },
  "language_info": {
   "codemirror_mode": {
    "name": "ipython",
    "version": 3
   },
   "file_extension": ".py",
   "mimetype": "text/x-python",
   "name": "python",
   "nbconvert_exporter": "python",
   "pygments_lexer": "ipython3",
   "version": "3.11.9"
  }
 },
 "nbformat": 4,
 "nbformat_minor": 5
}
